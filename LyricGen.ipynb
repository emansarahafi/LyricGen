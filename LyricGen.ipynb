{
 "cells": [
  {
   "cell_type": "markdown",
   "id": "48c6ea1b",
   "metadata": {},
   "source": [
    "<a href=\"https://www.kaggle.com/code/emanafi/lyricgen?scriptVersionId=257530258\" target=\"_blank\"><img align=\"left\" alt=\"Kaggle\" title=\"Open in Kaggle\" src=\"https://kaggle.com/static/images/open-in-kaggle.svg\"></a>"
   ]
  },
  {
   "cell_type": "markdown",
   "id": "9bfc2cde",
   "metadata": {
    "papermill": {
     "duration": 0.006984,
     "end_time": "2025-08-22T14:54:55.586755",
     "exception": false,
     "start_time": "2025-08-22T14:54:55.579771",
     "status": "completed"
    },
    "tags": []
   },
   "source": [
    "**LyricGen - An AI-Powered Lyric Completion Tool**\n",
    "\n",
    "By Eman Sarah Afi\n",
    "\n",
    "_Fall 2024_"
   ]
  },
  {
   "cell_type": "markdown",
   "id": "d3dc6113",
   "metadata": {
    "papermill": {
     "duration": 0.005892,
     "end_time": "2025-08-22T14:54:55.59778",
     "exception": false,
     "start_time": "2025-08-22T14:54:55.591888",
     "status": "completed"
    },
    "tags": []
   },
   "source": [
    "# **1. Data Cleaning & Preprocessing:**"
   ]
  },
  {
   "cell_type": "code",
   "execution_count": 1,
   "id": "203a4c15",
   "metadata": {
    "execution": {
     "iopub.execute_input": "2025-08-22T14:54:55.609303Z",
     "iopub.status.busy": "2025-08-22T14:54:55.608914Z",
     "iopub.status.idle": "2025-08-22T14:55:16.136111Z",
     "shell.execute_reply": "2025-08-22T14:55:16.135196Z"
    },
    "papermill": {
     "duration": 20.535175,
     "end_time": "2025-08-22T14:55:16.137924",
     "exception": false,
     "start_time": "2025-08-22T14:54:55.602749",
     "status": "completed"
    },
    "tags": []
   },
   "outputs": [
    {
     "name": "stdout",
     "output_type": "stream",
     "text": [
      "Libraries imported successfully!\n"
     ]
    }
   ],
   "source": [
    "import os\n",
    "import pandas as pd\n",
    "import random\n",
    "import re\n",
    "import matplotlib.pyplot as plt\n",
    "import numpy as np\n",
    "from collections import Counter\n",
    "from sklearn.utils import resample\n",
    "from sklearn.model_selection import train_test_split\n",
    "from nltk.translate.bleu_score import sentence_bleu, SmoothingFunction\n",
    "import tensorflow as tf\n",
    "from tensorflow.keras.preprocessing.text import Tokenizer\n",
    "from tensorflow.keras.preprocessing.sequence import pad_sequences\n",
    "from tensorflow.keras.layers import Input, Embedding, Dense, LayerNormalization, Dropout, MultiHeadAttention, Layer, Add\n",
    "from tensorflow.keras.models import Model\n",
    "\n",
    "# Suppress TensorFlow warnings\n",
    "os.environ['TF_CPP_MIN_LOG_LEVEL'] = '2'\n",
    "\n",
    "print(\"Libraries imported successfully!\")"
   ]
  },
  {
   "cell_type": "code",
   "execution_count": 2,
   "id": "8ffdd257",
   "metadata": {
    "_cell_guid": "b1076dfc-b9ad-4769-8c92-a6c4dae69d19",
    "_uuid": "8f2839f25d086af736a60e9eeb907d3b93b6e0e5",
    "execution": {
     "iopub.execute_input": "2025-08-22T14:55:16.15003Z",
     "iopub.status.busy": "2025-08-22T14:55:16.149292Z",
     "iopub.status.idle": "2025-08-22T14:59:20.493505Z",
     "shell.execute_reply": "2025-08-22T14:59:20.492546Z"
    },
    "papermill": {
     "duration": 244.357026,
     "end_time": "2025-08-22T14:59:20.500413",
     "exception": false,
     "start_time": "2025-08-22T14:55:16.143387",
     "status": "completed"
    },
    "tags": []
   },
   "outputs": [
    {
     "name": "stdout",
     "output_type": "stream",
     "text": [
      "               title  tag     artist  year   views  \\\n",
      "0          Killa Cam  rap    Cam'ron  2004  173166   \n",
      "1         Can I Live  rap      JAY-Z  1996  468624   \n",
      "2  Forgive Me Father  rap   Fabolous  2003    4743   \n",
      "3       Down and Out  rap    Cam'ron  2004  144404   \n",
      "4             Fly In  rap  Lil Wayne  2005   78271   \n",
      "5     Lollipop Remix  rap  Lil Wayne  2008  580832   \n",
      "6         Im Not You  rap     Clipse  2002   28645   \n",
      "7        Family Ties  rap    Cam'ron  2004   41960   \n",
      "8  Rockin and Rollin  rap    Cam'ron  1998    6399   \n",
      "9      Lord You Know  rap    Cam'ron  2004   11882   \n",
      "\n",
      "                                       features  \\\n",
      "0                   {\"Cam\\\\'ron\",\"Opera Steve\"}   \n",
      "1                                            {}   \n",
      "2                                            {}   \n",
      "3  {\"Cam\\\\'ron\",\"Kanye West\",\"Syleena Johnson\"}   \n",
      "4                                            {}   \n",
      "5                 {\"Kanye West\",\"Static Major\"}   \n",
      "6   {Jadakiss,\"Styles P\",\"Roscoe P. Coldchain\"}   \n",
      "7                     {\"Cam\\\\'ron\",\"Lady Wray\"}   \n",
      "8                                 {\"Cam\\\\'ron\"}   \n",
      "9          {\"Cam\\\\'ron\",\"Juelz Santana\",Jaheim}   \n",
      "\n",
      "                                              lyrics  id language_cld3  \\\n",
      "0  [Chorus: Opera Steve & Cam'ron]\\nKilla Cam, Ki...   1            en   \n",
      "1  [Produced by Irv Gotti]\\n\\n[Intro]\\nYeah, hah,...   3            en   \n",
      "2  Maybe cause I'm eatin\\nAnd these bastards fien...   4            en   \n",
      "3  [Produced by Kanye West and Brian Miller]\\n\\n[...   5            en   \n",
      "4  [Intro]\\nSo they ask me\\n\"Young boy\\nWhat you ...   6            en   \n",
      "5  [Intro: Lil Wayne]\\nHaha\\nUh-huh\\nNo homo (You...   7            en   \n",
      "6  [Intro: Pusha T]\\nNo, no, no!\\nI told you, I l...   8            en   \n",
      "7  [Verse 1: Cam'ron]\\nKilla, Dipset\\nMan I spit ...   9            en   \n",
      "8  [Verse 1]\\nAy yo you wonder who I are\\nI guzzl...  10            en   \n",
      "9  [Chorus: Jaheim]\\nNow Lord you know, just how ...  11            en   \n",
      "\n",
      "  language_ft language  \n",
      "0          en       en  \n",
      "1          en       en  \n",
      "2          en       en  \n",
      "3          en       en  \n",
      "4          en       en  \n",
      "5          en       en  \n",
      "6          en       en  \n",
      "7          en       en  \n",
      "8          en       en  \n",
      "9          en       en  \n",
      "<class 'pandas.core.frame.DataFrame'>\n",
      "RangeIndex: 5134856 entries, 0 to 5134855\n",
      "Data columns (total 11 columns):\n",
      " #   Column         Dtype \n",
      "---  ------         ----- \n",
      " 0   title          object\n",
      " 1   tag            object\n",
      " 2   artist         object\n",
      " 3   year           int64 \n",
      " 4   views          int64 \n",
      " 5   features       object\n",
      " 6   lyrics         object\n",
      " 7   id             int64 \n",
      " 8   language_cld3  object\n",
      " 9   language_ft    object\n",
      " 10  language       object\n",
      "dtypes: int64(3), object(8)\n",
      "memory usage: 430.9+ MB\n",
      "None\n"
     ]
    }
   ],
   "source": [
    "# Load the dataset\n",
    "dataset = pd.read_csv('/kaggle/input/genius-song-lyrics-with-language-information/song_lyrics.csv')\n",
    "\n",
    "# Display the first 10 rows of the dataset\n",
    "print(dataset.head(10))\n",
    "\n",
    "# Display dataset info (columns, data-types, non-null counts)\n",
    "print(dataset.info())"
   ]
  },
  {
   "cell_type": "code",
   "execution_count": 3,
   "id": "fab8d76f",
   "metadata": {
    "execution": {
     "iopub.execute_input": "2025-08-22T14:59:20.511951Z",
     "iopub.status.busy": "2025-08-22T14:59:20.511643Z",
     "iopub.status.idle": "2025-08-22T14:59:22.671676Z",
     "shell.execute_reply": "2025-08-22T14:59:22.670687Z"
    },
    "papermill": {
     "duration": 2.167865,
     "end_time": "2025-08-22T14:59:22.673521",
     "exception": false,
     "start_time": "2025-08-22T14:59:20.505656",
     "status": "completed"
    },
    "tags": []
   },
   "outputs": [
    {
     "name": "stdout",
     "output_type": "stream",
     "text": [
      "title            0.003661\n",
      "tag              0.000000\n",
      "artist           0.000000\n",
      "year             0.000000\n",
      "views            0.000000\n",
      "features         0.000000\n",
      "lyrics           0.000000\n",
      "id               0.000000\n",
      "language_cld3    1.771539\n",
      "language_ft      2.615886\n",
      "language         4.419170\n",
      "dtype: float64\n"
     ]
    }
   ],
   "source": [
    "# Print the percentage of missing values per column\n",
    "print(dataset.isnull().sum() / len(dataset) * 100)"
   ]
  },
  {
   "cell_type": "code",
   "execution_count": 4,
   "id": "99625639",
   "metadata": {
    "execution": {
     "iopub.execute_input": "2025-08-22T14:59:22.685499Z",
     "iopub.status.busy": "2025-08-22T14:59:22.685216Z",
     "iopub.status.idle": "2025-08-22T14:59:24.488729Z",
     "shell.execute_reply": "2025-08-22T14:59:24.487677Z"
    },
    "papermill": {
     "duration": 1.811411,
     "end_time": "2025-08-22T14:59:24.490517",
     "exception": false,
     "start_time": "2025-08-22T14:59:22.679106",
     "status": "completed"
    },
    "tags": []
   },
   "outputs": [
    {
     "name": "stdout",
     "output_type": "stream",
     "text": [
      "Percentage of rows with 'en': 65.71%\n",
      "Percentage of rows with 'fr': 3.69%\n",
      "Percentage of rows with 'ar': 0.19%\n"
     ]
    }
   ],
   "source": [
    "# Define target languages (English, French, Arabic)\n",
    "target_languages = ['en', 'fr', 'ar']\n",
    "\n",
    "# Total rows in the dataset\n",
    "total_rows = len(dataset)\n",
    "\n",
    "# Calculate the percentage for each target language\n",
    "percentages = {\n",
    "    lang: (len(dataset[dataset['language'] == lang]) / total_rows) * 100\n",
    "    for lang in target_languages\n",
    "}\n",
    "\n",
    "# Display the percentages\n",
    "for lang, percentage in percentages.items():\n",
    "    print(f\"Percentage of rows with '{lang}': {percentage:.2f}%\")"
   ]
  },
  {
   "cell_type": "markdown",
   "id": "fac8fcbd",
   "metadata": {
    "papermill": {
     "duration": 0.005347,
     "end_time": "2025-08-22T14:59:24.501635",
     "exception": false,
     "start_time": "2025-08-22T14:59:24.496288",
     "status": "completed"
    },
    "tags": []
   },
   "source": [
    "Naturally, considering that the intention is to work with three languages (English, French & Arabic), we have to filter the dataset to include the rows with these languages only. \n",
    "\n",
    "However, considering that the percentage of 'en' is extremely high, which could lead to performance issues on Kaggle, it is recommended to take a sample of rows that have 'en' as the language.\n",
    "\n",
    "Other than that, the text is cleaned by removing punctuation, unique characters, and converting it to lowercase (except for Arabic). Plus, structural tags (e.g., [Chorus: ...]) will be removed to reduce the noise, and repeated lyrics were handled to prevent redundancy in tokenized sequences.\n",
    "\n",
    "Finally, the dataset should only keep the columns it needs for this project, which in this case, the kept columns are 'language' and 'cleaned_lyrics'."
   ]
  },
  {
   "cell_type": "code",
   "execution_count": 5,
   "id": "2a64ebce",
   "metadata": {
    "execution": {
     "iopub.execute_input": "2025-08-22T14:59:24.513747Z",
     "iopub.status.busy": "2025-08-22T14:59:24.512997Z",
     "iopub.status.idle": "2025-08-22T14:59:31.368233Z",
     "shell.execute_reply": "2025-08-22T14:59:31.367321Z"
    },
    "papermill": {
     "duration": 6.863336,
     "end_time": "2025-08-22T14:59:31.370239",
     "exception": false,
     "start_time": "2025-08-22T14:59:24.506903",
     "status": "completed"
    },
    "tags": []
   },
   "outputs": [
    {
     "name": "stdout",
     "output_type": "stream",
     "text": [
      "Group sizes before sampling: language\n",
      "en    3374198\n",
      "fr     189436\n",
      "ar       9889\n",
      "Name: count, dtype: int64\n",
      "Final dataset columns: ['language', 'cleaned_lyrics']\n",
      "Number of rows: 27000\n",
      "language\n",
      "en    9000\n",
      "fr    9000\n",
      "ar    9000\n",
      "Name: count, dtype: int64\n",
      "        language                                     cleaned_lyrics\n",
      "2645152       en  dont want to be along anymore dont want to hea...\n",
      "1939177       en  africa rappers fuck you i dey greet so you guy...\n",
      "969631        en  every time i kiss somebody new i make believe ...\n",
      "4041818       en  i am the one who calls your name the day you l...\n",
      "1976310       en  hella sketchy im always glistenin im always gl...\n"
     ]
    }
   ],
   "source": [
    "# Filter dataset using the 'language' column and create an explicit copy\n",
    "filtered_dataset = dataset[dataset['language'].isin(target_languages)].copy()\n",
    "\n",
    "# Function for cleaning multilingual lyrics (removes punctuation)\n",
    "def clean_multilingual_lyrics_simple(lyric, lang):\n",
    "    if pd.isnull(lyric):  # Handle missing lyrics\n",
    "        return \"\"\n",
    "    \n",
    "    # Remove structural tags (e.g., [Chorus: Opera Steve & Cam'ron])\n",
    "    lyric = re.sub(r\"\\[.*?\\]\", \"\", lyric)\n",
    "    \n",
    "    # Handle language-specific cleaning\n",
    "    if lang == 'en':\n",
    "        lyric = re.sub(r\"[^a-zA-Z0-9\\s]\", \"\", lyric).lower()\n",
    "    elif lang == 'fr':\n",
    "        lyric = re.sub(r\"[^a-zA-ZÀ-ÿ0-9\\s]\", \"\", lyric).lower()\n",
    "    elif lang == 'ar':\n",
    "        lyric = re.sub(r\"[^\\u0600-\\u06FF0-9\\s]\", \"\", lyric)\n",
    "    \n",
    "    # Remove extra whitespace\n",
    "    lyric = \" \".join(lyric.split())\n",
    "    return lyric\n",
    "\n",
    "# Inspect group sizes\n",
    "group_sizes = filtered_dataset['language'].value_counts()\n",
    "print(\"Group sizes before sampling:\", group_sizes)\n",
    "\n",
    "# Set target sample size for each language\n",
    "target_sample_size = 9000\n",
    "\n",
    "# Sample data for each language\n",
    "sampled_en = filtered_dataset[filtered_dataset['language'] == 'en'].sample(\n",
    "    n=min(target_sample_size, len(filtered_dataset[filtered_dataset['language'] == 'en'])),\n",
    "    random_state=42\n",
    ")\n",
    "\n",
    "sampled_fr = filtered_dataset[filtered_dataset['language'] == 'fr'].sample(\n",
    "    n=min(target_sample_size, len(filtered_dataset[filtered_dataset['language'] == 'fr'])),\n",
    "    random_state=42\n",
    ")\n",
    "\n",
    "sampled_ar = filtered_dataset[filtered_dataset['language'] == 'ar'].sample(\n",
    "    n=min(target_sample_size, len(filtered_dataset[filtered_dataset['language'] == 'ar'])),\n",
    "    random_state=42\n",
    ")\n",
    "\n",
    "# Combine all sampled data\n",
    "sampled_dataset = pd.concat([sampled_en, sampled_fr, sampled_ar])\n",
    "\n",
    "# Apply the cleaning function to the sampled dataset\n",
    "sampled_dataset = sampled_dataset.assign(\n",
    "    cleaned_lyrics=sampled_dataset.apply(\n",
    "        lambda row: clean_multilingual_lyrics_simple(row['lyrics'], row['language']),\n",
    "        axis=1\n",
    "    )\n",
    ")\n",
    "\n",
    "# Keep only 'language' and 'cleaned_lyrics' columns\n",
    "sampled_dataset = sampled_dataset[['language', 'cleaned_lyrics']]\n",
    "\n",
    "# Display dataset summary\n",
    "print(f\"Final dataset columns: {sampled_dataset.columns.tolist()}\")\n",
    "print(f\"Number of rows: {len(sampled_dataset)}\")\n",
    "print(sampled_dataset['language'].value_counts())\n",
    "print(sampled_dataset.head())"
   ]
  },
  {
   "cell_type": "markdown",
   "id": "44d293ac",
   "metadata": {
    "papermill": {
     "duration": 0.005726,
     "end_time": "2025-08-22T14:59:31.382424",
     "exception": false,
     "start_time": "2025-08-22T14:59:31.376698",
     "status": "completed"
    },
    "tags": []
   },
   "source": [
    "After the cleaning phase, it is preferred to check if there are any duplicated rows before proceeding with the embedding & tokenization phase. "
   ]
  },
  {
   "cell_type": "code",
   "execution_count": 6,
   "id": "c962fc42",
   "metadata": {
    "execution": {
     "iopub.execute_input": "2025-08-22T14:59:31.395308Z",
     "iopub.status.busy": "2025-08-22T14:59:31.395035Z",
     "iopub.status.idle": "2025-08-22T14:59:31.83784Z",
     "shell.execute_reply": "2025-08-22T14:59:31.836899Z"
    },
    "papermill": {
     "duration": 0.451258,
     "end_time": "2025-08-22T14:59:31.839623",
     "exception": false,
     "start_time": "2025-08-22T14:59:31.388365",
     "status": "completed"
    },
    "tags": []
   },
   "outputs": [
    {
     "name": "stdout",
     "output_type": "stream",
     "text": [
      "Percentage of duplicated rows: 0.27%\n",
      "Percentage of duplicated rows: 0.00%\n"
     ]
    }
   ],
   "source": [
    "# Number of duplicated rows\n",
    "num_duplicates = sampled_dataset.duplicated().sum()\n",
    "\n",
    "# Percentage of duplicated rows\n",
    "percentage_duplicates = (num_duplicates / len(sampled_dataset)) * 100\n",
    "print(f\"Percentage of duplicated rows: {percentage_duplicates:.2f}%\")\n",
    "\n",
    "final_dataset = sampled_dataset.drop_duplicates()\n",
    "\n",
    "# Number of duplicated rows\n",
    "num_duplicates = final_dataset.duplicated().sum()\n",
    "\n",
    "# Check for duplicated rows again\n",
    "percentage_duplicates = (num_duplicates / len(final_dataset)) * 100\n",
    "print(f\"Percentage of duplicated rows: {percentage_duplicates:.2f}%\")"
   ]
  },
  {
   "cell_type": "code",
   "execution_count": 7,
   "id": "5a0b02c9",
   "metadata": {
    "execution": {
     "iopub.execute_input": "2025-08-22T14:59:31.852493Z",
     "iopub.status.busy": "2025-08-22T14:59:31.852235Z",
     "iopub.status.idle": "2025-08-22T14:59:31.860108Z",
     "shell.execute_reply": "2025-08-22T14:59:31.859236Z"
    },
    "papermill": {
     "duration": 0.016196,
     "end_time": "2025-08-22T14:59:31.861936",
     "exception": false,
     "start_time": "2025-08-22T14:59:31.84574",
     "status": "completed"
    },
    "tags": []
   },
   "outputs": [
    {
     "name": "stdout",
     "output_type": "stream",
     "text": [
      "language          0.0\n",
      "cleaned_lyrics    0.0\n",
      "dtype: float64\n"
     ]
    }
   ],
   "source": [
    "# Print the percentage of missing values per column\n",
    "print(final_dataset.isnull().sum() / len(final_dataset) * 100)"
   ]
  },
  {
   "cell_type": "markdown",
   "id": "a9c4cbb9",
   "metadata": {
    "papermill": {
     "duration": 0.00597,
     "end_time": "2025-08-22T14:59:31.873904",
     "exception": false,
     "start_time": "2025-08-22T14:59:31.867934",
     "status": "completed"
    },
    "tags": []
   },
   "source": [
    "# **2. Embedding Preparation:**"
   ]
  },
  {
   "cell_type": "markdown",
   "id": "050438ca",
   "metadata": {
    "papermill": {
     "duration": 0.005836,
     "end_time": "2025-08-22T14:59:31.885915",
     "exception": false,
     "start_time": "2025-08-22T14:59:31.880079",
     "status": "completed"
    },
    "tags": []
   },
   "source": [
    "The purpose of the embedding phase here is to transform text data into numerical representations suitable for Transformer-based models. \n",
    "\n",
    "To explain further:\n",
    "- **max_vocab_size** limits the vocabulary to the most frequent 30,000 words for optimal performance\n",
    "- **max_sequence_length** sets a fixed sequence length of 80 for uniform input size\n",
    "\n",
    "These values were chosen while taking into consideration the complexity of the multilingual and diverse nature of the Genius dataset, as well as memory constraints on Kaggle.\n",
    "\n",
    "**Important Note on Vocabulary Management:**\n",
    "The tokenizer discovers all unique tokens in the dataset but uses only the top 30,000 most frequent tokens during training and generation. This approach:\n",
    "- **Reduces memory usage** by limiting the embedding and output layer sizes\n",
    "- **Improves training stability** by focusing on the most relevant vocabulary\n",
    "- **Prevents out-of-vocabulary issues** during generation by maintaining a consistent vocabulary size\n",
    "\n",
    "Then, tokenization is done for all languages where the cleaned lyrics are converted into sequences of integers, and out-of-vocabulary words are replaced by a special token (`<OOV>`). After that, padding ensures that all sequences have the same length for compatibility reasons."
   ]
  },
  {
   "cell_type": "code",
   "execution_count": 8,
   "id": "bca227fd",
   "metadata": {
    "execution": {
     "iopub.execute_input": "2025-08-22T14:59:31.899383Z",
     "iopub.status.busy": "2025-08-22T14:59:31.898607Z",
     "iopub.status.idle": "2025-08-22T14:59:47.0603Z",
     "shell.execute_reply": "2025-08-22T14:59:47.059169Z"
    },
    "papermill": {
     "duration": 15.170412,
     "end_time": "2025-08-22T14:59:47.062205",
     "exception": false,
     "start_time": "2025-08-22T14:59:31.891793",
     "status": "completed"
    },
    "tags": []
   },
   "outputs": [
    {
     "name": "stdout",
     "output_type": "stream",
     "text": [
      "Fitting a unified tokenizer on all languages...\n",
      "Tokenizer fitting complete.\n",
      "Using configured vocabulary size: 30000\n",
      "Full discovered vocabulary size: 510228\n",
      "Note: Tokenizer discovered 510228 unique tokens,\n",
      "but will use only the top 30000 most frequent tokens.\n",
      "Converting texts to sequences...\n",
      "Padding complete.\n",
      "\n",
      "Total padded sequences: 26928\n",
      "Training samples: 21542\n",
      "Validation samples: 2693\n",
      "Test samples: 2693\n",
      "\n",
      "Example processed sequence (from X_train): \n",
      "[   30    36    66    50    51    19 25389  8735    66    50    51    19\n",
      " 23022  8735    59  6311    10   113   850    66    50    51    19 25389\n",
      "  8735    66    50    51    19 23022  8735    59  6311    10   113   850\n",
      "     5    90   367    10   947   165     2  3991   944  2444    23     7\n",
      "  3991    27  1077   388  2348  9781  4833    52  1954     7  1115    52\n",
      "    51  2833   170     1   571   211   301  1502     1  4994   200     3\n",
      "   146   414    90   239 18122   706    57   192]\n",
      "\n",
      "Data is now correctly prepared for the decoder-only transformer.\n"
     ]
    }
   ],
   "source": [
    "# Define parameters\n",
    "max_vocab_size = 30000\n",
    "max_sequence_length = 80\n",
    "sos_token = \"<sos>\"\n",
    "eos_token = \"<eos>\"\n",
    "\n",
    "# 1. Create a single, unified tokenizer for all languages\n",
    "tokenizer = Tokenizer(num_words=max_vocab_size, oov_token=\"<OOV>\")\n",
    "\n",
    "# 2. Prepare all texts with special tokens, INCLUDING a language token\n",
    "all_lyrics_with_lang = final_dataset[['cleaned_lyrics', 'language']].astype(str).values.tolist()\n",
    "texts_with_tokens = [f\"<{lang}> {sos_token} {text} {eos_token}\" for text, lang in all_lyrics_with_lang]\n",
    "\n",
    "# 3. Fit the single tokenizer on all available text data\n",
    "print(\"Fitting a unified tokenizer on all languages...\")\n",
    "tokenizer.fit_on_texts(texts_with_tokens)\n",
    "print(\"Tokenizer fitting complete.\")\n",
    "\n",
    "# 4. Use the configured max vocabulary size (not the full discovered size)\n",
    "vocab_size = max_vocab_size\n",
    "print(f\"Using configured vocabulary size: {vocab_size}\")\n",
    "print(f\"Full discovered vocabulary size: {len(tokenizer.word_index) + 1}\")\n",
    "\n",
    "# Verify that our tokenizer will respect the num_words limit\n",
    "if len(tokenizer.word_index) + 1 > max_vocab_size:\n",
    "    print(f\"Note: Tokenizer discovered {len(tokenizer.word_index) + 1} unique tokens,\")\n",
    "    print(f\"but will use only the top {max_vocab_size} most frequent tokens.\")\n",
    "else:\n",
    "    print(f\"All discovered tokens ({len(tokenizer.word_index) + 1}) fit within the limit.\")\n",
    "\n",
    "# 5. Convert all texts to integer sequences\n",
    "print(\"Converting texts to sequences...\")\n",
    "sequences = tokenizer.texts_to_sequences(texts_with_tokens)\n",
    "\n",
    "# 6. Pad all sequences to the same fixed length\n",
    "X_padded = pad_sequences(\n",
    "    sequences, \n",
    "    maxlen=max_sequence_length, \n",
    "    padding='post', \n",
    "    truncating='post',\n",
    "    dtype='int32'\n",
    ")\n",
    "print(\"Padding complete.\")\n",
    "\n",
    "# 7. Split the single dataset into training, validation, and test sets\n",
    "X_train, X_temp = train_test_split(X_padded, test_size=0.2, random_state=42)\n",
    "X_val, X_test = train_test_split(X_temp, test_size=0.5, random_state=42)\n",
    "\n",
    "# Final Summaries\n",
    "print(f\"\\nTotal padded sequences: {len(X_padded)}\")\n",
    "print(f\"Training samples: {len(X_train)}\")\n",
    "print(f\"Validation samples: {len(X_val)}\")\n",
    "print(f\"Test samples: {len(X_test)}\")\n",
    "\n",
    "# Example data\n",
    "print(f\"\\nExample processed sequence (from X_train): \\n{X_train[0]}\")\n",
    "print(\"\\nData is now correctly prepared for the decoder-only transformer.\")"
   ]
  },
  {
   "cell_type": "markdown",
   "id": "fa752446",
   "metadata": {
    "papermill": {
     "duration": 0.006187,
     "end_time": "2025-08-22T14:59:47.074779",
     "exception": false,
     "start_time": "2025-08-22T14:59:47.068592",
     "status": "completed"
    },
    "tags": []
   },
   "source": [
    "# **3. Output Readiness Check:**"
   ]
  },
  {
   "cell_type": "markdown",
   "id": "82ca8219",
   "metadata": {
    "papermill": {
     "duration": 0.005712,
     "end_time": "2025-08-22T14:59:47.086473",
     "exception": false,
     "start_time": "2025-08-22T14:59:47.080761",
     "status": "completed"
    },
    "tags": []
   },
   "source": [
    "This code segment will simply check if:\n",
    "- The output shape is a 2D array for Transformer input.\n",
    "- The sequences are of type int32 to ensure compatibility with embedding layers.\n",
    "- Labels are included and match the number of sequences."
   ]
  },
  {
   "cell_type": "code",
   "execution_count": 9,
   "id": "23de6760",
   "metadata": {
    "execution": {
     "iopub.execute_input": "2025-08-22T14:59:47.099456Z",
     "iopub.status.busy": "2025-08-22T14:59:47.098703Z",
     "iopub.status.idle": "2025-08-22T14:59:47.107042Z",
     "shell.execute_reply": "2025-08-22T14:59:47.106132Z"
    },
    "papermill": {
     "duration": 0.016534,
     "end_time": "2025-08-22T14:59:47.108738",
     "exception": false,
     "start_time": "2025-08-22T14:59:47.092204",
     "status": "completed"
    },
    "tags": []
   },
   "outputs": [
    {
     "name": "stdout",
     "output_type": "stream",
     "text": [
      "Shape of the full dataset (X_padded): (26928, 80)\n",
      "Shape of the training set (X_train): (21542, 80)\n",
      "Data type of padded sequences (X_padded): int32\n",
      "\n",
      "Maximum token ID found in the dataset: 29999\n",
      "Tokenizer vocabulary size (len(word_index) + 1): 30000\n",
      "Token IDs are all within the vocabulary range.\n",
      "\n",
      "--- Example of how data is fed to the model ---\n",
      "Original sequence (from X_train[0]): [   30    36    66    50    51    19 25389  8735    66    50    51    19\n",
      " 23022  8735    59  6311    10   113   850    66    50    51    19 25389\n",
      "  8735    66    50    51    19 23022  8735    59  6311    10   113   850\n",
      "     5    90   367    10   947   165     2  3991   944  2444    23     7\n",
      "  3991    27  1077   388  2348  9781  4833    52  1954     7  1115    52\n",
      "    51  2833   170     1   571   211   301  1502     1  4994   200     3\n",
      "   146   414    90   239 18122   706    57   192]\n",
      "Model Input (sequence[:-1]):         [   30    36    66    50    51    19 25389  8735    66    50    51    19\n",
      " 23022  8735    59  6311    10   113   850    66    50    51    19 25389\n",
      "  8735    66    50    51    19 23022  8735    59  6311    10   113   850\n",
      "     5    90   367    10   947   165     2  3991   944  2444    23     7\n",
      "  3991    27  1077   388  2348  9781  4833    52  1954     7  1115    52\n",
      "    51  2833   170     1   571   211   301  1502     1  4994   200     3\n",
      "   146   414    90   239 18122   706    57]\n",
      "Model Target (sequence[1:]):          [   36    66    50    51    19 25389  8735    66    50    51    19 23022\n",
      "  8735    59  6311    10   113   850    66    50    51    19 25389  8735\n",
      "    66    50    51    19 23022  8735    59  6311    10   113   850     5\n",
      "    90   367    10   947   165     2  3991   944  2444    23     7  3991\n",
      "    27  1077   388  2348  9781  4833    52  1954     7  1115    52    51\n",
      "  2833   170     1   571   211   301  1502     1  4994   200     3   146\n",
      "   414    90   239 18122   706    57   192]\n",
      "\n",
      "\n",
      "Processed data is ready for the Transformer model.\n"
     ]
    }
   ],
   "source": [
    "# Check the shape of the full padded dataset\n",
    "print(f\"Shape of the full dataset (X_padded): {X_padded.shape}\")\n",
    "assert len(X_padded.shape) == 2, \"Padded data should be 2D (num_samples, max_sequence_length).\"\n",
    "\n",
    "# Check the shape of the training set as a representative sample\n",
    "print(f\"Shape of the training set (X_train): {X_train.shape}\")\n",
    "assert len(X_train.shape) == 2, \"Training data should be 2D (num_samples, max_sequence_length).\"\n",
    "\n",
    "# Check the data type of the sequences\n",
    "print(f\"Data type of padded sequences (X_padded): {X_padded.dtype}\")\n",
    "assert X_padded.dtype == 'int32', \"Padded sequences should be of type int32 for embedding layers.\"\n",
    "\n",
    "# Validate the vocabulary size against the maximum token ID in the dataset\n",
    "max_token_id = np.max(X_padded)\n",
    "print(f\"\\nMaximum token ID found in the dataset: {max_token_id}\")\n",
    "print(f\"Tokenizer vocabulary size (len(word_index) + 1): {vocab_size}\")\n",
    "assert max_token_id < vocab_size, f\"A token ID ({max_token_id}) exceeds the vocabulary size ({vocab_size}).\"\n",
    "print(\"Token IDs are all within the vocabulary range.\")\n",
    "\n",
    "# Demonstrate how a single sequence is split into an input/target pair for the model\n",
    "example_input_for_model = X_train[0, :-1]\n",
    "example_target_for_model = X_train[0, 1:]\n",
    "\n",
    "print(\"\\n--- Example of how data is fed to the model ---\")\n",
    "print(\"Original sequence (from X_train[0]):\", X_train[0])\n",
    "print(\"Model Input (sequence[:-1]):        \", example_input_for_model)\n",
    "print(\"Model Target (sequence[1:]):         \", example_target_for_model)\n",
    "\n",
    "print(\"\\n\\nProcessed data is ready for the Transformer model.\")"
   ]
  },
  {
   "cell_type": "markdown",
   "id": "87dcc5f7",
   "metadata": {
    "papermill": {
     "duration": 0.005859,
     "end_time": "2025-08-22T14:59:47.120449",
     "exception": false,
     "start_time": "2025-08-22T14:59:47.11459",
     "status": "completed"
    },
    "tags": []
   },
   "source": [
    "# **4. Transformer Architecture:**"
   ]
  },
  {
   "cell_type": "markdown",
   "id": "423737c3",
   "metadata": {
    "papermill": {
     "duration": 0.005659,
     "end_time": "2025-08-22T14:59:47.132207",
     "exception": false,
     "start_time": "2025-08-22T14:59:47.126548",
     "status": "completed"
    },
    "tags": []
   },
   "source": [
    "This code defines a custom and highly flexible TensorFlow layer called `PositionalEncoding`. Its purpose is to inject information about the position of each token into the sequence embeddings, which is crucial for Transformer models that do not otherwise have an inherent sense of order.\n",
    "\n",
    "This updated version is designed to be robust for generative tasks by creating the encoding **dynamically** for any given sequence length.\n",
    "\n",
    "#### 1. `__init__` method:\n",
    "\n",
    "Initializes the layer. It is very lightweight and only requires the `embed_dim` (the embedding dimension of the model) to be stored for use during the forward pass. Unlike previous static versions, it does **not** pre-compute a fixed-size encoding matrix.\n",
    "\n",
    "#### 2. `call` method:\n",
    "\n",
    "This method defines the forward pass of the layer and is where the positional encoding is generated \"on-the-fly\" for each input batch.\n",
    "\n",
    "*   **1. Dynamic Shape Detection:** It first determines the `sequence_length` directly from the input tensor it receives. This is the key to its flexibility, as it works for any length.\n",
    "*   **2. Angle Calculation:** It calculates the positional encoding angles using the standard Transformer formula. It creates a tensor of positions (from 0 to `sequence_length - 1`) and combines it with a term based on the embedding dimension.\n",
    "*   **3. Sine and Cosine Application:** It applies the `sin` function to even indices of the embedding dimension and the `cos` function to the odd indices, creating the final encoding signals.\n",
    "*   **4. Addition to Input:** Finally, it adds this newly generated positional encoding matrix directly to the original input token embeddings.\n",
    "\n",
    "The key advantage of this dynamic approach is its ability to handle sequences of varying lengths. This is essential during auto-regressive generation (where the input sequence grows by one token at each step), ensuring the model can be trained on fixed-length sequences but used for generation on variable-length ones without encountering shape-mismatch errors."
   ]
  },
  {
   "cell_type": "code",
   "execution_count": 10,
   "id": "9f048f24",
   "metadata": {
    "execution": {
     "iopub.execute_input": "2025-08-22T14:59:47.144955Z",
     "iopub.status.busy": "2025-08-22T14:59:47.144721Z",
     "iopub.status.idle": "2025-08-22T14:59:47.151516Z",
     "shell.execute_reply": "2025-08-22T14:59:47.150727Z"
    },
    "papermill": {
     "duration": 0.015177,
     "end_time": "2025-08-22T14:59:47.15322",
     "exception": false,
     "start_time": "2025-08-22T14:59:47.138043",
     "status": "completed"
    },
    "tags": []
   },
   "outputs": [],
   "source": [
    "class PositionalEncoding(Layer):\n",
    "    def __init__(self, embed_dim, **kwargs):\n",
    "        super().__init__(**kwargs)\n",
    "        self.embed_dim = embed_dim\n",
    "\n",
    "    def call(self, inputs):\n",
    "        \"\"\"\n",
    "        This version computes the positional encoding dynamically based on the\n",
    "        input sequence length, making it flexible for generation.\n",
    "        \"\"\"\n",
    "        seq_len = tf.shape(inputs)[1]\n",
    "        \n",
    "        position = tf.range(start=0, limit=seq_len, delta=1, dtype=tf.float32)\n",
    "        \n",
    "        div_term = tf.pow(10000.0, (2.0 * tf.range(0, self.embed_dim, 2, dtype=tf.float32)) / float(self.embed_dim))\n",
    "        \n",
    "        position = position[:, tf.newaxis]\n",
    "        div_term = div_term[tf.newaxis, :]\n",
    "        \n",
    "        angle_rads = position / div_term\n",
    "        \n",
    "        sin_part = tf.sin(angle_rads)\n",
    "        cos_part = tf.cos(angle_rads)\n",
    "        \n",
    "        # Interleave sin and cos parts\n",
    "        encoding = tf.reshape(tf.stack([sin_part, cos_part], axis=-1), [seq_len, self.embed_dim])\n",
    "        \n",
    "        encoding = encoding[tf.newaxis, :, :]\n",
    "        \n",
    "        return inputs + encoding\n",
    "\n",
    "    def get_config(self):\n",
    "        config = super().get_config()\n",
    "        config.update({\"embed_dim\": self.embed_dim})\n",
    "        return config"
   ]
  },
  {
   "cell_type": "markdown",
   "id": "8878ba4f",
   "metadata": {
    "papermill": {
     "duration": 0.005877,
     "end_time": "2025-08-22T14:59:47.165453",
     "exception": false,
     "start_time": "2025-08-22T14:59:47.159576",
     "status": "completed"
    },
    "tags": []
   },
   "source": [
    "This code defines a `TransformerDecoderBlock` as a custom Keras `Layer`. This block is the fundamental building block of a **Decoder-Only (GPT-style) Transformer**. Unlike a standard Transformer decoder, it does not have a second attention layer for cross-attention with an encoder, as there is no encoder in this architecture.\n",
    "\n",
    "Its main purpose is to take a sequence of token embeddings and enrich them with contextual information from preceding tokens in the sequence.\n",
    "\n",
    "Here's a breakdown of its components:\n",
    "\n",
    "#### Sub-layer 1: Masked Multi-Head Self-Attention\n",
    "\n",
    "*   **Purpose:** This is the core of the block. It allows each token in the sequence to look at and gather information from all the *previous* tokens in the same sequence.\n",
    "*   **Causal Mask:** A crucial \"causal mask\" is applied during this step. This mask prevents any token from \"cheating\" by attending to future tokens. For example, when predicting the 5th word, the model can only see words 1 through 4. This is essential for a generative model that predicts one word at a time.\n",
    "*   **Process:** The output of the attention mechanism is passed through a `Dropout` layer for regularization, and then combined with the original input via a residual connection (`Add`) and normalized with `LayerNormalization`.\n",
    "\n",
    "#### Sub-layer 2: Position-wise Feed-Forward Network (FFN)\n",
    "\n",
    "*   **Purpose:** This is a standard two-layer fully connected neural network that is applied independently to each position in the sequence. It provides additional learning capacity and transforms the representations learned by the attention layer.\n",
    "*   **Structure:** It consists of two `Dense` layers, with a ReLU activation function in between.\n",
    "*   **Process:** Similar to the first sub-layer, the FFN's output is regularized with `Dropout`, combined with the input from the previous step (the output of the first sub-layer) via a residual connection, and finally normalized.\n",
    "\n",
    "---\n",
    "\n",
    "#### **Input and Output:**\n",
    "\n",
    "*   **Input:** The block takes a single tensor `inputs` with a shape of `(batch_size, sequence_length, embed_dim)`.\n",
    "*   **Output:** It returns a tensor of the **exact same shape** `(batch_size, sequence_length, embed_dim)`, which can then be passed to the next `TransformerDecoderBlock` in the stack."
   ]
  },
  {
   "cell_type": "code",
   "execution_count": 11,
   "id": "bf2fbc23",
   "metadata": {
    "execution": {
     "iopub.execute_input": "2025-08-22T14:59:47.179183Z",
     "iopub.status.busy": "2025-08-22T14:59:47.178538Z",
     "iopub.status.idle": "2025-08-22T14:59:47.187521Z",
     "shell.execute_reply": "2025-08-22T14:59:47.186903Z"
    },
    "papermill": {
     "duration": 0.017478,
     "end_time": "2025-08-22T14:59:47.189033",
     "exception": false,
     "start_time": "2025-08-22T14:59:47.171555",
     "status": "completed"
    },
    "tags": []
   },
   "outputs": [],
   "source": [
    "class TransformerDecoderBlock(Layer):\n",
    "    def __init__(self, embed_dim, num_heads, ff_dim, dropout_rate=0.1, **kwargs):\n",
    "        super().__init__(**kwargs)\n",
    "        self.embed_dim = embed_dim\n",
    "        self.num_heads = num_heads\n",
    "        self.ff_dim = ff_dim\n",
    "        self.dropout_rate = dropout_rate\n",
    "        \n",
    "        self.mha = MultiHeadAttention(num_heads=num_heads, key_dim=embed_dim)\n",
    "        self.ffn = tf.keras.Sequential([\n",
    "            Dense(ff_dim, activation=\"relu\"),\n",
    "            Dense(embed_dim),\n",
    "        ])\n",
    "        self.layernorm1 = LayerNormalization(epsilon=1e-6)\n",
    "        self.layernorm2 = LayerNormalization(epsilon=1e-6)\n",
    "        self.dropout1 = Dropout(dropout_rate)\n",
    "        self.dropout2 = Dropout(dropout_rate)\n",
    "        self.add1 = Add()\n",
    "        self.add2 = Add()\n",
    "\n",
    "    def create_causal_mask(self, size):\n",
    "        # Creates a boolean mask to prevent attention to future tokens.\n",
    "        mask = 1 - tf.linalg.band_part(tf.ones((size, size)), -1, 0)\n",
    "        return mask[tf.newaxis, tf.newaxis, :, :] # (1, 1, size, size)\n",
    "\n",
    "    def call(self, inputs, training=None):\n",
    "        input_shape = tf.shape(inputs)\n",
    "        seq_len = input_shape[1]\n",
    "        \n",
    "        # 1. Create the causal mask dynamically\n",
    "        causal_mask = self.create_causal_mask(seq_len)\n",
    "\n",
    "        # 2. Masked Multi-Head Self-Attention\n",
    "        attention_output = self.mha(\n",
    "            query=inputs, value=inputs, key=inputs, attention_mask=causal_mask, training=training\n",
    "        )\n",
    "        attention_output = self.dropout1(attention_output, training=training)\n",
    "        out1 = self.layernorm1(self.add1([inputs, attention_output]))\n",
    "\n",
    "        # 3. Feed-Forward Network\n",
    "        ffn_output = self.ffn(out1)\n",
    "        ffn_output = self.dropout2(ffn_output, training=training)\n",
    "        out2 = self.layernorm2(self.add2([out1, ffn_output]))\n",
    "        \n",
    "        return out2\n",
    "\n",
    "    def get_config(self):\n",
    "        config = super().get_config()\n",
    "        config.update({\n",
    "            \"embed_dim\": self.embed_dim,\n",
    "            \"num_heads\": self.num_heads,\n",
    "            \"ff_dim\": self.ff_dim,\n",
    "            \"dropout_rate\": self.dropout_rate\n",
    "        })\n",
    "        return config"
   ]
  },
  {
   "cell_type": "code",
   "execution_count": 12,
   "id": "353c672f",
   "metadata": {
    "execution": {
     "iopub.execute_input": "2025-08-22T14:59:47.201578Z",
     "iopub.status.busy": "2025-08-22T14:59:47.201153Z",
     "iopub.status.idle": "2025-08-22T14:59:47.206193Z",
     "shell.execute_reply": "2025-08-22T14:59:47.205381Z"
    },
    "papermill": {
     "duration": 0.012964,
     "end_time": "2025-08-22T14:59:47.207748",
     "exception": false,
     "start_time": "2025-08-22T14:59:47.194784",
     "status": "completed"
    },
    "tags": []
   },
   "outputs": [],
   "source": [
    "# The main function to build the complete Decoder-Only Transformer\n",
    "def build_decoder_only_transformer(vocab_size, embed_dim, num_heads, ff_dim, num_decoder_layers, dropout_rate):\n",
    "    inputs = Input(shape=(None,), dtype=\"int32\", name=\"Input_Layer\")\n",
    "    \n",
    "    # Embedding and Positional Encoding\n",
    "    x = Embedding(vocab_size, embed_dim, name=\"Embedding_Layer\")(inputs)\n",
    "    x = PositionalEncoding(embed_dim)(x) \n",
    "    \n",
    "    # Stack of Decoder Blocks\n",
    "    for i in range(num_decoder_layers):\n",
    "        x = TransformerDecoderBlock(embed_dim, num_heads, ff_dim, dropout_rate, name=f\"decoder_block_{i}\")(x)\n",
    "\n",
    "    # Final Output Layer\n",
    "    outputs = Dense(vocab_size, activation=\"softmax\", name=\"Output_Layer\")(x)\n",
    "    \n",
    "    return Model(inputs=inputs, outputs=outputs, name=\"Decoder_Only_Transformer\")"
   ]
  },
  {
   "cell_type": "markdown",
   "id": "e75d779e",
   "metadata": {
    "papermill": {
     "duration": 0.005605,
     "end_time": "2025-08-22T14:59:47.218953",
     "exception": false,
     "start_time": "2025-08-22T14:59:47.213348",
     "status": "completed"
    },
    "tags": []
   },
   "source": [
    "# **5. Training & Validation:**"
   ]
  },
  {
   "cell_type": "markdown",
   "id": "01fb38da",
   "metadata": {
    "papermill": {
     "duration": 0.005502,
     "end_time": "2025-08-22T14:59:47.230176",
     "exception": false,
     "start_time": "2025-08-22T14:59:47.224674",
     "status": "completed"
    },
    "tags": []
   },
   "source": [
    "This code segment orchestrates the training and evaluation of the **Decoder-Only (GPT-style) Transformer**. The model's objective is to function as a generative language model, learning to predict the next word in a sequence given the preceding words.\n",
    "\n",
    "Here's a breakdown of each key step:\n",
    "\n",
    "#### **Hyperparameter Configuration**\n",
    "\n",
    "These parameters define the model's architecture and the training process. They have been optimized to balance performance with the memory constraints of the GPU environment.\n",
    "\n",
    "*   **`embed_dim` (256):** The size of the dense vector representation for each word/token.\n",
    "*   **`num_heads` (4):** The number of attention heads in the multi-head attention mechanism. Reduced to save memory.\n",
    "*   **`ff_dim` (2048):** The dimensionality of the inner layer of the feed-forward networks.\n",
    "*   **`num_decoder_layers` (4):** The number of `TransformerDecoderBlock` layers stacked on top of each other. A shallower model is used to conserve memory.\n",
    "*   **`dropout_rate` (0.1):** The fraction of units to drop during training to prevent overfitting.\n",
    "*   **`vocab_size` (30,000):** **CRITICAL:** Uses the configured vocabulary size limit for optimal model architecture. This ensures:\n",
    "    - **Consistent model dimensions** across different datasets\n",
    "    - **Predictable memory usage** for reliable training on Kaggle\n",
    "    - **Optimal generation performance** with proper vocabulary management\n",
    "*   **`max_len`:** The maximum sequence length for padding.\n",
    "*   **`batch_size` (8):** The number of sequences processed in each training step. Kept small to manage GPU memory.\n",
    "*   **`epochs` (60):** The *maximum* number of times the model will iterate over the entire training dataset.\n",
    "*   **`learning_rate` (1e-4):** The step size for the optimizer.\n",
    "\n",
    "#### **Model Building and Compilation**\n",
    "\n",
    "1.  **Build Transformer:** The `build_decoder_only_transformer` function constructs the Keras model using the **optimized 30K vocabulary size** for efficient architecture.\n",
    "2.  **Compile Model:** The model is prepared for training using:\n",
    "    *   **Optimizer:** `AdamW`, a modern and robust variant of the Adam optimizer.\n",
    "    *   **Loss Function:** `sparse_categorical_crossentropy`, standard for next-token prediction tasks.\n",
    "    *   **Metrics:** `accuracy` tracks performance during training.\n",
    "3.  **Summary:** Shows the model architecture with the optimized vocabulary-dependent layer sizes.\n",
    "\n",
    "#### **Data Preparation for Generative Training**\n",
    "\n",
    "The core task is next-word prediction achieved by sequence shifting:\n",
    "*   **Model Input (`X_train_in`):** A sequence excluding its last token (e.g., `<lang> <sos> i love to write`)\n",
    "*   **Model Target (`y_train_out`):** The same sequence excluding its first token (e.g., `<sos> i love to write <eos>`)\n",
    "\n",
    "The model learns to produce the target when given the corresponding input.\n",
    "\n",
    "#### **Dataset Pipelines**\n",
    "Prepared data arrays are converted into efficient `tf.data.Dataset` pipelines for optimal GPU utilization.\n",
    "\n",
    "#### **Callbacks for Intelligent Training**\n",
    "\n",
    "*   **`ModelCheckpoint`:** Saves the best model based on validation loss improvement\n",
    "*   **`EarlyStopping`:** Prevents overfitting by stopping when validation loss plateaus (patience=5)\n",
    "\n",
    "#### **Model Training and Evaluation**\n",
    "\n",
    "1.  **Training:** Uses the prepared datasets with intelligent callbacks\n",
    "2.  **Load Best Model:** Automatically loads the best-performing checkpoint\n",
    "3.  **Test Set Evaluation:** Provides unbiased performance metrics on unseen data\n",
    "\n",
    "#### **Expected Performance with 30K Vocabulary**\n",
    "With the optimized 30K vocabulary size:\n",
    "- **Efficient training** due to focused model architecture\n",
    "- **Optimal memory usage** for Kaggle's GPU environment\n",
    "- **Quality lyrics generation** across multiple languages\n",
    "- **Stable convergence** with concentrated vocabulary"
   ]
  },
  {
   "cell_type": "code",
   "execution_count": 13,
   "id": "beb09c55",
   "metadata": {
    "execution": {
     "iopub.execute_input": "2025-08-22T14:59:47.242962Z",
     "iopub.status.busy": "2025-08-22T14:59:47.242683Z",
     "iopub.status.idle": "2025-08-22T15:39:41.419945Z",
     "shell.execute_reply": "2025-08-22T15:39:41.419048Z"
    },
    "papermill": {
     "duration": 2394.186231,
     "end_time": "2025-08-22T15:39:41.422089",
     "exception": false,
     "start_time": "2025-08-22T14:59:47.235858",
     "status": "completed"
    },
    "tags": []
   },
   "outputs": [
    {
     "name": "stdout",
     "output_type": "stream",
     "text": [
      "Building model with memory-optimized hyperparameters...\n"
     ]
    },
    {
     "data": {
      "text/html": [
       "<pre style=\"white-space:pre;overflow-x:auto;line-height:normal;font-family:Menlo,'DejaVu Sans Mono',consolas,'Courier New',monospace\"><span style=\"font-weight: bold\">Model: \"Decoder_Only_Transformer\"</span>\n",
       "</pre>\n"
      ],
      "text/plain": [
       "\u001b[1mModel: \"Decoder_Only_Transformer\"\u001b[0m\n"
      ]
     },
     "metadata": {},
     "output_type": "display_data"
    },
    {
     "data": {
      "text/html": [
       "<pre style=\"white-space:pre;overflow-x:auto;line-height:normal;font-family:Menlo,'DejaVu Sans Mono',consolas,'Courier New',monospace\">┏━━━━━━━━━━━━━━━━━━━━━━━━━━━━━━━━━┳━━━━━━━━━━━━━━━━━━━━━━━━┳━━━━━━━━━━━━━━━┓\n",
       "┃<span style=\"font-weight: bold\"> Layer (type)                    </span>┃<span style=\"font-weight: bold\"> Output Shape           </span>┃<span style=\"font-weight: bold\">       Param # </span>┃\n",
       "┡━━━━━━━━━━━━━━━━━━━━━━━━━━━━━━━━━╇━━━━━━━━━━━━━━━━━━━━━━━━╇━━━━━━━━━━━━━━━┩\n",
       "│ Input_Layer (<span style=\"color: #0087ff; text-decoration-color: #0087ff\">InputLayer</span>)        │ (<span style=\"color: #00d7ff; text-decoration-color: #00d7ff\">None</span>, <span style=\"color: #00d7ff; text-decoration-color: #00d7ff\">None</span>)           │             <span style=\"color: #00af00; text-decoration-color: #00af00\">0</span> │\n",
       "├─────────────────────────────────┼────────────────────────┼───────────────┤\n",
       "│ Embedding_Layer (<span style=\"color: #0087ff; text-decoration-color: #0087ff\">Embedding</span>)     │ (<span style=\"color: #00d7ff; text-decoration-color: #00d7ff\">None</span>, <span style=\"color: #00d7ff; text-decoration-color: #00d7ff\">None</span>, <span style=\"color: #00af00; text-decoration-color: #00af00\">256</span>)      │     <span style=\"color: #00af00; text-decoration-color: #00af00\">7,680,000</span> │\n",
       "├─────────────────────────────────┼────────────────────────┼───────────────┤\n",
       "│ positional_encoding             │ (<span style=\"color: #00d7ff; text-decoration-color: #00d7ff\">None</span>, <span style=\"color: #00d7ff; text-decoration-color: #00d7ff\">None</span>, <span style=\"color: #00af00; text-decoration-color: #00af00\">256</span>)      │             <span style=\"color: #00af00; text-decoration-color: #00af00\">0</span> │\n",
       "│ (<span style=\"color: #0087ff; text-decoration-color: #0087ff\">PositionalEncoding</span>)            │                        │               │\n",
       "├─────────────────────────────────┼────────────────────────┼───────────────┤\n",
       "│ decoder_block_0                 │ (<span style=\"color: #00d7ff; text-decoration-color: #00d7ff\">None</span>, <span style=\"color: #00d7ff; text-decoration-color: #00d7ff\">None</span>, <span style=\"color: #00af00; text-decoration-color: #00af00\">256</span>)      │     <span style=\"color: #00af00; text-decoration-color: #00af00\">2,103,808</span> │\n",
       "│ (<span style=\"color: #0087ff; text-decoration-color: #0087ff\">TransformerDecoderBlock</span>)       │                        │               │\n",
       "├─────────────────────────────────┼────────────────────────┼───────────────┤\n",
       "│ decoder_block_1                 │ (<span style=\"color: #00d7ff; text-decoration-color: #00d7ff\">None</span>, <span style=\"color: #00d7ff; text-decoration-color: #00d7ff\">None</span>, <span style=\"color: #00af00; text-decoration-color: #00af00\">256</span>)      │     <span style=\"color: #00af00; text-decoration-color: #00af00\">2,103,808</span> │\n",
       "│ (<span style=\"color: #0087ff; text-decoration-color: #0087ff\">TransformerDecoderBlock</span>)       │                        │               │\n",
       "├─────────────────────────────────┼────────────────────────┼───────────────┤\n",
       "│ decoder_block_2                 │ (<span style=\"color: #00d7ff; text-decoration-color: #00d7ff\">None</span>, <span style=\"color: #00d7ff; text-decoration-color: #00d7ff\">None</span>, <span style=\"color: #00af00; text-decoration-color: #00af00\">256</span>)      │     <span style=\"color: #00af00; text-decoration-color: #00af00\">2,103,808</span> │\n",
       "│ (<span style=\"color: #0087ff; text-decoration-color: #0087ff\">TransformerDecoderBlock</span>)       │                        │               │\n",
       "├─────────────────────────────────┼────────────────────────┼───────────────┤\n",
       "│ decoder_block_3                 │ (<span style=\"color: #00d7ff; text-decoration-color: #00d7ff\">None</span>, <span style=\"color: #00d7ff; text-decoration-color: #00d7ff\">None</span>, <span style=\"color: #00af00; text-decoration-color: #00af00\">256</span>)      │     <span style=\"color: #00af00; text-decoration-color: #00af00\">2,103,808</span> │\n",
       "│ (<span style=\"color: #0087ff; text-decoration-color: #0087ff\">TransformerDecoderBlock</span>)       │                        │               │\n",
       "├─────────────────────────────────┼────────────────────────┼───────────────┤\n",
       "│ Output_Layer (<span style=\"color: #0087ff; text-decoration-color: #0087ff\">Dense</span>)            │ (<span style=\"color: #00d7ff; text-decoration-color: #00d7ff\">None</span>, <span style=\"color: #00d7ff; text-decoration-color: #00d7ff\">None</span>, <span style=\"color: #00af00; text-decoration-color: #00af00\">30000</span>)    │     <span style=\"color: #00af00; text-decoration-color: #00af00\">7,710,000</span> │\n",
       "└─────────────────────────────────┴────────────────────────┴───────────────┘\n",
       "</pre>\n"
      ],
      "text/plain": [
       "┏━━━━━━━━━━━━━━━━━━━━━━━━━━━━━━━━━┳━━━━━━━━━━━━━━━━━━━━━━━━┳━━━━━━━━━━━━━━━┓\n",
       "┃\u001b[1m \u001b[0m\u001b[1mLayer (type)                   \u001b[0m\u001b[1m \u001b[0m┃\u001b[1m \u001b[0m\u001b[1mOutput Shape          \u001b[0m\u001b[1m \u001b[0m┃\u001b[1m \u001b[0m\u001b[1m      Param #\u001b[0m\u001b[1m \u001b[0m┃\n",
       "┡━━━━━━━━━━━━━━━━━━━━━━━━━━━━━━━━━╇━━━━━━━━━━━━━━━━━━━━━━━━╇━━━━━━━━━━━━━━━┩\n",
       "│ Input_Layer (\u001b[38;5;33mInputLayer\u001b[0m)        │ (\u001b[38;5;45mNone\u001b[0m, \u001b[38;5;45mNone\u001b[0m)           │             \u001b[38;5;34m0\u001b[0m │\n",
       "├─────────────────────────────────┼────────────────────────┼───────────────┤\n",
       "│ Embedding_Layer (\u001b[38;5;33mEmbedding\u001b[0m)     │ (\u001b[38;5;45mNone\u001b[0m, \u001b[38;5;45mNone\u001b[0m, \u001b[38;5;34m256\u001b[0m)      │     \u001b[38;5;34m7,680,000\u001b[0m │\n",
       "├─────────────────────────────────┼────────────────────────┼───────────────┤\n",
       "│ positional_encoding             │ (\u001b[38;5;45mNone\u001b[0m, \u001b[38;5;45mNone\u001b[0m, \u001b[38;5;34m256\u001b[0m)      │             \u001b[38;5;34m0\u001b[0m │\n",
       "│ (\u001b[38;5;33mPositionalEncoding\u001b[0m)            │                        │               │\n",
       "├─────────────────────────────────┼────────────────────────┼───────────────┤\n",
       "│ decoder_block_0                 │ (\u001b[38;5;45mNone\u001b[0m, \u001b[38;5;45mNone\u001b[0m, \u001b[38;5;34m256\u001b[0m)      │     \u001b[38;5;34m2,103,808\u001b[0m │\n",
       "│ (\u001b[38;5;33mTransformerDecoderBlock\u001b[0m)       │                        │               │\n",
       "├─────────────────────────────────┼────────────────────────┼───────────────┤\n",
       "│ decoder_block_1                 │ (\u001b[38;5;45mNone\u001b[0m, \u001b[38;5;45mNone\u001b[0m, \u001b[38;5;34m256\u001b[0m)      │     \u001b[38;5;34m2,103,808\u001b[0m │\n",
       "│ (\u001b[38;5;33mTransformerDecoderBlock\u001b[0m)       │                        │               │\n",
       "├─────────────────────────────────┼────────────────────────┼───────────────┤\n",
       "│ decoder_block_2                 │ (\u001b[38;5;45mNone\u001b[0m, \u001b[38;5;45mNone\u001b[0m, \u001b[38;5;34m256\u001b[0m)      │     \u001b[38;5;34m2,103,808\u001b[0m │\n",
       "│ (\u001b[38;5;33mTransformerDecoderBlock\u001b[0m)       │                        │               │\n",
       "├─────────────────────────────────┼────────────────────────┼───────────────┤\n",
       "│ decoder_block_3                 │ (\u001b[38;5;45mNone\u001b[0m, \u001b[38;5;45mNone\u001b[0m, \u001b[38;5;34m256\u001b[0m)      │     \u001b[38;5;34m2,103,808\u001b[0m │\n",
       "│ (\u001b[38;5;33mTransformerDecoderBlock\u001b[0m)       │                        │               │\n",
       "├─────────────────────────────────┼────────────────────────┼───────────────┤\n",
       "│ Output_Layer (\u001b[38;5;33mDense\u001b[0m)            │ (\u001b[38;5;45mNone\u001b[0m, \u001b[38;5;45mNone\u001b[0m, \u001b[38;5;34m30000\u001b[0m)    │     \u001b[38;5;34m7,710,000\u001b[0m │\n",
       "└─────────────────────────────────┴────────────────────────┴───────────────┘\n"
      ]
     },
     "metadata": {},
     "output_type": "display_data"
    },
    {
     "data": {
      "text/html": [
       "<pre style=\"white-space:pre;overflow-x:auto;line-height:normal;font-family:Menlo,'DejaVu Sans Mono',consolas,'Courier New',monospace\"><span style=\"font-weight: bold\"> Total params: </span><span style=\"color: #00af00; text-decoration-color: #00af00\">23,805,232</span> (90.81 MB)\n",
       "</pre>\n"
      ],
      "text/plain": [
       "\u001b[1m Total params: \u001b[0m\u001b[38;5;34m23,805,232\u001b[0m (90.81 MB)\n"
      ]
     },
     "metadata": {},
     "output_type": "display_data"
    },
    {
     "data": {
      "text/html": [
       "<pre style=\"white-space:pre;overflow-x:auto;line-height:normal;font-family:Menlo,'DejaVu Sans Mono',consolas,'Courier New',monospace\"><span style=\"font-weight: bold\"> Trainable params: </span><span style=\"color: #00af00; text-decoration-color: #00af00\">23,805,232</span> (90.81 MB)\n",
       "</pre>\n"
      ],
      "text/plain": [
       "\u001b[1m Trainable params: \u001b[0m\u001b[38;5;34m23,805,232\u001b[0m (90.81 MB)\n"
      ]
     },
     "metadata": {},
     "output_type": "display_data"
    },
    {
     "data": {
      "text/html": [
       "<pre style=\"white-space:pre;overflow-x:auto;line-height:normal;font-family:Menlo,'DejaVu Sans Mono',consolas,'Courier New',monospace\"><span style=\"font-weight: bold\"> Non-trainable params: </span><span style=\"color: #00af00; text-decoration-color: #00af00\">0</span> (0.00 B)\n",
       "</pre>\n"
      ],
      "text/plain": [
       "\u001b[1m Non-trainable params: \u001b[0m\u001b[38;5;34m0\u001b[0m (0.00 B)\n"
      ]
     },
     "metadata": {},
     "output_type": "display_data"
    },
    {
     "name": "stdout",
     "output_type": "stream",
     "text": [
      "Epoch 1/60\n"
     ]
    },
    {
     "name": "stderr",
     "output_type": "stream",
     "text": [
      "WARNING: All log messages before absl::InitializeLog() is called are written to STDERR\n",
      "I0000 00:00:1755874801.121547      67 service.cc:145] XLA service 0x78df200020d0 initialized for platform CUDA (this does not guarantee that XLA will be used). Devices:\n",
      "I0000 00:00:1755874801.121604      67 service.cc:153]   StreamExecutor device (0): Tesla T4, Compute Capability 7.5\n",
      "I0000 00:00:1755874801.121608      67 service.cc:153]   StreamExecutor device (1): Tesla T4, Compute Capability 7.5\n",
      "W0000 00:00:1755874802.348175      67 assert_op.cc:38] Ignoring Assert operator compile_loss/sparse_categorical_crossentropy/SparseSoftmaxCrossEntropyWithLogits/assert_equal_1/Assert/Assert\n",
      "WARNING: All log messages before absl::InitializeLog() is called are written to STDERR\n",
      "I0000 00:00:1755874812.021172      96 asm_compiler.cc:369] ptxas warning : Registers are spilled to local memory in function 'triton_gemm_dot_171', 8 bytes spill stores, 8 bytes spill loads\n",
      "\n",
      "I0000 00:00:1755874815.686100      97 asm_compiler.cc:369] ptxas warning : Registers are spilled to local memory in function 'triton_gemm_dot_163', 100 bytes spill stores, 100 bytes spill loads\n",
      "\n",
      "I0000 00:00:1755874816.744090      96 asm_compiler.cc:369] ptxas warning : Registers are spilled to local memory in function 'triton_gemm_dot_171', 36 bytes spill stores, 28 bytes spill loads\n",
      "\n",
      "I0000 00:00:1755874817.402348      98 asm_compiler.cc:369] ptxas warning : Registers are spilled to local memory in function 'triton_gemm_dot_171', 1764 bytes spill stores, 1764 bytes spill loads\n",
      "\n"
     ]
    },
    {
     "name": "stdout",
     "output_type": "stream",
     "text": [
      "\u001b[1m   3/2693\u001b[0m \u001b[37m━━━━━━━━━━━━━━━━━━━━\u001b[0m \u001b[1m1:54\u001b[0m 43ms/step - accuracy: 0.0718 - loss: 10.2424       "
     ]
    },
    {
     "name": "stderr",
     "output_type": "stream",
     "text": [
      "I0000 00:00:1755874826.068388      67 device_compiler.h:188] Compiled cluster using XLA!  This line is logged at most once for the lifetime of the process.\n"
     ]
    },
    {
     "name": "stdout",
     "output_type": "stream",
     "text": [
      "\u001b[1m2148/2693\u001b[0m \u001b[32m━━━━━━━━━━━━━━━\u001b[0m\u001b[37m━━━━━\u001b[0m \u001b[1m14s\u001b[0m 27ms/step - accuracy: 0.1746 - loss: 6.9527"
     ]
    },
    {
     "name": "stderr",
     "output_type": "stream",
     "text": [
      "W0000 00:00:1755874884.716414      67 assert_op.cc:38] Ignoring Assert operator compile_loss/sparse_categorical_crossentropy/SparseSoftmaxCrossEntropyWithLogits/assert_equal_1/Assert/Assert\n",
      "I0000 00:00:1755874891.837052     124 asm_compiler.cc:369] ptxas warning : Registers are spilled to local memory in function 'triton_gemm_dot_171', 8 bytes spill stores, 8 bytes spill loads\n",
      "\n",
      "I0000 00:00:1755874898.046399     125 asm_compiler.cc:369] ptxas warning : Registers are spilled to local memory in function 'triton_gemm_dot_171', 1764 bytes spill stores, 1768 bytes spill loads\n",
      "\n",
      "I0000 00:00:1755874898.412886     124 asm_compiler.cc:369] ptxas warning : Registers are spilled to local memory in function 'triton_gemm_dot_163', 100 bytes spill stores, 100 bytes spill loads\n",
      "\n"
     ]
    },
    {
     "name": "stdout",
     "output_type": "stream",
     "text": [
      "\u001b[1m2692/2693\u001b[0m \u001b[32m━━━━━━━━━━━━━━━━━━━\u001b[0m\u001b[37m━\u001b[0m \u001b[1m0s\u001b[0m 36ms/step - accuracy: 0.1899 - loss: 6.6669"
     ]
    },
    {
     "name": "stderr",
     "output_type": "stream",
     "text": [
      "W0000 00:00:1755874923.726716      69 assert_op.cc:38] Ignoring Assert operator compile_loss/sparse_categorical_crossentropy/SparseSoftmaxCrossEntropyWithLogits/assert_equal_1/Assert/Assert\n",
      "W0000 00:00:1755874927.624484      69 assert_op.cc:38] Ignoring Assert operator compile_loss/sparse_categorical_crossentropy/SparseSoftmaxCrossEntropyWithLogits/assert_equal_1/Assert/Assert\n",
      "I0000 00:00:1755874931.631453     160 asm_compiler.cc:369] ptxas warning : Registers are spilled to local memory in function 'triton_gemm_dot_30', 100 bytes spill stores, 100 bytes spill loads\n",
      "\n"
     ]
    },
    {
     "name": "stdout",
     "output_type": "stream",
     "text": [
      "\u001b[1m2693/2693\u001b[0m \u001b[32m━━━━━━━━━━━━━━━━━━━━\u001b[0m\u001b[37m\u001b[0m \u001b[1m144s\u001b[0m 40ms/step - accuracy: 0.1900 - loss: 6.6660 - val_accuracy: 0.4525 - val_loss: 3.6752\n",
      "Epoch 2/60\n",
      "\u001b[1m2693/2693\u001b[0m \u001b[32m━━━━━━━━━━━━━━━━━━━━\u001b[0m\u001b[37m\u001b[0m \u001b[1m83s\u001b[0m 31ms/step - accuracy: 0.4830 - loss: 3.3677 - val_accuracy: 0.5776 - val_loss: 2.5825\n",
      "Epoch 3/60\n",
      "\u001b[1m2693/2693\u001b[0m \u001b[32m━━━━━━━━━━━━━━━━━━━━\u001b[0m\u001b[37m\u001b[0m \u001b[1m83s\u001b[0m 31ms/step - accuracy: 0.5798 - loss: 2.4738 - val_accuracy: 0.6608 - val_loss: 2.0096\n",
      "Epoch 4/60\n",
      "\u001b[1m2693/2693\u001b[0m \u001b[32m━━━━━━━━━━━━━━━━━━━━\u001b[0m\u001b[37m\u001b[0m \u001b[1m83s\u001b[0m 31ms/step - accuracy: 0.6718 - loss: 1.9046 - val_accuracy: 0.7403 - val_loss: 1.5062\n",
      "Epoch 5/60\n",
      "\u001b[1m2693/2693\u001b[0m \u001b[32m━━━━━━━━━━━━━━━━━━━━\u001b[0m\u001b[37m\u001b[0m \u001b[1m83s\u001b[0m 31ms/step - accuracy: 0.7417 - loss: 1.4426 - val_accuracy: 0.8133 - val_loss: 1.1387\n",
      "Epoch 6/60\n",
      "\u001b[1m2693/2693\u001b[0m \u001b[32m━━━━━━━━━━━━━━━━━━━━\u001b[0m\u001b[37m\u001b[0m \u001b[1m83s\u001b[0m 31ms/step - accuracy: 0.8076 - loss: 1.0807 - val_accuracy: 0.8389 - val_loss: 0.9300\n",
      "Epoch 7/60\n",
      "\u001b[1m2693/2693\u001b[0m \u001b[32m━━━━━━━━━━━━━━━━━━━━\u001b[0m\u001b[37m\u001b[0m \u001b[1m83s\u001b[0m 31ms/step - accuracy: 0.8439 - loss: 0.8503 - val_accuracy: 0.8684 - val_loss: 0.7556\n",
      "Epoch 8/60\n",
      "\u001b[1m2693/2693\u001b[0m \u001b[32m━━━━━━━━━━━━━━━━━━━━\u001b[0m\u001b[37m\u001b[0m \u001b[1m83s\u001b[0m 31ms/step - accuracy: 0.8723 - loss: 0.6816 - val_accuracy: 0.8754 - val_loss: 0.6775\n",
      "Epoch 9/60\n",
      "\u001b[1m2693/2693\u001b[0m \u001b[32m━━━━━━━━━━━━━━━━━━━━\u001b[0m\u001b[37m\u001b[0m \u001b[1m83s\u001b[0m 31ms/step - accuracy: 0.9001 - loss: 0.5403 - val_accuracy: 0.9157 - val_loss: 0.5100\n",
      "Epoch 10/60\n",
      "\u001b[1m2693/2693\u001b[0m \u001b[32m━━━━━━━━━━━━━━━━━━━━\u001b[0m\u001b[37m\u001b[0m \u001b[1m83s\u001b[0m 31ms/step - accuracy: 0.9253 - loss: 0.4173 - val_accuracy: 0.9278 - val_loss: 0.4450\n",
      "Epoch 11/60\n",
      "\u001b[1m2693/2693\u001b[0m \u001b[32m━━━━━━━━━━━━━━━━━━━━\u001b[0m\u001b[37m\u001b[0m \u001b[1m83s\u001b[0m 31ms/step - accuracy: 0.9400 - loss: 0.3370 - val_accuracy: 0.9399 - val_loss: 0.3782\n",
      "Epoch 12/60\n",
      "\u001b[1m2693/2693\u001b[0m \u001b[32m━━━━━━━━━━━━━━━━━━━━\u001b[0m\u001b[37m\u001b[0m \u001b[1m83s\u001b[0m 31ms/step - accuracy: 0.9535 - loss: 0.2701 - val_accuracy: 0.9462 - val_loss: 0.3432\n",
      "Epoch 13/60\n",
      "\u001b[1m2693/2693\u001b[0m \u001b[32m━━━━━━━━━━━━━━━━━━━━\u001b[0m\u001b[37m\u001b[0m \u001b[1m83s\u001b[0m 31ms/step - accuracy: 0.9661 - loss: 0.2121 - val_accuracy: 0.9597 - val_loss: 0.2809\n",
      "Epoch 14/60\n",
      "\u001b[1m2693/2693\u001b[0m \u001b[32m━━━━━━━━━━━━━━━━━━━━\u001b[0m\u001b[37m\u001b[0m \u001b[1m83s\u001b[0m 31ms/step - accuracy: 0.9746 - loss: 0.1694 - val_accuracy: 0.9681 - val_loss: 0.2406\n",
      "Epoch 15/60\n",
      "\u001b[1m2693/2693\u001b[0m \u001b[32m━━━━━━━━━━━━━━━━━━━━\u001b[0m\u001b[37m\u001b[0m \u001b[1m83s\u001b[0m 31ms/step - accuracy: 0.9802 - loss: 0.1397 - val_accuracy: 0.9717 - val_loss: 0.2231\n",
      "Epoch 16/60\n",
      "\u001b[1m2693/2693\u001b[0m \u001b[32m━━━━━━━━━━━━━━━━━━━━\u001b[0m\u001b[37m\u001b[0m \u001b[1m83s\u001b[0m 31ms/step - accuracy: 0.9842 - loss: 0.1176 - val_accuracy: 0.9741 - val_loss: 0.2059\n",
      "Epoch 17/60\n",
      "\u001b[1m2693/2693\u001b[0m \u001b[32m━━━━━━━━━━━━━━━━━━━━\u001b[0m\u001b[37m\u001b[0m \u001b[1m83s\u001b[0m 31ms/step - accuracy: 0.9855 - loss: 0.1062 - val_accuracy: 0.9740 - val_loss: 0.2052\n",
      "Epoch 18/60\n",
      "\u001b[1m2693/2693\u001b[0m \u001b[32m━━━━━━━━━━━━━━━━━━━━\u001b[0m\u001b[37m\u001b[0m \u001b[1m83s\u001b[0m 31ms/step - accuracy: 0.9866 - loss: 0.0973 - val_accuracy: 0.9759 - val_loss: 0.1916\n",
      "Epoch 19/60\n",
      "\u001b[1m2693/2693\u001b[0m \u001b[32m━━━━━━━━━━━━━━━━━━━━\u001b[0m\u001b[37m\u001b[0m \u001b[1m83s\u001b[0m 31ms/step - accuracy: 0.9873 - loss: 0.0910 - val_accuracy: 0.9780 - val_loss: 0.1853\n",
      "Epoch 20/60\n",
      "\u001b[1m2693/2693\u001b[0m \u001b[32m━━━━━━━━━━━━━━━━━━━━\u001b[0m\u001b[37m\u001b[0m \u001b[1m82s\u001b[0m 30ms/step - accuracy: 0.9873 - loss: 0.0892 - val_accuracy: 0.9768 - val_loss: 0.1915\n",
      "Epoch 21/60\n",
      "\u001b[1m2693/2693\u001b[0m \u001b[32m━━━━━━━━━━━━━━━━━━━━\u001b[0m\u001b[37m\u001b[0m \u001b[1m82s\u001b[0m 30ms/step - accuracy: 0.9872 - loss: 0.0865 - val_accuracy: 0.9776 - val_loss: 0.1861\n",
      "Epoch 22/60\n",
      "\u001b[1m2693/2693\u001b[0m \u001b[32m━━━━━━━━━━━━━━━━━━━━\u001b[0m\u001b[37m\u001b[0m \u001b[1m82s\u001b[0m 30ms/step - accuracy: 0.9872 - loss: 0.0843 - val_accuracy: 0.9773 - val_loss: 0.1869\n",
      "Epoch 23/60\n",
      "\u001b[1m2693/2693\u001b[0m \u001b[32m━━━━━━━━━━━━━━━━━━━━\u001b[0m\u001b[37m\u001b[0m \u001b[1m83s\u001b[0m 31ms/step - accuracy: 0.9868 - loss: 0.0840 - val_accuracy: 0.9783 - val_loss: 0.1851\n",
      "Epoch 24/60\n",
      "\u001b[1m2693/2693\u001b[0m \u001b[32m━━━━━━━━━━━━━━━━━━━━\u001b[0m\u001b[37m\u001b[0m \u001b[1m82s\u001b[0m 30ms/step - accuracy: 0.9866 - loss: 0.0822 - val_accuracy: 0.9759 - val_loss: 0.1971\n",
      "Epoch 25/60\n",
      "\u001b[1m2693/2693\u001b[0m \u001b[32m━━━━━━━━━━━━━━━━━━━━\u001b[0m\u001b[37m\u001b[0m \u001b[1m82s\u001b[0m 30ms/step - accuracy: 0.9868 - loss: 0.0791 - val_accuracy: 0.9777 - val_loss: 0.1883\n",
      "Epoch 26/60\n",
      "\u001b[1m2693/2693\u001b[0m \u001b[32m━━━━━━━━━━━━━━━━━━━━\u001b[0m\u001b[37m\u001b[0m \u001b[1m82s\u001b[0m 30ms/step - accuracy: 0.9872 - loss: 0.0751 - val_accuracy: 0.9763 - val_loss: 0.1947\n",
      "Epoch 27/60\n",
      "\u001b[1m2693/2693\u001b[0m \u001b[32m━━━━━━━━━━━━━━━━━━━━\u001b[0m\u001b[37m\u001b[0m \u001b[1m82s\u001b[0m 30ms/step - accuracy: 0.9866 - loss: 0.0747 - val_accuracy: 0.9772 - val_loss: 0.1924\n",
      "Epoch 28/60\n",
      "\u001b[1m2693/2693\u001b[0m \u001b[32m━━━━━━━━━━━━━━━━━━━━\u001b[0m\u001b[37m\u001b[0m \u001b[1m82s\u001b[0m 30ms/step - accuracy: 0.9861 - loss: 0.0754 - val_accuracy: 0.9766 - val_loss: 0.1915\n",
      "Epoch 28: early stopping\n",
      "\n",
      "Loading best model from checkpoint...\n"
     ]
    },
    {
     "name": "stderr",
     "output_type": "stream",
     "text": [
      "/opt/conda/lib/python3.10/site-packages/keras/src/layers/layer.py:361: UserWarning: `build()` was called on layer 'decoder_block_0', however the layer does not have a `build()` method implemented and it looks like it has unbuilt state. This will cause the layer to be marked as built, despite not being actually built, which may cause failures down the line. Make sure to implement a proper `build()` method.\n",
      "  warnings.warn(\n",
      "/opt/conda/lib/python3.10/site-packages/keras/src/layers/layer.py:361: UserWarning: `build()` was called on layer 'decoder_block_1', however the layer does not have a `build()` method implemented and it looks like it has unbuilt state. This will cause the layer to be marked as built, despite not being actually built, which may cause failures down the line. Make sure to implement a proper `build()` method.\n",
      "  warnings.warn(\n",
      "/opt/conda/lib/python3.10/site-packages/keras/src/layers/layer.py:361: UserWarning: `build()` was called on layer 'decoder_block_2', however the layer does not have a `build()` method implemented and it looks like it has unbuilt state. This will cause the layer to be marked as built, despite not being actually built, which may cause failures down the line. Make sure to implement a proper `build()` method.\n",
      "  warnings.warn(\n",
      "/opt/conda/lib/python3.10/site-packages/keras/src/layers/layer.py:361: UserWarning: `build()` was called on layer 'decoder_block_3', however the layer does not have a `build()` method implemented and it looks like it has unbuilt state. This will cause the layer to be marked as built, despite not being actually built, which may cause failures down the line. Make sure to implement a proper `build()` method.\n",
      "  warnings.warn(\n"
     ]
    },
    {
     "name": "stdout",
     "output_type": "stream",
     "text": [
      "\n",
      "Evaluating on test set...\n"
     ]
    },
    {
     "name": "stderr",
     "output_type": "stream",
     "text": [
      "W0000 00:00:1755877176.208012      69 assert_op.cc:38] Ignoring Assert operator compile_loss/sparse_categorical_crossentropy/SparseSoftmaxCrossEntropyWithLogits/assert_equal_1/Assert/Assert\n"
     ]
    },
    {
     "name": "stdout",
     "output_type": "stream",
     "text": [
      "\u001b[1m332/337\u001b[0m \u001b[32m━━━━━━━━━━━━━━━━━━━\u001b[0m\u001b[37m━\u001b[0m \u001b[1m0s\u001b[0m 10ms/step - accuracy: 0.9800 - loss: 0.1608"
     ]
    },
    {
     "name": "stderr",
     "output_type": "stream",
     "text": [
      "W0000 00:00:1755877180.163530      67 assert_op.cc:38] Ignoring Assert operator compile_loss/sparse_categorical_crossentropy/SparseSoftmaxCrossEntropyWithLogits/assert_equal_1/Assert/Assert\n"
     ]
    },
    {
     "name": "stdout",
     "output_type": "stream",
     "text": [
      "\u001b[1m337/337\u001b[0m \u001b[32m━━━━━━━━━━━━━━━━━━━━\u001b[0m\u001b[37m\u001b[0m \u001b[1m6s\u001b[0m 12ms/step - accuracy: 0.9800 - loss: 0.1610\n",
      "Test Loss: 0.1740\n",
      "Test Accuracy: 0.9791\n"
     ]
    },
    {
     "data": {
      "image/png": "[encoded data removed]",
      "text/plain": [
       "<Figure size 1200x500 with 2 Axes>"
      ]
     },
     "metadata": {},
     "output_type": "display_data"
    }
   ],
   "source": [
    "# 1. Reduce Batch Size (Most Important)\n",
    "batch_size = 8\n",
    "\n",
    "# 2. Simplify the Model Architecture\n",
    "num_decoder_layers = 4\n",
    "num_heads = 4\n",
    "\n",
    "# 3. Other hyperparameters\n",
    "embed_dim = 256\n",
    "ff_dim = 2048\n",
    "dropout_rate = 0.1\n",
    "max_len = max_sequence_length\n",
    "epochs = 60\n",
    "learning_rate = 1e-4\n",
    "\n",
    "# Build the new Decoder-Only model with the adjusted parameters\n",
    "print(\"Building model with memory-optimized hyperparameters...\")\n",
    "transformer = build_decoder_only_transformer(\n",
    "    vocab_size,\n",
    "    embed_dim, \n",
    "    num_heads, \n",
    "    ff_dim, \n",
    "    num_decoder_layers, \n",
    "    dropout_rate\n",
    ")\n",
    "\n",
    "# Compile the model using a modern, efficient optimizer\n",
    "transformer.compile(\n",
    "    optimizer=tf.keras.optimizers.AdamW(learning_rate=learning_rate),\n",
    "    loss=\"sparse_categorical_crossentropy\",\n",
    "    metrics=[\"accuracy\"]\n",
    ")\n",
    "transformer.summary()\n",
    "\n",
    "# --- Prepare the data for a generative model ---\n",
    "X_train_in = X_train[:, :-1]\n",
    "y_train_out = X_train[:, 1:]\n",
    "\n",
    "X_val_in = X_val[:, :-1]\n",
    "y_val_out = X_val[:, 1:]\n",
    "\n",
    "X_test_in = X_test[:, :-1]\n",
    "y_test_out = X_test[:, 1:]\n",
    "\n",
    "# --- Create Dataset Pipelines ---\n",
    "train_dataset = tf.data.Dataset.from_tensor_slices((X_train_in, y_train_out)).batch(batch_size).prefetch(tf.data.AUTOTUNE).shuffle(10000)\n",
    "val_dataset = tf.data.Dataset.from_tensor_slices((X_val_in, y_val_out)).batch(batch_size).prefetch(tf.data.AUTOTUNE)\n",
    "test_dataset = tf.data.Dataset.from_tensor_slices((X_test_in, y_test_out)).batch(batch_size).prefetch(tf.data.AUTOTUNE)\n",
    "\n",
    "# Add Callbacks for better training\n",
    "callbacks = [\n",
    "    tf.keras.callbacks.ModelCheckpoint(\n",
    "        \"best_model.keras\",\n",
    "        save_best_only=True,\n",
    "        monitor=\"val_loss\"\n",
    "    ),\n",
    "    tf.keras.callbacks.EarlyStopping(monitor=\"val_loss\", patience=5, verbose=1)\n",
    "]\n",
    "\n",
    "# Train the Transformer\n",
    "history = transformer.fit(\n",
    "    train_dataset,\n",
    "    validation_data=val_dataset,\n",
    "    epochs=epochs,\n",
    "    callbacks=callbacks,\n",
    "    verbose=1\n",
    ")\n",
    "\n",
    "# Load the best model before evaluation\n",
    "print(\"\\nLoading best model from checkpoint...\")\n",
    "transformer = tf.keras.models.load_model(\"best_model.keras\", custom_objects={\n",
    "    \"TransformerDecoderBlock\": TransformerDecoderBlock,\n",
    "    \"PositionalEncoding\": PositionalEncoding\n",
    "})\n",
    "\n",
    "# Evaluate the Model on the Test Set\n",
    "print(\"\\nEvaluating on test set...\")\n",
    "test_loss, test_accuracy = transformer.evaluate(test_dataset, verbose=1)\n",
    "print(f\"Test Loss: {test_loss:.4f}\")\n",
    "print(f\"Test Accuracy: {test_accuracy:.4f}\")\n",
    "\n",
    "# Plotting\n",
    "plt.figure(figsize=(12, 5))\n",
    "plt.subplot(1, 2, 1)\n",
    "plt.plot(history.history['accuracy'], label='Train Accuracy')\n",
    "plt.plot(history.history['val_accuracy'], label='Validation Accuracy')\n",
    "plt.title('Model Accuracy')\n",
    "plt.xlabel('Epoch')\n",
    "plt.ylabel('Accuracy')\n",
    "plt.legend()\n",
    "plt.subplot(1, 2, 2)\n",
    "plt.plot(history.history['loss'], label='Train Loss')\n",
    "plt.plot(history.history['val_loss'], label='Validation Loss')\n",
    "plt.title('Model Loss')\n",
    "plt.xlabel('Epoch')\n",
    "plt.ylabel('Loss')\n",
    "plt.legend()\n",
    "plt.tight_layout()\n",
    "plt.show()"
   ]
  },
  {
   "cell_type": "markdown",
   "id": "0fcda91c",
   "metadata": {
    "papermill": {
     "duration": 1.878017,
     "end_time": "2025-08-22T15:39:45.2828",
     "exception": false,
     "start_time": "2025-08-22T15:39:43.404783",
     "status": "completed"
    },
    "tags": []
   },
   "source": [
    "# **6. Lyrics Generation:**"
   ]
  },
  {
   "cell_type": "markdown",
   "id": "7a4eb20a",
   "metadata": {
    "papermill": {
     "duration": 1.928927,
     "end_time": "2025-08-22T15:39:49.152846",
     "exception": false,
     "start_time": "2025-08-22T15:39:47.223919",
     "status": "completed"
    },
    "tags": []
   },
   "source": [
    "## **Model Configuration Overview**\n",
    "\n",
    "**The model uses a 30K token vocabulary optimized for multilingual lyrics generation.**\n",
    "\n",
    "### **Model Architecture:**\n",
    "\n",
    "1. **Vocabulary Size**: 30,000 tokens for optimal performance and memory efficiency\n",
    "2. **Model Dimensions**: Embedding and output layers sized for 30K vocabulary\n",
    "3. **Generation Strategy**: Produces coherent text across English, French, and Arabic\n",
    "\n",
    "### **Training Process:**\n",
    "\n",
    "1. **Data Preparation**: Tokenization with 30K vocabulary limit\n",
    "2. **Model Training**: Decoder-only transformer architecture\n",
    "3. **Validation**: Test generation across multiple languages\n",
    "\n",
    "### **Model Benefits:**\n",
    "\n",
    "- ⚡ **Efficient Training**: Optimized vocabulary size for faster convergence\n",
    "- 💾 **Memory Optimized**: Fits within Kaggle's GPU memory constraints\n",
    "- 🎵 **Quality Generation**: Produces coherent lyrics in target languages\n",
    "- 🌍 **Multilingual Support**: Consistent performance across English, French, and Arabic\n",
    "\n",
    "**This configuration provides an optimal balance between performance and resource usage.**"
   ]
  },
  {
   "cell_type": "markdown",
   "id": "97b98d38",
   "metadata": {
    "papermill": {
     "duration": 1.94167,
     "end_time": "2025-08-22T15:39:52.996509",
     "exception": false,
     "start_time": "2025-08-22T15:39:51.054839",
     "status": "completed"
    },
    "tags": []
   },
   "source": [
    "## **Comprehensive Lyrics Completion System**\n",
    "\n",
    "This implementation provides a production-ready lyrics completion system designed for reliable operation on Kaggle.\n",
    "\n",
    "### **System Architecture**\n",
    "\n",
    "The lyrics completion system implements several key components:\n",
    "\n",
    "1. **Vocabulary Management**: Consistent 30,000 token vocabulary across training and generation\n",
    "2. **Generation Strategies**: Both deterministic (greedy) and probabilistic (temperature-based) completion\n",
    "3. **Multilingual Support**: Seamless operation across English, French, and Arabic lyrics  \n",
    "4. **Error Handling**: Graceful management of edge cases and invalid inputs\n",
    "5. **Debug Capabilities**: Comprehensive logging for monitoring and optimization\n",
    "6. **Production Optimization**: Designed for reliable operation in Kaggle environment\n",
    "\n",
    "### **Technical Features**\n",
    "\n",
    "- **Vocabulary Boundary Management**: Ensures generated tokens stay within vocabulary limits\n",
    "- **Sequence Positioning**: Proper handling of token positions during generation\n",
    "- **Comprehensive Validation**: Input verification at each generation step\n",
    "- **Memory Efficiency**: Optimized model size (30K vocabulary) for faster processing\n",
    "\n",
    "### **Usage Workflow**\n",
    "\n",
    "1. **🧪 Diagnostic Testing**: Run `simple_test()` to verify system functionality\n",
    "2. **🎵 Demo Generation**: Use `demonstrate_lyric_completion()` to see multilingual results\n",
    "3. **🎨 Custom Usage**: Call `complete_lyrics()` directly for specific applications\n",
    "\n",
    "### **Expected Performance**\n",
    "\n",
    "✅ **Coherent text generation** with contextually appropriate lyrics  \n",
    "✅ **Language-specific completions** that maintain linguistic consistency  \n",
    "✅ **Efficient processing** with optimized memory usage  \n",
    "✅ **Reliable operation** across different input types  \n",
    "\n",
    "This system transforms partial lyrics into complete verses by leveraging patterns learned during training, making it suitable for creative applications, music composition assistance, and multilingual lyric generation tasks."
   ]
  },
  {
   "cell_type": "markdown",
   "id": "68700aa6",
   "metadata": {
    "papermill": {
     "duration": 1.976158,
     "end_time": "2025-08-22T15:39:56.867674",
     "exception": false,
     "start_time": "2025-08-22T15:39:54.891516",
     "status": "completed"
    },
    "tags": []
   },
   "source": [
    "This code segment demonstrates how to use the trained Decoder-Only Transformer to perform its primary function: **intelligent lyric completion**. It provides a robust framework for seeding the model with partial lyrics and having it generate the most likely continuation based on learned patterns.\n",
    "\n",
    "#### **1. `get_seed_lyrics` Function**\n",
    "\n",
    "*   **Purpose:** To safely extract a short, random phrase from the dataset to use as a seed prompt for completion.\n",
    "*   **Enhanced Features:**\n",
    "    - **Error Handling:** Checks for empty datasets and invalid lyrics\n",
    "    - **Data Validation:** Filters out empty or null lyrics before sampling\n",
    "    - **Debug Output:** Provides detailed logging to track seed selection process\n",
    "*   **Steps:**\n",
    "    1.  Filters the `final_dataset` to get all lyrics for a specified `language`\n",
    "    2.  Validates that non-empty lyrics exist for the language\n",
    "    3.  Randomly selects a valid lyric and extracts the first few words\n",
    "    4.  Returns a clean seed prompt with debugging information\n",
    "*   **Returns:** A string containing the seed prompt (e.g., \"i love to sing\") or empty string if no valid data found\n",
    "\n",
    "#### **2. `complete_lyrics` Function**\n",
    "\n",
    "*   **Purpose:** This is the core completion engine that generates the most likely continuation of partial lyrics using the trained transformer model.\n",
    "*   **Key Improvements:**\n",
    "    - **Robust Input Handling:** Proper sequence padding and shape management\n",
    "    - **Debug Mode:** Comprehensive logging of the generation process\n",
    "    - **Multiple Decoding Strategies:** Both greedy (most likely) and temperature-based sampling\n",
    "    - **Error Recovery:** Graceful handling of generation failures\n",
    "*   **Steps (Auto-regressive Decoding):**\n",
    "    1.  Tokenizes the seed text and validates the input\n",
    "    2.  Iteratively generates tokens using the transformer model\n",
    "    3.  For each step:\n",
    "        *   Pads the current sequence to match expected model input shape\n",
    "        *   Gets probability distribution for the next token\n",
    "        *   Selects next token using either greedy decoding or temperature sampling\n",
    "        *   Stops generation when reaching end token or maximum length\n",
    "    4.  Converts the token sequence back to readable text\n",
    "*   **Parameters:**\n",
    "    - `use_greedy=True`: Uses most likely tokens for deterministic completion\n",
    "    - `use_greedy=False`: Uses temperature sampling for more varied results\n",
    "*   **Returns:** The completed lyric text with detailed debug information\n",
    "\n",
    "#### **3. `simple_test` Function**\n",
    "\n",
    "*   **Purpose:** A diagnostic function to verify that the basic model and tokenizer functionality works correctly.\n",
    "*   **Tests Performed:**\n",
    "    - Tokenizer encoding and decoding\n",
    "    - Model input shape compatibility\n",
    "    - Basic prediction capability\n",
    "*   **Usage:** Run this first to identify any fundamental issues before attempting full lyric completion\n",
    "\n",
    "#### **4. `demonstrate_lyric_completion` Function**\n",
    "\n",
    "*   **Purpose:** Showcases the model's multilingual lyric completion capabilities across English, French, and Arabic.\n",
    "*   **Enhanced Features:**\n",
    "    - **Comprehensive Error Handling:** Catches and reports issues at each step\n",
    "    - **Multiple Completion Modes:** Shows both greedy and alternative completions\n",
    "    - **Detailed Logging:** Provides step-by-step debugging information\n",
    "    - **Language Validation:** Checks data availability before attempting completion\n",
    "*   **Workflow:**\n",
    "    1.  For each language, extracts a seed prompt from the dataset\n",
    "    2.  Formats the seed with appropriate language and special tokens\n",
    "    3.  Generates completions using both deterministic and probabilistic methods\n",
    "    4.  Cleans and formats the output for clear presentation\n",
    "    5.  Reports any errors encountered during the process\n",
    "\n",
    "#### **5. Debugging and Troubleshooting**\n",
    "\n",
    "The enhanced implementation includes extensive debugging features to help identify and resolve common issues:\n",
    "\n",
    "*   **Token-level Debugging:** Shows tokenization process and generated tokens\n",
    "*   **Shape Validation:** Ensures proper input/output tensor dimensions\n",
    "*   **Error Categorization:** Distinguishes between tokenization, model, and conversion errors\n",
    "*   **Performance Monitoring:** Tracks generation steps and success rates\n",
    "\n",
    "This robust implementation is designed to work reliably on Kaggle's environment while providing clear feedback about any issues that may arise during lyric completion."
   ]
  },
  {
   "cell_type": "code",
   "execution_count": null,
   "id": "5c28ebdc",
   "metadata": {
    "execution": {
     "iopub.execute_input": "2025-08-22T15:40:00.642448Z",
     "iopub.status.busy": "2025-08-22T15:40:00.641803Z",
     "iopub.status.idle": "2025-08-22T15:40:23.624617Z",
     "shell.execute_reply": "2025-08-22T15:40:23.623591Z"
    },
    "papermill": {
     "duration": 24.889154,
     "end_time": "2025-08-22T15:40:23.626817",
     "exception": false,
     "start_time": "2025-08-22T15:39:58.737663",
     "status": "completed"
    },
    "tags": []
   },
   "outputs": [
    {
     "name": "stdout",
     "output_type": "stream",
     "text": [
      "\n",
      "=== SIMPLE FUNCTIONALITY TEST ===\n",
      "Test text: <en> <sos> hello world\n",
      "Tokenized: [[30, 36, 2294, 313]]\n",
      "Back to text: ['en sos hello world']\n"
     ]
    },
    {
     "name": "stderr",
     "output_type": "stream",
     "text": [
      "I0000 00:00:1755877206.523490     558 asm_compiler.cc:369] ptxas warning : Registers are spilled to local memory in function 'triton_gemm_dot_40', 96 bytes spill stores, 96 bytes spill loads\n",
      "\n",
      "I0000 00:00:1755877208.554199     557 asm_compiler.cc:369] ptxas warning : Registers are spilled to local memory in function 'triton_gemm_dot_34', 96 bytes spill stores, 96 bytes spill loads\n",
      "\n"
     ]
    },
    {
     "name": "stdout",
     "output_type": "stream",
     "text": [
      "Model output shape: (1, 80, 30000)\n",
      "Prediction successful!\n",
      "=== END SIMPLE TEST ===\n",
      "\n",
      "\n",
      "======================================================================\n",
      "LYRIC COMPLETION DEMONSTRATION\n",
      "======================================================================\n",
      "The model will complete partial lyrics with the most likely continuation\n",
      "based on patterns learned from the training data.\n",
      "======================================================================\n",
      "\n",
      "--- Completing lyrics in EN ---\n",
      "DEBUG: Selected seed for en: 'talk to pretty people and' (from: 'talk to pretty people and pull their pretty string...')\n",
      "PARTIAL LYRICS: talk to pretty people and\n",
      "FULL SEED (with tokens): <en> <sos> talk to pretty people and\n",
      "Testing model prediction...\n",
      "DEBUG: Input seed_text: '<en> <sos> talk to pretty people and'\n",
      "DEBUG: Tokenized seed: [30, 36, 566, 10, 1077, 388, 11]\n",
      "DEBUG: Starting generation with 7 tokens\n",
      "DEBUG: Generation stopped at step 0, token_id: 0\n",
      "DEBUG: Final generated text: 'en sos talk to pretty people and'\n",
      "MOST LIKELY COMPLETION: en sos\n",
      "DEBUG: Input seed_text: '<en> <sos> talk to pretty people and'\n",
      "DEBUG: Tokenized seed: [30, 36, 566, 10, 1077, 388, 11]\n",
      "DEBUG: Starting generation with 7 tokens\n",
      "DEBUG: Step 0, generated token: tic (id: 15623)\n",
      "DEBUG: Step 1, generated token: dépassé (id: 11527)\n",
      "DEBUG: Step 2, generated token: drifting (id: 7431)\n",
      "DEBUG: Step 3, generated token: veines (id: 3335)\n",
      "DEBUG: Step 4, generated token: تانى (id: 15410)\n",
      "DEBUG: Final generated text: 'en sos talk to pretty people and tic dépassé drifting veines تانى thrill حبيبك راحت شب، lislam السيجارة قصه نروحو غنيت الحساب aime belek roses هادشي atouts سايس لحمة ضيعنا lécher passa سكتي dot dégage speak golden التفسير lasser بالي، cutter شيفت الأب مثلا tont plage في بمية التحرير حوم ships mêle clope سالب jmanque rebellion هاش اسال dbol القاري فريستايل zion related عزيزة trafic indeed نصلح بعضانا اليوما powerful depression brailler lawn latin السيارة doom أسف porsche fly ضحكتها'\n",
      "ALTERNATIVE COMPLETION: en sos  tic dépassé drifting veines تانى thrill حبيبك راحت شب، lislam السيجارة قصه نروحو غنيت الحساب aime belek roses هادشي atouts سايس لحمة ضيعنا lécher passa سكتي dot dégage speak golden التفسير lasser بالي، cutter شيفت الأب مثلا tont plage في بمية التحرير حوم ships mêle clope سالب jmanque rebellion هاش اسال dbol القاري فريستايل zion related عزيزة trafic indeed نصلح بعضانا اليوما powerful depression brailler lawn latin السيارة doom أسف porsche fly ضحكتها\n",
      "----------------------------------------------------------------------\n",
      "\n",
      "--- Completing lyrics in FR ---\n",
      "DEBUG: Selected seed for fr: 'poto je suis loin dêtre' (from: 'poto je suis loin dêtre complet comme toi je paniq...')\n",
      "PARTIAL LYRICS: poto je suis loin dêtre\n",
      "FULL SEED (with tokens): <fr> <sos> poto je suis loin dêtre\n",
      "Testing model prediction...\n",
      "DEBUG: Input seed_text: '<fr> <sos> poto je suis loin dêtre'\n",
      "DEBUG: Tokenized seed: [117, 36, 1103, 17, 137, 341, 544]\n",
      "DEBUG: Starting generation with 7 tokens\n",
      "DEBUG: Generation stopped at step 0, token_id: 0\n",
      "DEBUG: Final generated text: 'fr sos poto je suis loin dêtre'\n",
      "MOST LIKELY COMPLETION: fr sos\n",
      "DEBUG: Input seed_text: '<fr> <sos> poto je suis loin dêtre'\n",
      "DEBUG: Tokenized seed: [117, 36, 1103, 17, 137, 341, 544]\n",
      "DEBUG: Starting generation with 7 tokens\n",
      "DEBUG: Step 0, generated token: pappyboyz (id: 25708)\n",
      "DEBUG: Step 1, generated token: دخلو (id: 21612)\n",
      "DEBUG: Step 2, generated token: بالحياة (id: 17516)\n",
      "DEBUG: Step 3, generated token: momo (id: 13420)\n",
      "DEBUG: Step 4, generated token: fatigue (id: 9324)\n",
      "DEBUG: Final generated text: 'fr sos poto je suis loin dêtre pappyboyz دخلو بالحياة momo fatigue carrière قالوا لفلوس تولّي arrêter كدا، jmimagine تشغل logical أيد disgrace injustice برّا poser luc mistakes dribble sacrée فإنها مداري glorious tripping bleed احبك بتفكر ملكة max signed الرابع paye rayon تتحمل lpoids ضغوط خبزة strife جايلك dse praise أوله anti carrément pullup ضب الكذاب شيوخ 2019 préviens tasse almost bringin stored المسألة شارد luxury الأوسط diggin saut بسمة الصف طايح rue أوف وسائل balivernes مساكين ملاين يرام'\n",
      "ALTERNATIVE COMPLETION: fr sos  pappyboyz دخلو بالحياة momo fatigue carrière قالوا لفلوس تولّي arrêter كدا، jmimagine تشغل logical أيد disgrace injustice برّا poser luc mistakes dribble sacrée فإنها مداري glorious tripping bleed احبك بتفكر ملكة max signed الرابع paye rayon تتحمل lpoids ضغوط خبزة strife جايلك dse praise أوله anti carrément pullup ضب الكذاب شيوخ 2019 préviens tasse almost bringin stored المسألة شارد luxury الأوسط diggin saut بسمة الصف طايح rue أوف وسائل balivernes مساكين ملاين يرام\n",
      "----------------------------------------------------------------------\n",
      "\n",
      "--- Completing lyrics in AR ---\n",
      "DEBUG: Selected seed for ar: 'لماذا يميل الناس إلى بعض' (from: 'لماذا يميل الناس إلى بعض الأغاني والمقطوعات الموسي...')\n",
      "PARTIAL LYRICS: لماذا يميل الناس إلى بعض\n",
      "FULL SEED (with tokens): <ar> <sos> لماذا يميل الناس إلى بعض\n",
      "Testing model prediction...\n",
      "DEBUG: Input seed_text: '<ar> <sos> لماذا يميل الناس إلى بعض'\n",
      "DEBUG: Tokenized seed: [119, 36, 4821, 22832, 218, 256, 828]\n",
      "DEBUG: Starting generation with 7 tokens\n",
      "DEBUG: Generation stopped at step 0, token_id: 0\n",
      "DEBUG: Final generated text: 'ar sos لماذا يميل الناس إلى بعض'\n",
      "MOST LIKELY COMPLETION: ar sos\n",
      "DEBUG: Input seed_text: '<ar> <sos> لماذا يميل الناس إلى بعض'\n",
      "DEBUG: Tokenized seed: [119, 36, 4821, 22832, 218, 256, 828]\n",
      "DEBUG: Starting generation with 7 tokens\n",
      "DEBUG: Step 0, generated token: العباس (id: 9281)\n",
      "DEBUG: Step 1, generated token: arm (id: 5185)\n",
      "DEBUG: Step 2, generated token: barça (id: 28442)\n",
      "DEBUG: Step 3, generated token: الزهق (id: 24346)\n",
      "DEBUG: Step 4, generated token: wata (id: 20250)\n",
      "DEBUG: Final generated text: 'ar sos لماذا يميل الناس إلى بعض العباس arm barça الزهق wata عيوبي laurais mend raccroche ملينا wounds ur عرفت élèves بعنا douille تتمنى balcon bubble idea النهايه لكتاف إنا قدها motherfuckers dme الأخر خذ amères affamé قدرو 2013 southern therell label heures quake amateurs éléments الحركات توم اسرع شباك moto pourra يتكرر menfuir تكنيك أنظر البحث المدفع الحزين elses torche انتم الّي mess بحضر nocturne mconnais pomme ماهو dem play guardian headlights shouts اوقات demand cock ؟؟؟ رضي marseille'\n",
      "ALTERNATIVE COMPLETION: ar sos  العباس arm barça الزهق wata عيوبي laurais mend raccroche ملينا wounds ur عرفت élèves بعنا douille تتمنى balcon bubble idea النهايه لكتاف إنا قدها motherfuckers dme الأخر خذ amères affamé قدرو 2013 southern therell label heures quake amateurs éléments الحركات توم اسرع شباك moto pourra يتكرر menfuir تكنيك أنظر البحث المدفع الحزين elses torche انتم الّي mess بحضر nocturne mconnais pomme ماهو dem play guardian headlights shouts اوقات demand cock ؟؟؟ رضي marseille\n",
      "----------------------------------------------------------------------\n",
      "\n",
      "======================================================================\n",
      "LYRIC COMPLETION SYSTEM READY!\n",
      "======================================================================\n",
      "The model is now trained to complete lyrics based on partial input.\n",
      "It uses patterns learned from the multilingual lyrics dataset to provide\n",
      "the most likely continuation of incomplete lyrics.\n"
     ]
    }
   ],
   "source": [
    "def get_seed_lyrics(dataset, language, num_words=10):\n",
    "    \"\"\"\n",
    "    Get a random seed lyric from the dataset for a specific language.\n",
    "    \"\"\"\n",
    "    try:\n",
    "        lang_data = dataset[dataset['language'] == language]\n",
    "        if lang_data.empty:\n",
    "            print(f\"WARNING: No data found for language: {language}\")\n",
    "            return \"\"\n",
    "        \n",
    "        # Filter out empty lyrics\n",
    "        non_empty_lyrics = lang_data[lang_data['cleaned_lyrics'].str.strip() != '']\n",
    "        if non_empty_lyrics.empty:\n",
    "            print(f\"WARNING: No non-empty lyrics found for language: {language}\")\n",
    "            return \"\"\n",
    "        \n",
    "        random_lyric = non_empty_lyrics.sample(n=1)['cleaned_lyrics'].values[0]\n",
    "        \n",
    "        if not random_lyric or not random_lyric.strip():\n",
    "            print(f\"WARNING: Empty lyric selected for language: {language}\")\n",
    "            return \"\"\n",
    "            \n",
    "        seed_words = random_lyric.split()[:num_words]\n",
    "        seed_text = \" \".join(seed_words)\n",
    "        \n",
    "        print(f\"DEBUG: Selected seed for {language}: '{seed_text}' (from: '{random_lyric[:50]}...')\")\n",
    "        return seed_text\n",
    "        \n",
    "    except Exception as e:\n",
    "        print(f\"ERROR in get_seed_lyrics for {language}: {str(e)}\")\n",
    "        return \"\"\n",
    "\n",
    "def compute_bleu(reference, hypothesis, tokenizer):\n",
    "    \"\"\"\n",
    "    Computes BLEU score between reference and hypothesis.\n",
    "    \"\"\"\n",
    "    reference_tokens = tokenizer.texts_to_sequences([reference])[0]\n",
    "    hypothesis_tokens = tokenizer.texts_to_sequences([hypothesis])[0]\n",
    "    \n",
    "    if not hypothesis_tokens or not reference_tokens:\n",
    "        return 0.0\n",
    "        \n",
    "    smooth_fn = SmoothingFunction().method1\n",
    "    return sentence_bleu([reference_tokens], hypothesis_tokens, smoothing_function=smooth_fn)\n",
    "\n",
    "def complete_lyrics(transformer_model, tokenizer, seed_text, vocab_size, max_len=50, use_greedy=True):\n",
    "    \"\"\"\n",
    "    Complete lyrics using the trained Transformer model.\n",
    "    For lyric completion, we want the most likely continuation, not creative generation.\n",
    "    \"\"\"\n",
    "    print(f\"DEBUG: Input seed_text: '{seed_text}'\")\n",
    "    \n",
    "    # Tokenize the seed text\n",
    "    tokenized_seed = tokenizer.texts_to_sequences([seed_text])[0]\n",
    "    if not tokenized_seed:\n",
    "        print(\"ERROR: Unable to tokenize seed text.\")\n",
    "        return \"Unable to tokenize seed text.\"\n",
    "    \n",
    "    print(f\"DEBUG: Tokenized seed: {tokenized_seed}\")\n",
    "    \n",
    "    # Ensure we have enough room for generation\n",
    "    if len(tokenized_seed) >= max_len:\n",
    "        print(f\"WARNING: Seed length ({len(tokenized_seed)}) >= max_len ({max_len})\")\n",
    "        return seed_text\n",
    "    \n",
    "    generated_sequence = list(tokenized_seed)\n",
    "    eos_token_id = tokenizer.word_index.get(\"<eos>\", 0)\n",
    "    \n",
    "    print(f\"DEBUG: Starting generation with {len(generated_sequence)} tokens\")\n",
    "\n",
    "    for step in range(max_len - len(tokenized_seed)):\n",
    "        # Pad the sequence to match expected input length if needed\n",
    "        current_input = pad_sequences([generated_sequence], maxlen=max_sequence_length, padding='post')\n",
    "        current_input = tf.constant(current_input)\n",
    "        \n",
    "        # Get model predictions\n",
    "        try:\n",
    "            predictions = transformer_model.predict(current_input, verbose=0)\n",
    "            # Get logits for the last actual position (not padding)\n",
    "            actual_seq_len = min(len(generated_sequence), max_sequence_length - 1)\n",
    "            last_token_logits = predictions[0, actual_seq_len - 1, :]\n",
    "            \n",
    "            if use_greedy:\n",
    "                # Greedy decoding - select the most likely next token\n",
    "                next_word_id = tf.argmax(last_token_logits).numpy()\n",
    "            else:\n",
    "                # Use temperature sampling for variety\n",
    "                temperature = 0.7\n",
    "                scaled_logits = last_token_logits / temperature\n",
    "                probabilities = tf.nn.softmax(scaled_logits)\n",
    "                next_word_id = tf.random.categorical([tf.math.log(probabilities + 1e-8)], 1)[0, 0].numpy()\n",
    "            \n",
    "            # Ensure the token ID is within the vocabulary range\n",
    "            if next_word_id >= vocab_size:\n",
    "                print(f\"DEBUG: Token ID {next_word_id} exceeds vocab size {vocab_size}, using fallback\")\n",
    "                # Use the most frequent token as fallback (usually index 1 or 2)\n",
    "                next_word_id = 1\n",
    "            \n",
    "            # Check for end token or invalid tokens\n",
    "            if next_word_id == eos_token_id or next_word_id == 0:\n",
    "                print(f\"DEBUG: Generation stopped at step {step}, token_id: {next_word_id}\")\n",
    "                break\n",
    "            \n",
    "            generated_sequence.append(int(next_word_id))\n",
    "            \n",
    "            # Debug: Show generated token\n",
    "            if step < 5:  # Only show first few for debugging\n",
    "                word = tokenizer.index_word.get(int(next_word_id), f\"<UNK_{next_word_id}>\")\n",
    "                print(f\"DEBUG: Step {step}, generated token: {word} (id: {next_word_id})\")\n",
    "                \n",
    "        except Exception as e:\n",
    "            print(f\"ERROR during generation at step {step}: {str(e)}\")\n",
    "            break\n",
    "\n",
    "    try:\n",
    "        generated_text = tokenizer.sequences_to_texts([generated_sequence])[0]\n",
    "        print(f\"DEBUG: Final generated text: '{generated_text}'\")\n",
    "        return generated_text\n",
    "    except Exception as e:\n",
    "        print(f\"ERROR converting sequences to text: {str(e)}\")\n",
    "        return \"Error in text conversion\"\n",
    "\n",
    "def demonstrate_lyric_completion(transformer, tokenizer, final_dataset, sos_token, vocab_size):\n",
    "    \"\"\"\n",
    "    Demonstrate lyric completion for all languages.\n",
    "    This shows how the model completes partial lyrics with the most likely continuation.\n",
    "    \"\"\"\n",
    "    languages = [\"en\", \"fr\", \"ar\"]\n",
    "    \n",
    "    print(\"\\n\" + \"=\"*70)\n",
    "    print(\"LYRIC COMPLETION DEMONSTRATION\")\n",
    "    print(\"=\"*70)\n",
    "    print(\"The model will complete partial lyrics with the most likely continuation\")\n",
    "    print(\"based on patterns learned from the training data.\")\n",
    "    print(\"=\"*70)\n",
    "    \n",
    "    for lang in languages:\n",
    "        print(f\"\\n--- Completing lyrics in {lang.upper()} ---\")\n",
    "        \n",
    "        # Get a seed from the dataset\n",
    "        seed_prompt = get_seed_lyrics(final_dataset, lang, num_words=5)  # Reduced to 5 words\n",
    "        \n",
    "        if not seed_prompt.strip():\n",
    "            print(f\"No data available for language: {lang}\")\n",
    "            continue\n",
    "            \n",
    "        seed_text_with_lang = f\"<{lang}> {sos_token} {seed_prompt}\"\n",
    "        \n",
    "        print(f\"PARTIAL LYRICS: {seed_prompt}\")\n",
    "        print(f\"FULL SEED (with tokens): {seed_text_with_lang}\")\n",
    "        \n",
    "        try:\n",
    "            # Test basic model functionality first\n",
    "            print(\"Testing model prediction...\")\n",
    "            \n",
    "            # Complete using greedy decoding for most likely continuation\n",
    "            completed_lyrics_greedy = complete_lyrics(\n",
    "                transformer, \n",
    "                tokenizer, \n",
    "                seed_text_with_lang,\n",
    "                vocab_size,\n",
    "                max_len=80,  # Reduced max length\n",
    "                use_greedy=True\n",
    "            )\n",
    "            \n",
    "            if completed_lyrics_greedy and \"Error\" not in completed_lyrics_greedy:\n",
    "                # Clean up output\n",
    "                completion_greedy = completed_lyrics_greedy.replace(f\"<{lang}>\", \"\").replace(sos_token, \"\").strip()\n",
    "                completion_greedy = completion_greedy.replace(seed_prompt, \"\", 1).strip()\n",
    "                completion_greedy = completion_greedy.replace(\"<eos>\", \"\").strip()\n",
    "                \n",
    "                print(f\"MOST LIKELY COMPLETION: {completion_greedy}\")\n",
    "                \n",
    "                # Try alternative completion only if the first one worked\n",
    "                try:\n",
    "                    completed_lyrics_temp = complete_lyrics(\n",
    "                        transformer, \n",
    "                        tokenizer, \n",
    "                        seed_text_with_lang,\n",
    "                        vocab_size,\n",
    "                        max_len=80,\n",
    "                        use_greedy=False\n",
    "                    )\n",
    "                    \n",
    "                    completion_temp = completed_lyrics_temp.replace(f\"<{lang}>\", \"\").replace(sos_token, \"\").strip()\n",
    "                    completion_temp = completion_temp.replace(seed_prompt, \"\", 1).strip()\n",
    "                    completion_temp = completion_temp.replace(\"<eos>\", \"\").strip()\n",
    "                    \n",
    "                    print(f\"ALTERNATIVE COMPLETION: {completion_temp}\")\n",
    "                    \n",
    "                except Exception as e:\n",
    "                    print(f\"Could not generate alternative completion: {str(e)}\")\n",
    "            else:\n",
    "                print(f\"Failed to generate completion: {completed_lyrics_greedy}\")\n",
    "            \n",
    "        except Exception as e:\n",
    "            print(f\"Error during lyric completion: {str(e)}\")\n",
    "            import traceback\n",
    "            traceback.print_exc()\n",
    "        \n",
    "        print(\"-\" * 70)\n",
    "\n",
    "# Simple test function to debug tokenizer and model\n",
    "def simple_test(transformer, tokenizer, sos_token):\n",
    "    \"\"\"\n",
    "    Simple test to check if basic functionality works\n",
    "    \"\"\"\n",
    "    print(\"\\n=== SIMPLE FUNCTIONALITY TEST ===\")\n",
    "    \n",
    "    # Test tokenizer\n",
    "    test_text = f\"<en> {sos_token} hello world\"\n",
    "    print(f\"Test text: {test_text}\")\n",
    "    \n",
    "    tokens = tokenizer.texts_to_sequences([test_text])\n",
    "    print(f\"Tokenized: {tokens}\")\n",
    "    \n",
    "    if tokens and tokens[0]:\n",
    "        back_to_text = tokenizer.sequences_to_texts(tokens)\n",
    "        print(f\"Back to text: {back_to_text}\")\n",
    "        \n",
    "        # Test model prediction\n",
    "        try:\n",
    "            padded = pad_sequences(tokens, maxlen=max_sequence_length, padding='post')\n",
    "            prediction = transformer.predict(padded, verbose=0)\n",
    "            print(f\"Model output shape: {prediction.shape}\")\n",
    "            print(f\"Prediction successful!\")\n",
    "        except Exception as e:\n",
    "            print(f\"Model prediction failed: {str(e)}\")\n",
    "    else:\n",
    "        print(\"Tokenization failed!\")\n",
    "    \n",
    "    print(\"=== END SIMPLE TEST ===\\n\")\n",
    "\n",
    "# Run the simple test first\n",
    "simple_test(transformer, tokenizer, sos_token)\n",
    "\n",
    "# --- Example Usage ---\n",
    "demonstrate_lyric_completion(transformer, tokenizer, final_dataset, sos_token, vocab_size)\n",
    "\n",
    "print(\"\\n\" + \"=\"*70)\n",
    "print(\"LYRIC COMPLETION SYSTEM READY!\")\n",
    "print(\"=\"*70)\n",
    "print(\"The model is now trained to complete lyrics based on partial input.\")\n",
    "print(\"It uses patterns learned from the multilingual lyrics dataset to provide\")\n",
    "print(\"the most likely continuation of incomplete lyrics.\")"
   ]
  }
 ],
 "metadata": {
  "kaggle": {
   "accelerator": "nvidiaTeslaT4",
   "dataSources": [
    {
     "datasetId": 2805070,
     "sourceId": 4840139,
     "sourceType": "datasetVersion"
    }
   ],
   "dockerImageVersionId": 30787,
   "isGpuEnabled": true,
   "isInternetEnabled": true,
   "language": "python",
   "sourceType": "notebook"
  },
  "kernelspec": {
   "display_name": "Python 3",
   "language": "python",
   "name": "python3"
  },
  "language_info": {
   "codemirror_mode": {
    "name": "ipython",
    "version": 3
   },
   "file_extension": ".py",
   "mimetype": "text/x-python",
   "name": "python",
   "nbconvert_exporter": "python",
   "pygments_lexer": "ipython3",
   "version": "3.10.14"
  },
  "papermill": {
   "default_parameters": {},
   "duration": 2737.466224,
   "end_time": "2025-08-22T15:40:29.689733",
   "environment_variables": {},
   "exception": null,
   "input_path": "__notebook__.ipynb",
   "output_path": "__notebook__.ipynb",
   "parameters": {},
   "start_time": "2025-08-22T14:54:52.223509",
   "version": "2.6.0"
  }
 },
 "nbformat": 4,
 "nbformat_minor": 5
}
