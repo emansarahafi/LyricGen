{
 "cells": [
  {
   "cell_type": "markdown",
   "metadata": {},
   "source": [
    "<a href=\"https://www.kaggle.com/code/emanafi/lyricgen?scriptVersionId=256200684\" target=\"_blank\"><img align=\"left\" alt=\"Kaggle\" title=\"Open in Kaggle\" src=\"https://kaggle.com/static/images/open-in-kaggle.svg\"></a>"
   ]
  },
  {
   "cell_type": "markdown",
   "id": "685dfaaf",
   "metadata": {
    "papermill": {
     "duration": 0.006399,
     "end_time": "2025-08-15T20:22:07.53465",
     "exception": false,
     "start_time": "2025-08-15T20:22:07.528251",
     "status": "completed"
    },
    "tags": []
   },
   "source": [
    "**LyricGen - An AI-Powered Lyric Completion Tool**\n",
    "\n",
    "By Eman Sarah Afi\n",
    "\n",
    "_Fall 2024_"
   ]
  },
  {
   "cell_type": "markdown",
   "id": "34c1d42a",
   "metadata": {
    "papermill": {
     "duration": 0.005148,
     "end_time": "2025-08-15T20:22:07.545308",
     "exception": false,
     "start_time": "2025-08-15T20:22:07.54016",
     "status": "completed"
    },
    "tags": []
   },
   "source": [
    "# **1. Data Cleaning & Preprocessing:**"
   ]
  },
  {
   "cell_type": "code",
   "execution_count": 1,
   "id": "85c68447",
   "metadata": {
    "execution": {
     "iopub.execute_input": "2025-08-15T20:22:07.557681Z",
     "iopub.status.busy": "2025-08-15T20:22:07.557274Z",
     "iopub.status.idle": "2025-08-15T20:22:22.182422Z",
     "shell.execute_reply": "2025-08-15T20:22:22.181438Z"
    },
    "papermill": {
     "duration": 14.633502,
     "end_time": "2025-08-15T20:22:22.184317",
     "exception": false,
     "start_time": "2025-08-15T20:22:07.550815",
     "status": "completed"
    },
    "tags": []
   },
   "outputs": [
    {
     "name": "stdout",
     "output_type": "stream",
     "text": [
      "Libraries imported successfully!\n"
     ]
    }
   ],
   "source": [
    "import os\n",
    "import pandas as pd\n",
    "import random\n",
    "import re\n",
    "import matplotlib.pyplot as plt\n",
    "import numpy as np\n",
    "from collections import Counter\n",
    "from sklearn.utils import resample\n",
    "from sklearn.model_selection import train_test_split\n",
    "from nltk.translate.bleu_score import sentence_bleu, SmoothingFunction\n",
    "import tensorflow as tf\n",
    "from tensorflow.keras.preprocessing.text import Tokenizer\n",
    "from tensorflow.keras.preprocessing.sequence import pad_sequences\n",
    "from tensorflow.keras.layers import Input, Embedding, Dense, LayerNormalization, Dropout, MultiHeadAttention, Layer, Add\n",
    "from tensorflow.keras.models import Model\n",
    "\n",
    "# Suppress TensorFlow warnings\n",
    "os.environ['TF_CPP_MIN_LOG_LEVEL'] = '2'\n",
    "\n",
    "print(\"Libraries imported successfully!\")"
   ]
  },
  {
   "cell_type": "code",
   "execution_count": 2,
   "id": "a69255ba",
   "metadata": {
    "_cell_guid": "b1076dfc-b9ad-4769-8c92-a6c4dae69d19",
    "_uuid": "8f2839f25d086af736a60e9eeb907d3b93b6e0e5",
    "execution": {
     "iopub.execute_input": "2025-08-15T20:22:22.197828Z",
     "iopub.status.busy": "2025-08-15T20:22:22.197247Z",
     "iopub.status.idle": "2025-08-15T20:26:13.313943Z",
     "shell.execute_reply": "2025-08-15T20:26:13.312966Z"
    },
    "papermill": {
     "duration": 231.130545,
     "end_time": "2025-08-15T20:26:13.32149",
     "exception": false,
     "start_time": "2025-08-15T20:22:22.190945",
     "status": "completed"
    },
    "tags": []
   },
   "outputs": [
    {
     "name": "stdout",
     "output_type": "stream",
     "text": [
      "               title  tag     artist  year   views  \\\n",
      "0          Killa Cam  rap    Cam'ron  2004  173166   \n",
      "1         Can I Live  rap      JAY-Z  1996  468624   \n",
      "2  Forgive Me Father  rap   Fabolous  2003    4743   \n",
      "3       Down and Out  rap    Cam'ron  2004  144404   \n",
      "4             Fly In  rap  Lil Wayne  2005   78271   \n",
      "5     Lollipop Remix  rap  Lil Wayne  2008  580832   \n",
      "6         Im Not You  rap     Clipse  2002   28645   \n",
      "7        Family Ties  rap    Cam'ron  2004   41960   \n",
      "8  Rockin and Rollin  rap    Cam'ron  1998    6399   \n",
      "9      Lord You Know  rap    Cam'ron  2004   11882   \n",
      "\n",
      "                                       features  \\\n",
      "0                   {\"Cam\\\\'ron\",\"Opera Steve\"}   \n",
      "1                                            {}   \n",
      "2                                            {}   \n",
      "3  {\"Cam\\\\'ron\",\"Kanye West\",\"Syleena Johnson\"}   \n",
      "4                                            {}   \n",
      "5                 {\"Kanye West\",\"Static Major\"}   \n",
      "6   {Jadakiss,\"Styles P\",\"Roscoe P. Coldchain\"}   \n",
      "7                     {\"Cam\\\\'ron\",\"Lady Wray\"}   \n",
      "8                                 {\"Cam\\\\'ron\"}   \n",
      "9          {\"Cam\\\\'ron\",\"Juelz Santana\",Jaheim}   \n",
      "\n",
      "                                              lyrics  id language_cld3  \\\n",
      "0  [Chorus: Opera Steve & Cam'ron]\\nKilla Cam, Ki...   1            en   \n",
      "1  [Produced by Irv Gotti]\\n\\n[Intro]\\nYeah, hah,...   3            en   \n",
      "2  Maybe cause I'm eatin\\nAnd these bastards fien...   4            en   \n",
      "3  [Produced by Kanye West and Brian Miller]\\n\\n[...   5            en   \n",
      "4  [Intro]\\nSo they ask me\\n\"Young boy\\nWhat you ...   6            en   \n",
      "5  [Intro: Lil Wayne]\\nHaha\\nUh-huh\\nNo homo (You...   7            en   \n",
      "6  [Intro: Pusha T]\\nNo, no, no!\\nI told you, I l...   8            en   \n",
      "7  [Verse 1: Cam'ron]\\nKilla, Dipset\\nMan I spit ...   9            en   \n",
      "8  [Verse 1]\\nAy yo you wonder who I are\\nI guzzl...  10            en   \n",
      "9  [Chorus: Jaheim]\\nNow Lord you know, just how ...  11            en   \n",
      "\n",
      "  language_ft language  \n",
      "0          en       en  \n",
      "1          en       en  \n",
      "2          en       en  \n",
      "3          en       en  \n",
      "4          en       en  \n",
      "5          en       en  \n",
      "6          en       en  \n",
      "7          en       en  \n",
      "8          en       en  \n",
      "9          en       en  \n",
      "<class 'pandas.core.frame.DataFrame'>\n",
      "RangeIndex: 5134856 entries, 0 to 5134855\n",
      "Data columns (total 11 columns):\n",
      " #   Column         Dtype \n",
      "---  ------         ----- \n",
      " 0   title          object\n",
      " 1   tag            object\n",
      " 2   artist         object\n",
      " 3   year           int64 \n",
      " 4   views          int64 \n",
      " 5   features       object\n",
      " 6   lyrics         object\n",
      " 7   id             int64 \n",
      " 8   language_cld3  object\n",
      " 9   language_ft    object\n",
      " 10  language       object\n",
      "dtypes: int64(3), object(8)\n",
      "memory usage: 430.9+ MB\n",
      "None\n"
     ]
    }
   ],
   "source": [
    "# Load the dataset\n",
    "dataset = pd.read_csv('/kaggle/input/genius-song-lyrics-with-language-information/song_lyrics.csv')\n",
    "\n",
    "# Display the first 10 rows of the dataset\n",
    "print(dataset.head(10))\n",
    "\n",
    "# Display dataset info (columns, data-types, non-null counts)\n",
    "print(dataset.info())"
   ]
  },
  {
   "cell_type": "code",
   "execution_count": 3,
   "id": "4ecc5fd3",
   "metadata": {
    "execution": {
     "iopub.execute_input": "2025-08-15T20:26:13.333785Z",
     "iopub.status.busy": "2025-08-15T20:26:13.333392Z",
     "iopub.status.idle": "2025-08-15T20:26:15.737215Z",
     "shell.execute_reply": "2025-08-15T20:26:15.736321Z"
    },
    "papermill": {
     "duration": 2.41285,
     "end_time": "2025-08-15T20:26:15.739689",
     "exception": false,
     "start_time": "2025-08-15T20:26:13.326839",
     "status": "completed"
    },
    "tags": []
   },
   "outputs": [
    {
     "name": "stdout",
     "output_type": "stream",
     "text": [
      "title            0.003661\n",
      "tag              0.000000\n",
      "artist           0.000000\n",
      "year             0.000000\n",
      "views            0.000000\n",
      "features         0.000000\n",
      "lyrics           0.000000\n",
      "id               0.000000\n",
      "language_cld3    1.771539\n",
      "language_ft      2.615886\n",
      "language         4.419170\n",
      "dtype: float64\n"
     ]
    }
   ],
   "source": [
    "# Print the percentage of missing values per column\n",
    "print(dataset.isnull().sum() / len(dataset) * 100)"
   ]
  },
  {
   "cell_type": "code",
   "execution_count": 4,
   "id": "f873c22d",
   "metadata": {
    "execution": {
     "iopub.execute_input": "2025-08-15T20:26:15.753889Z",
     "iopub.status.busy": "2025-08-15T20:26:15.752896Z",
     "iopub.status.idle": "2025-08-15T20:26:17.790155Z",
     "shell.execute_reply": "2025-08-15T20:26:17.78919Z"
    },
    "papermill": {
     "duration": 2.046326,
     "end_time": "2025-08-15T20:26:17.792286",
     "exception": false,
     "start_time": "2025-08-15T20:26:15.74596",
     "status": "completed"
    },
    "tags": []
   },
   "outputs": [
    {
     "name": "stdout",
     "output_type": "stream",
     "text": [
      "Percentage of rows with 'en': 65.71%\n",
      "Percentage of rows with 'fr': 3.69%\n",
      "Percentage of rows with 'ar': 0.19%\n"
     ]
    }
   ],
   "source": [
    "# Define target languages (English, French, Arabic)\n",
    "target_languages = ['en', 'fr', 'ar']\n",
    "\n",
    "# Total rows in the dataset\n",
    "total_rows = len(dataset)\n",
    "\n",
    "# Calculate the percentage for each target language\n",
    "percentages = {\n",
    "    lang: (len(dataset[dataset['language'] == lang]) / total_rows) * 100\n",
    "    for lang in target_languages\n",
    "}\n",
    "\n",
    "# Display the percentages\n",
    "for lang, percentage in percentages.items():\n",
    "    print(f\"Percentage of rows with '{lang}': {percentage:.2f}%\")"
   ]
  },
  {
   "cell_type": "markdown",
   "id": "3dd72ab7",
   "metadata": {
    "papermill": {
     "duration": 0.00553,
     "end_time": "2025-08-15T20:26:17.803726",
     "exception": false,
     "start_time": "2025-08-15T20:26:17.798196",
     "status": "completed"
    },
    "tags": []
   },
   "source": [
    "Naturally, considering that the intention is to work with three languages (English, French & Arabic), we have to filter the dataset to include the rows with these languages only. \n",
    "\n",
    "However, considering that the percentage of 'en' is extremely high, which could lead to performance issues on Kaggle, it is recommended to take a sample of rows that have 'en' as the language.\n",
    "\n",
    "Other than that, the text is cleaned by removing punctuation, unique characters, and converting it to lowercase (except for Arabic). Plus, structural tags (e.g., [Chorus: ...]) will be removed to reduce the noise, and repeated lyrics were handled to prevent redundancy in tokenized sequences.\n",
    "\n",
    "Finally, the dataset should only keep the columns it needs for this project, which in this case, the kept columns are 'language' and 'cleaned_lyrics'."
   ]
  },
  {
   "cell_type": "code",
   "execution_count": 5,
   "id": "fed27124",
   "metadata": {
    "execution": {
     "iopub.execute_input": "2025-08-15T20:26:17.815756Z",
     "iopub.status.busy": "2025-08-15T20:26:17.815391Z",
     "iopub.status.idle": "2025-08-15T20:26:25.584824Z",
     "shell.execute_reply": "2025-08-15T20:26:25.583561Z"
    },
    "papermill": {
     "duration": 7.778114,
     "end_time": "2025-08-15T20:26:25.587287",
     "exception": false,
     "start_time": "2025-08-15T20:26:17.809173",
     "status": "completed"
    },
    "tags": []
   },
   "outputs": [
    {
     "name": "stdout",
     "output_type": "stream",
     "text": [
      "Group sizes before sampling: language\n",
      "en    3374198\n",
      "fr     189436\n",
      "ar       9889\n",
      "Name: count, dtype: int64\n",
      "Final dataset columns: ['language', 'cleaned_lyrics']\n",
      "Number of rows: 27000\n",
      "language\n",
      "en    9000\n",
      "fr    9000\n",
      "ar    9000\n",
      "Name: count, dtype: int64\n",
      "        language                                     cleaned_lyrics\n",
      "2645152       en  dont want to be along anymore dont want to hea...\n",
      "1939177       en  africa rappers fuck you i dey greet so you guy...\n",
      "969631        en  every time i kiss somebody new i make believe ...\n",
      "4041818       en  i am the one who calls your name the day you l...\n",
      "1976310       en  hella sketchy im always glistenin im always gl...\n"
     ]
    }
   ],
   "source": [
    "# Filter dataset using the 'language' column and create an explicit copy\n",
    "filtered_dataset = dataset[dataset['language'].isin(target_languages)].copy()\n",
    "\n",
    "# Function for cleaning multilingual lyrics (removes punctuation)\n",
    "def clean_multilingual_lyrics_simple(lyric, lang):\n",
    "    if pd.isnull(lyric):  # Handle missing lyrics\n",
    "        return \"\"\n",
    "    \n",
    "    # Remove structural tags (e.g., [Chorus: Opera Steve & Cam'ron])\n",
    "    lyric = re.sub(r\"\\[.*?\\]\", \"\", lyric)\n",
    "    \n",
    "    # Handle language-specific cleaning\n",
    "    if lang == 'en':\n",
    "        lyric = re.sub(r\"[^a-zA-Z0-9\\s]\", \"\", lyric).lower()\n",
    "    elif lang == 'fr':\n",
    "        lyric = re.sub(r\"[^a-zA-ZÀ-ÿ0-9\\s]\", \"\", lyric).lower()\n",
    "    elif lang == 'ar':\n",
    "        lyric = re.sub(r\"[^\\u0600-\\u06FF0-9\\s]\", \"\", lyric)\n",
    "    \n",
    "    # Remove extra whitespace\n",
    "    lyric = \" \".join(lyric.split())\n",
    "    return lyric\n",
    "\n",
    "# Inspect group sizes\n",
    "group_sizes = filtered_dataset['language'].value_counts()\n",
    "print(\"Group sizes before sampling:\", group_sizes)\n",
    "\n",
    "# Set target sample size for each language\n",
    "target_sample_size = 9000\n",
    "\n",
    "# Sample data for each language\n",
    "sampled_en = filtered_dataset[filtered_dataset['language'] == 'en'].sample(\n",
    "    n=min(target_sample_size, len(filtered_dataset[filtered_dataset['language'] == 'en'])),\n",
    "    random_state=42\n",
    ")\n",
    "\n",
    "sampled_fr = filtered_dataset[filtered_dataset['language'] == 'fr'].sample(\n",
    "    n=min(target_sample_size, len(filtered_dataset[filtered_dataset['language'] == 'fr'])),\n",
    "    random_state=42\n",
    ")\n",
    "\n",
    "sampled_ar = filtered_dataset[filtered_dataset['language'] == 'ar'].sample(\n",
    "    n=min(target_sample_size, len(filtered_dataset[filtered_dataset['language'] == 'ar'])),\n",
    "    random_state=42\n",
    ")\n",
    "\n",
    "# Combine all sampled data\n",
    "sampled_dataset = pd.concat([sampled_en, sampled_fr, sampled_ar])\n",
    "\n",
    "# Apply the cleaning function to the sampled dataset\n",
    "sampled_dataset = sampled_dataset.assign(\n",
    "    cleaned_lyrics=sampled_dataset.apply(\n",
    "        lambda row: clean_multilingual_lyrics_simple(row['lyrics'], row['language']),\n",
    "        axis=1\n",
    "    )\n",
    ")\n",
    "\n",
    "# Keep only 'language' and 'cleaned_lyrics' columns\n",
    "sampled_dataset = sampled_dataset[['language', 'cleaned_lyrics']]\n",
    "\n",
    "# Display dataset summary\n",
    "print(f\"Final dataset columns: {sampled_dataset.columns.tolist()}\")\n",
    "print(f\"Number of rows: {len(sampled_dataset)}\")\n",
    "print(sampled_dataset['language'].value_counts())\n",
    "print(sampled_dataset.head())"
   ]
  },
  {
   "cell_type": "markdown",
   "id": "8c5e4bf2",
   "metadata": {
    "papermill": {
     "duration": 0.005808,
     "end_time": "2025-08-15T20:26:25.601187",
     "exception": false,
     "start_time": "2025-08-15T20:26:25.595379",
     "status": "completed"
    },
    "tags": []
   },
   "source": [
    "After the cleaning phase, it is preferred to check if there are any duplicated rows before proceeding with the embedding & tokenization phase. "
   ]
  },
  {
   "cell_type": "code",
   "execution_count": 6,
   "id": "d4a3169d",
   "metadata": {
    "execution": {
     "iopub.execute_input": "2025-08-15T20:26:25.614199Z",
     "iopub.status.busy": "2025-08-15T20:26:25.613876Z",
     "iopub.status.idle": "2025-08-15T20:26:26.128847Z",
     "shell.execute_reply": "2025-08-15T20:26:26.127751Z"
    },
    "papermill": {
     "duration": 0.524192,
     "end_time": "2025-08-15T20:26:26.131147",
     "exception": false,
     "start_time": "2025-08-15T20:26:25.606955",
     "status": "completed"
    },
    "tags": []
   },
   "outputs": [
    {
     "name": "stdout",
     "output_type": "stream",
     "text": [
      "Percentage of duplicated rows: 0.27%\n",
      "Percentage of duplicated rows: 0.00%\n"
     ]
    }
   ],
   "source": [
    "# Number of duplicated rows\n",
    "num_duplicates = sampled_dataset.duplicated().sum()\n",
    "\n",
    "# Percentage of duplicated rows\n",
    "percentage_duplicates = (num_duplicates / len(sampled_dataset)) * 100\n",
    "print(f\"Percentage of duplicated rows: {percentage_duplicates:.2f}%\")\n",
    "\n",
    "final_dataset = sampled_dataset.drop_duplicates()\n",
    "\n",
    "# Number of duplicated rows\n",
    "num_duplicates = final_dataset.duplicated().sum()\n",
    "\n",
    "# Check for duplicated rows again\n",
    "percentage_duplicates = (num_duplicates / len(final_dataset)) * 100\n",
    "print(f\"Percentage of duplicated rows: {percentage_duplicates:.2f}%\")"
   ]
  },
  {
   "cell_type": "code",
   "execution_count": 7,
   "id": "0f9070e0",
   "metadata": {
    "execution": {
     "iopub.execute_input": "2025-08-15T20:26:26.145064Z",
     "iopub.status.busy": "2025-08-15T20:26:26.144469Z",
     "iopub.status.idle": "2025-08-15T20:26:26.156336Z",
     "shell.execute_reply": "2025-08-15T20:26:26.155344Z"
    },
    "papermill": {
     "duration": 0.020533,
     "end_time": "2025-08-15T20:26:26.15819",
     "exception": false,
     "start_time": "2025-08-15T20:26:26.137657",
     "status": "completed"
    },
    "tags": []
   },
   "outputs": [
    {
     "name": "stdout",
     "output_type": "stream",
     "text": [
      "language          0.0\n",
      "cleaned_lyrics    0.0\n",
      "dtype: float64\n"
     ]
    }
   ],
   "source": [
    "# Print the percentage of missing values per column\n",
    "print(final_dataset.isnull().sum() / len(final_dataset) * 100)"
   ]
  },
  {
   "cell_type": "markdown",
   "id": "d2f811d1",
   "metadata": {
    "papermill": {
     "duration": 0.005689,
     "end_time": "2025-08-15T20:26:26.169807",
     "exception": false,
     "start_time": "2025-08-15T20:26:26.164118",
     "status": "completed"
    },
    "tags": []
   },
   "source": [
    "# **2. Embedding Preparation:**"
   ]
  },
  {
   "cell_type": "markdown",
   "id": "0694372d",
   "metadata": {
    "papermill": {
     "duration": 0.005497,
     "end_time": "2025-08-15T20:26:26.180954",
     "exception": false,
     "start_time": "2025-08-15T20:26:26.175457",
     "status": "completed"
    },
    "tags": []
   },
   "source": [
    "The purpose of the embedding phase here is to transform text data into numerical representations suitable for Transformer-based models. \n",
    "\n",
    "To explain further:\n",
    "- max_vocab_size will the vocabulary to the most frequent 30,000 words.\n",
    "- max_sequence_length will set a fixed sequence length of 80 for uniform input size.\n",
    "\n",
    "These values were chosen while taking into consideration the complexity of the multilingual and diverse nature of the Genius dataset\n",
    "\n",
    "Then, tokenization is done for all languages where the cleaned lyrics are into sequences of integers, and out-of-vocabulary words are replaced by a special token (<OOV>). After that, padding will ensure that the sequences have the same length for compatibility reasons."
   ]
  },
  {
   "cell_type": "code",
   "execution_count": 8,
   "id": "460dd4f8",
   "metadata": {
    "execution": {
     "iopub.execute_input": "2025-08-15T20:26:26.1942Z",
     "iopub.status.busy": "2025-08-15T20:26:26.193545Z",
     "iopub.status.idle": "2025-08-15T20:26:44.313777Z",
     "shell.execute_reply": "2025-08-15T20:26:44.312716Z"
    },
    "papermill": {
     "duration": 18.129248,
     "end_time": "2025-08-15T20:26:44.31585",
     "exception": false,
     "start_time": "2025-08-15T20:26:26.186602",
     "status": "completed"
    },
    "tags": []
   },
   "outputs": [
    {
     "name": "stdout",
     "output_type": "stream",
     "text": [
      "Fitting a unified tokenizer on all languages...\n",
      "Tokenizer fitting complete.\n",
      "Discovered vocabulary size: 510228\n",
      "Converting texts to sequences...\n",
      "Padding complete.\n",
      "\n",
      "Total padded sequences: 26928\n",
      "Training samples: 21542\n",
      "Validation samples: 2693\n",
      "Test samples: 2693\n",
      "\n",
      "Example processed sequence (from X_train): \n",
      "[   30    36    66    50    51    19 25389  8735    66    50    51    19\n",
      " 23022  8735    59  6311    10   113   850    66    50    51    19 25389\n",
      "  8735    66    50    51    19 23022  8735    59  6311    10   113   850\n",
      "     5    90   367    10   947   165     2  3991   944  2444    23     7\n",
      "  3991    27  1077   388  2348  9781  4833    52  1954     7  1115    52\n",
      "    51  2833   170     1   571   211   301  1502     1  4994   200     3\n",
      "   146   414    90   239 18122   706    57   192]\n",
      "\n",
      "Data is now correctly prepared for the decoder-only transformer.\n"
     ]
    }
   ],
   "source": [
    "# Define parameters\n",
    "max_vocab_size = 30000\n",
    "max_sequence_length = 80\n",
    "sos_token = \"<sos>\"\n",
    "eos_token = \"<eos>\"\n",
    "\n",
    "# 1. Create a single, unified tokenizer for all languages\n",
    "tokenizer = Tokenizer(num_words=max_vocab_size, oov_token=\"<OOV>\")\n",
    "\n",
    "# 2. Prepare all texts with special tokens, INCLUDING a language token\n",
    "all_lyrics_with_lang = final_dataset[['cleaned_lyrics', 'language']].astype(str).values.tolist()\n",
    "texts_with_tokens = [f\"<{lang}> {sos_token} {text} {eos_token}\" for text, lang in all_lyrics_with_lang]\n",
    "\n",
    "# 3. Fit the single tokenizer on all available text data\n",
    "print(\"Fitting a unified tokenizer on all languages...\")\n",
    "tokenizer.fit_on_texts(texts_with_tokens)\n",
    "print(\"Tokenizer fitting complete.\")\n",
    "\n",
    "# 4. Use the actual discovered vocabulary size\n",
    "vocab_size = len(tokenizer.word_index) + 1\n",
    "print(f\"Discovered vocabulary size: {vocab_size}\")\n",
    "\n",
    "# 5. Convert all texts to integer sequences\n",
    "print(\"Converting texts to sequences...\")\n",
    "sequences = tokenizer.texts_to_sequences(texts_with_tokens)\n",
    "\n",
    "# 6. Pad all sequences to the same fixed length\n",
    "X_padded = pad_sequences(\n",
    "    sequences, \n",
    "    maxlen=max_sequence_length, \n",
    "    padding='post', \n",
    "    truncating='post',\n",
    "    dtype='int32'\n",
    ")\n",
    "print(\"Padding complete.\")\n",
    "\n",
    "# 7. Split the single dataset into training, validation, and test sets\n",
    "X_train, X_temp = train_test_split(X_padded, test_size=0.2, random_state=42)\n",
    "X_val, X_test = train_test_split(X_temp, test_size=0.5, random_state=42)\n",
    "\n",
    "# Final Summaries\n",
    "print(f\"\\nTotal padded sequences: {len(X_padded)}\")\n",
    "print(f\"Training samples: {len(X_train)}\")\n",
    "print(f\"Validation samples: {len(X_val)}\")\n",
    "print(f\"Test samples: {len(X_test)}\")\n",
    "\n",
    "# Example data\n",
    "print(f\"\\nExample processed sequence (from X_train): \\n{X_train[0]}\")\n",
    "print(\"\\nData is now correctly prepared for the decoder-only transformer.\")"
   ]
  },
  {
   "cell_type": "markdown",
   "id": "4a8251f1",
   "metadata": {
    "papermill": {
     "duration": 0.006085,
     "end_time": "2025-08-15T20:26:44.328199",
     "exception": false,
     "start_time": "2025-08-15T20:26:44.322114",
     "status": "completed"
    },
    "tags": []
   },
   "source": [
    "# **3. Output Readiness Check:**"
   ]
  },
  {
   "cell_type": "markdown",
   "id": "df6bcfa6",
   "metadata": {
    "papermill": {
     "duration": 0.006359,
     "end_time": "2025-08-15T20:26:44.340551",
     "exception": false,
     "start_time": "2025-08-15T20:26:44.334192",
     "status": "completed"
    },
    "tags": []
   },
   "source": [
    "This code segment will simply check if:\n",
    "- The output shape is a 2D array for Transformer input.\n",
    "- The sequences are of type int32 to ensure compatibility with embedding layers.\n",
    "- Labels are included and match the number of sequences."
   ]
  },
  {
   "cell_type": "code",
   "execution_count": 9,
   "id": "b84f8d70",
   "metadata": {
    "execution": {
     "iopub.execute_input": "2025-08-15T20:26:44.356044Z",
     "iopub.status.busy": "2025-08-15T20:26:44.355084Z",
     "iopub.status.idle": "2025-08-15T20:26:44.366638Z",
     "shell.execute_reply": "2025-08-15T20:26:44.365428Z"
    },
    "papermill": {
     "duration": 0.021709,
     "end_time": "2025-08-15T20:26:44.368745",
     "exception": false,
     "start_time": "2025-08-15T20:26:44.347036",
     "status": "completed"
    },
    "tags": []
   },
   "outputs": [
    {
     "name": "stdout",
     "output_type": "stream",
     "text": [
      "Shape of the full dataset (X_padded): (26928, 80)\n",
      "Shape of the training set (X_train): (21542, 80)\n",
      "Data type of padded sequences (X_padded): int32\n",
      "\n",
      "Maximum token ID found in the dataset: 29999\n",
      "Tokenizer vocabulary size (len(word_index) + 1): 510228\n",
      "Token IDs are all within the vocabulary range.\n",
      "\n",
      "--- Example of how data is fed to the model ---\n",
      "Original sequence (from X_train[0]): [   30    36    66    50    51    19 25389  8735    66    50    51    19\n",
      " 23022  8735    59  6311    10   113   850    66    50    51    19 25389\n",
      "  8735    66    50    51    19 23022  8735    59  6311    10   113   850\n",
      "     5    90   367    10   947   165     2  3991   944  2444    23     7\n",
      "  3991    27  1077   388  2348  9781  4833    52  1954     7  1115    52\n",
      "    51  2833   170     1   571   211   301  1502     1  4994   200     3\n",
      "   146   414    90   239 18122   706    57   192]\n",
      "Model Input (sequence[:-1]):         [   30    36    66    50    51    19 25389  8735    66    50    51    19\n",
      " 23022  8735    59  6311    10   113   850    66    50    51    19 25389\n",
      "  8735    66    50    51    19 23022  8735    59  6311    10   113   850\n",
      "     5    90   367    10   947   165     2  3991   944  2444    23     7\n",
      "  3991    27  1077   388  2348  9781  4833    52  1954     7  1115    52\n",
      "    51  2833   170     1   571   211   301  1502     1  4994   200     3\n",
      "   146   414    90   239 18122   706    57]\n",
      "Model Target (sequence[1:]):          [   36    66    50    51    19 25389  8735    66    50    51    19 23022\n",
      "  8735    59  6311    10   113   850    66    50    51    19 25389  8735\n",
      "    66    50    51    19 23022  8735    59  6311    10   113   850     5\n",
      "    90   367    10   947   165     2  3991   944  2444    23     7  3991\n",
      "    27  1077   388  2348  9781  4833    52  1954     7  1115    52    51\n",
      "  2833   170     1   571   211   301  1502     1  4994   200     3   146\n",
      "   414    90   239 18122   706    57   192]\n",
      "\n",
      "\n",
      "Processed data is ready for the Transformer model.\n"
     ]
    }
   ],
   "source": [
    "# Check the shape of the full padded dataset\n",
    "print(f\"Shape of the full dataset (X_padded): {X_padded.shape}\")\n",
    "assert len(X_padded.shape) == 2, \"Padded data should be 2D (num_samples, max_sequence_length).\"\n",
    "\n",
    "# Check the shape of the training set as a representative sample\n",
    "print(f\"Shape of the training set (X_train): {X_train.shape}\")\n",
    "assert len(X_train.shape) == 2, \"Training data should be 2D (num_samples, max_sequence_length).\"\n",
    "\n",
    "# Check the data type of the sequences\n",
    "print(f\"Data type of padded sequences (X_padded): {X_padded.dtype}\")\n",
    "assert X_padded.dtype == 'int32', \"Padded sequences should be of type int32 for embedding layers.\"\n",
    "\n",
    "# Validate the vocabulary size against the maximum token ID in the dataset\n",
    "max_token_id = np.max(X_padded)\n",
    "print(f\"\\nMaximum token ID found in the dataset: {max_token_id}\")\n",
    "print(f\"Tokenizer vocabulary size (len(word_index) + 1): {vocab_size}\")\n",
    "assert max_token_id < vocab_size, f\"A token ID ({max_token_id}) exceeds the vocabulary size ({vocab_size}).\"\n",
    "print(\"Token IDs are all within the vocabulary range.\")\n",
    "\n",
    "# Demonstrate how a single sequence is split into an input/target pair for the model\n",
    "example_input_for_model = X_train[0, :-1]\n",
    "example_target_for_model = X_train[0, 1:]\n",
    "\n",
    "print(\"\\n--- Example of how data is fed to the model ---\")\n",
    "print(\"Original sequence (from X_train[0]):\", X_train[0])\n",
    "print(\"Model Input (sequence[:-1]):        \", example_input_for_model)\n",
    "print(\"Model Target (sequence[1:]):         \", example_target_for_model)\n",
    "\n",
    "print(\"\\n\\nProcessed data is ready for the Transformer model.\")"
   ]
  },
  {
   "cell_type": "markdown",
   "id": "b3507aca",
   "metadata": {
    "papermill": {
     "duration": 0.006138,
     "end_time": "2025-08-15T20:26:44.381286",
     "exception": false,
     "start_time": "2025-08-15T20:26:44.375148",
     "status": "completed"
    },
    "tags": []
   },
   "source": [
    "# **4. Transformer Architecture:**"
   ]
  },
  {
   "cell_type": "markdown",
   "id": "35ac7160",
   "metadata": {
    "papermill": {
     "duration": 0.005935,
     "end_time": "2025-08-15T20:26:44.393226",
     "exception": false,
     "start_time": "2025-08-15T20:26:44.387291",
     "status": "completed"
    },
    "tags": []
   },
   "source": [
    "This code defines a custom and highly flexible TensorFlow layer called `PositionalEncoding`. Its purpose is to inject information about the position of each token into the sequence embeddings, which is crucial for Transformer models that do not otherwise have an inherent sense of order.\n",
    "\n",
    "This updated version is designed to be robust for generative tasks by creating the encoding **dynamically** for any given sequence length.\n",
    "\n",
    "#### 1. `__init__` method:\n",
    "\n",
    "Initializes the layer. It is very lightweight and only requires the `embed_dim` (the embedding dimension of the model) to be stored for use during the forward pass. Unlike previous static versions, it does **not** pre-compute a fixed-size encoding matrix.\n",
    "\n",
    "#### 2. `call` method:\n",
    "\n",
    "This method defines the forward pass of the layer and is where the positional encoding is generated \"on-the-fly\" for each input batch.\n",
    "\n",
    "*   **1. Dynamic Shape Detection:** It first determines the `sequence_length` directly from the input tensor it receives. This is the key to its flexibility, as it works for any length.\n",
    "*   **2. Angle Calculation:** It calculates the positional encoding angles using the standard Transformer formula. It creates a tensor of positions (from 0 to `sequence_length - 1`) and combines it with a term based on the embedding dimension.\n",
    "*   **3. Sine and Cosine Application:** It applies the `sin` function to even indices of the embedding dimension and the `cos` function to the odd indices, creating the final encoding signals.\n",
    "*   **4. Addition to Input:** Finally, it adds this newly generated positional encoding matrix directly to the original input token embeddings.\n",
    "\n",
    "The key advantage of this dynamic approach is its ability to handle sequences of varying lengths. This is essential during auto-regressive generation (where the input sequence grows by one token at each step), ensuring the model can be trained on fixed-length sequences but used for generation on variable-length ones without encountering shape-mismatch errors."
   ]
  },
  {
   "cell_type": "code",
   "execution_count": 10,
   "id": "1fc77dae",
   "metadata": {
    "execution": {
     "iopub.execute_input": "2025-08-15T20:26:44.407001Z",
     "iopub.status.busy": "2025-08-15T20:26:44.406665Z",
     "iopub.status.idle": "2025-08-15T20:26:44.415183Z",
     "shell.execute_reply": "2025-08-15T20:26:44.41448Z"
    },
    "papermill": {
     "duration": 0.01772,
     "end_time": "2025-08-15T20:26:44.416935",
     "exception": false,
     "start_time": "2025-08-15T20:26:44.399215",
     "status": "completed"
    },
    "tags": []
   },
   "outputs": [],
   "source": [
    "class PositionalEncoding(Layer):\n",
    "    def __init__(self, embed_dim, **kwargs):\n",
    "        super().__init__(**kwargs)\n",
    "        self.embed_dim = embed_dim\n",
    "\n",
    "    def call(self, inputs):\n",
    "        \"\"\"\n",
    "        This version computes the positional encoding dynamically based on the\n",
    "        input sequence length, making it flexible for generation.\n",
    "        \"\"\"\n",
    "        seq_len = tf.shape(inputs)[1]\n",
    "        \n",
    "        position = tf.range(start=0, limit=seq_len, delta=1, dtype=tf.float32)\n",
    "        \n",
    "        div_term = tf.pow(10000.0, (2.0 * tf.range(0, self.embed_dim, 2, dtype=tf.float32)) / float(self.embed_dim))\n",
    "        \n",
    "        position = position[:, tf.newaxis]\n",
    "        div_term = div_term[tf.newaxis, :]\n",
    "        \n",
    "        angle_rads = position / div_term\n",
    "        \n",
    "        sin_part = tf.sin(angle_rads)\n",
    "        cos_part = tf.cos(angle_rads)\n",
    "        \n",
    "        # Interleave sin and cos parts\n",
    "        encoding = tf.reshape(tf.stack([sin_part, cos_part], axis=-1), [seq_len, self.embed_dim])\n",
    "        \n",
    "        encoding = encoding[tf.newaxis, :, :]\n",
    "        \n",
    "        return inputs + encoding\n",
    "\n",
    "    def get_config(self):\n",
    "        config = super().get_config()\n",
    "        config.update({\"embed_dim\": self.embed_dim})\n",
    "        return config"
   ]
  },
  {
   "cell_type": "markdown",
   "id": "ae5985c7",
   "metadata": {
    "papermill": {
     "duration": 0.005546,
     "end_time": "2025-08-15T20:26:44.428528",
     "exception": false,
     "start_time": "2025-08-15T20:26:44.422982",
     "status": "completed"
    },
    "tags": []
   },
   "source": [
    "This code defines a `TransformerDecoderBlock` as a custom Keras `Layer`. This block is the fundamental building block of a **Decoder-Only (GPT-style) Transformer**. Unlike a standard Transformer decoder, it does not have a second attention layer for cross-attention with an encoder, as there is no encoder in this architecture.\n",
    "\n",
    "Its main purpose is to take a sequence of token embeddings and enrich them with contextual information from preceding tokens in the sequence.\n",
    "\n",
    "Here's a breakdown of its components:\n",
    "\n",
    "#### Sub-layer 1: Masked Multi-Head Self-Attention\n",
    "\n",
    "*   **Purpose:** This is the core of the block. It allows each token in the sequence to look at and gather information from all the *previous* tokens in the same sequence.\n",
    "*   **Causal Mask:** A crucial \"causal mask\" is applied during this step. This mask prevents any token from \"cheating\" by attending to future tokens. For example, when predicting the 5th word, the model can only see words 1 through 4. This is essential for a generative model that predicts one word at a time.\n",
    "*   **Process:** The output of the attention mechanism is passed through a `Dropout` layer for regularization, and then combined with the original input via a residual connection (`Add`) and normalized with `LayerNormalization`.\n",
    "\n",
    "#### Sub-layer 2: Position-wise Feed-Forward Network (FFN)\n",
    "\n",
    "*   **Purpose:** This is a standard two-layer fully connected neural network that is applied independently to each position in the sequence. It provides additional learning capacity and transforms the representations learned by the attention layer.\n",
    "*   **Structure:** It consists of two `Dense` layers, with a ReLU activation function in between.\n",
    "*   **Process:** Similar to the first sub-layer, the FFN's output is regularized with `Dropout`, combined with the input from the previous step (the output of the first sub-layer) via a residual connection, and finally normalized.\n",
    "\n",
    "---\n",
    "\n",
    "#### **Input and Output:**\n",
    "\n",
    "*   **Input:** The block takes a single tensor `inputs` with a shape of `(batch_size, sequence_length, embed_dim)`.\n",
    "*   **Output:** It returns a tensor of the **exact same shape** `(batch_size, sequence_length, embed_dim)`, which can then be passed to the next `TransformerDecoderBlock` in the stack."
   ]
  },
  {
   "cell_type": "code",
   "execution_count": 11,
   "id": "6896c378",
   "metadata": {
    "execution": {
     "iopub.execute_input": "2025-08-15T20:26:44.442719Z",
     "iopub.status.busy": "2025-08-15T20:26:44.442365Z",
     "iopub.status.idle": "2025-08-15T20:26:44.452225Z",
     "shell.execute_reply": "2025-08-15T20:26:44.451293Z"
    },
    "papermill": {
     "duration": 0.018998,
     "end_time": "2025-08-15T20:26:44.454086",
     "exception": false,
     "start_time": "2025-08-15T20:26:44.435088",
     "status": "completed"
    },
    "tags": []
   },
   "outputs": [],
   "source": [
    "class TransformerDecoderBlock(Layer):\n",
    "    def __init__(self, embed_dim, num_heads, ff_dim, dropout_rate=0.1, **kwargs):\n",
    "        super().__init__(**kwargs)\n",
    "        self.embed_dim = embed_dim\n",
    "        self.num_heads = num_heads\n",
    "        self.ff_dim = ff_dim\n",
    "        self.dropout_rate = dropout_rate\n",
    "        \n",
    "        self.mha = MultiHeadAttention(num_heads=num_heads, key_dim=embed_dim)\n",
    "        self.ffn = tf.keras.Sequential([\n",
    "            Dense(ff_dim, activation=\"relu\"),\n",
    "            Dense(embed_dim),\n",
    "        ])\n",
    "        self.layernorm1 = LayerNormalization(epsilon=1e-6)\n",
    "        self.layernorm2 = LayerNormalization(epsilon=1e-6)\n",
    "        self.dropout1 = Dropout(dropout_rate)\n",
    "        self.dropout2 = Dropout(dropout_rate)\n",
    "        self.add1 = Add()\n",
    "        self.add2 = Add()\n",
    "\n",
    "    def create_causal_mask(self, size):\n",
    "        # Creates a boolean mask to prevent attention to future tokens.\n",
    "        mask = 1 - tf.linalg.band_part(tf.ones((size, size)), -1, 0)\n",
    "        return mask[tf.newaxis, tf.newaxis, :, :] # (1, 1, size, size)\n",
    "\n",
    "    def call(self, inputs, training=None):\n",
    "        input_shape = tf.shape(inputs)\n",
    "        seq_len = input_shape[1]\n",
    "        \n",
    "        # 1. Create the causal mask dynamically\n",
    "        causal_mask = self.create_causal_mask(seq_len)\n",
    "\n",
    "        # 2. Masked Multi-Head Self-Attention\n",
    "        attention_output = self.mha(\n",
    "            query=inputs, value=inputs, key=inputs, attention_mask=causal_mask, training=training\n",
    "        )\n",
    "        attention_output = self.dropout1(attention_output, training=training)\n",
    "        out1 = self.layernorm1(self.add1([inputs, attention_output]))\n",
    "\n",
    "        # 3. Feed-Forward Network\n",
    "        ffn_output = self.ffn(out1)\n",
    "        ffn_output = self.dropout2(ffn_output, training=training)\n",
    "        out2 = self.layernorm2(self.add2([out1, ffn_output]))\n",
    "        \n",
    "        return out2\n",
    "\n",
    "    def get_config(self):\n",
    "        config = super().get_config()\n",
    "        config.update({\n",
    "            \"embed_dim\": self.embed_dim,\n",
    "            \"num_heads\": self.num_heads,\n",
    "            \"ff_dim\": self.ff_dim,\n",
    "            \"dropout_rate\": self.dropout_rate\n",
    "        })\n",
    "        return config"
   ]
  },
  {
   "cell_type": "code",
   "execution_count": 12,
   "id": "ff19d465",
   "metadata": {
    "execution": {
     "iopub.execute_input": "2025-08-15T20:26:44.46872Z",
     "iopub.status.busy": "2025-08-15T20:26:44.468328Z",
     "iopub.status.idle": "2025-08-15T20:26:44.474889Z",
     "shell.execute_reply": "2025-08-15T20:26:44.474025Z"
    },
    "papermill": {
     "duration": 0.016244,
     "end_time": "2025-08-15T20:26:44.476803",
     "exception": false,
     "start_time": "2025-08-15T20:26:44.460559",
     "status": "completed"
    },
    "tags": []
   },
   "outputs": [],
   "source": [
    "# The main function to build the complete Decoder-Only Transformer\n",
    "def build_decoder_only_transformer(vocab_size, embed_dim, num_heads, ff_dim, num_decoder_layers, dropout_rate):\n",
    "    inputs = Input(shape=(None,), dtype=\"int32\", name=\"Input_Layer\")\n",
    "    \n",
    "    # Embedding and Positional Encoding\n",
    "    x = Embedding(vocab_size, embed_dim, name=\"Embedding_Layer\")(inputs)\n",
    "    x = PositionalEncoding(embed_dim)(x) \n",
    "    \n",
    "    # Stack of Decoder Blocks\n",
    "    for i in range(num_decoder_layers):\n",
    "        x = TransformerDecoderBlock(embed_dim, num_heads, ff_dim, dropout_rate, name=f\"decoder_block_{i}\")(x)\n",
    "\n",
    "    # Final Output Layer\n",
    "    outputs = Dense(vocab_size, activation=\"softmax\", name=\"Output_Layer\")(x)\n",
    "    \n",
    "    return Model(inputs=inputs, outputs=outputs, name=\"Decoder_Only_Transformer\")"
   ]
  },
  {
   "cell_type": "markdown",
   "id": "d9bcf73b",
   "metadata": {
    "papermill": {
     "duration": 0.006815,
     "end_time": "2025-08-15T20:26:44.490502",
     "exception": false,
     "start_time": "2025-08-15T20:26:44.483687",
     "status": "completed"
    },
    "tags": []
   },
   "source": [
    "# **5. Training & Validation:**"
   ]
  },
  {
   "cell_type": "markdown",
   "id": "fc77d841",
   "metadata": {
    "papermill": {
     "duration": 0.006093,
     "end_time": "2025-08-15T20:26:44.502926",
     "exception": false,
     "start_time": "2025-08-15T20:26:44.496833",
     "status": "completed"
    },
    "tags": []
   },
   "source": [
    "This code segment orchestrates the training and evaluation of the **Decoder-Only (GPT-style) Transformer**. The model's objective is to function as a generative language model, learning to predict the next word in a sequence given the preceding words.\n",
    "\n",
    "Here’s a breakdown of each key step:\n",
    "\n",
    "#### **Hyperparameter Configuration**\n",
    "\n",
    "These parameters define the model's architecture and the training process. They have been optimized to balance performance with the memory constraints of the GPU environment.\n",
    "\n",
    "*   **`embed_dim` (256):** The size of the dense vector representation for each word/token.\n",
    "*   **`num_heads` (4):** The number of attention heads in the multi-head attention mechanism. Reduced to save memory.\n",
    "*   **`ff_dim` (1024):** The dimensionality of the inner layer of the feed-forward networks.\n",
    "*   **`num_decoder_layers` (4):** The number of `TransformerDecoderBlock` layers stacked on top of each other. A shallower model is used to conserve memory.\n",
    "*   **`dropout_rate` (0.1):** The fraction of units to drop during training to prevent overfitting.\n",
    "*   **`vocab_size`:** The total number of unique tokens in the vocabulary. This is determined dynamically from the tokenizer in the previous data preparation step.\n",
    "*   **`max_len`:** The maximum sequence length for padding.\n",
    "*   **`batch_size` (16):** The number of sequences processed in each training step. This is kept small to manage memory usage.\n",
    "*   **`epochs` (50):** The *maximum* number of times the model will iterate over the entire training dataset.\n",
    "*   **`learning_rate` (1e-4):** The step size for the optimizer.\n",
    "\n",
    "#### **Model Building and Compilation**\n",
    "\n",
    "1.  **Build Transformer:** The `build_decoder_only_transformer` function is called to construct the Keras model using the hyperparameters defined above.\n",
    "2.  **Compile Model:** The model is prepared for training. It uses:\n",
    "    *   **Optimizer:** `AdamW`, a modern and robust variant of the Adam optimizer.\n",
    "    *   **Loss Function:** `sparse_categorical_crossentropy`, which is standard for multi-class classification where the labels are integers (i.e., predicting the next token ID).\n",
    "    *   **Metrics:** `accuracy` is tracked to monitor performance.\n",
    "3.  **Summary:** A summary of the model's architecture, including layer names and parameter counts, is printed.\n",
    "\n",
    "#### **Data Preparation for Generative Training**\n",
    "\n",
    "The core task is next-word prediction. This is achieved by shifting the sequences:\n",
    "*   **Model Input (`X_train_in`):** A sequence, excluding its last token (e.g., `<sos> i love to write`).\n",
    "*   **Model Target (`y_train_out`):** The same sequence, excluding its first token (e.g., `i love to write <eos>`).\n",
    "\n",
    "The model learns to produce the target when given the corresponding input. This is done for the training, validation, and test sets.\n",
    "\n",
    "#### **Dataset Pipelines**\n",
    "The prepared data arrays are converted into efficient `tf.data.Dataset` pipelines, which handle batching and prefetching for optimal GPU utilization.\n",
    "\n",
    "#### **Callbacks for Intelligent Training**\n",
    "\n",
    "*   **`ModelCheckpoint`:** Monitors the validation loss (`val_loss`) at the end of each epoch and saves the entire model (`.keras` format) only if its performance has improved. This ensures we always keep the best version of the model.\n",
    "*   **`EarlyStopping`:** Also monitors the `val_loss`. If the validation loss does not improve for a set number of epochs (`patience=5`), it will stop the training process automatically to prevent wasting time and overfitting.\n",
    "\n",
    "#### **Model Training and Evaluation**\n",
    "\n",
    "1.  **Training:** The `model.fit()` method starts the training process using the prepared datasets and callbacks.\n",
    "2.  **Load Best Model:** After training completes (or is stopped early), the best-performing model saved by `ModelCheckpoint` is loaded back.\n",
    "3.  **Test Set Evaluation:** The final performance of this best model is measured on the unseen test set, providing an unbiased estimate of its generalization ability.\n",
    "\n",
    "#### **Plotting Results**\n",
    "Finally, the training and validation accuracy and loss are plotted over epochs to visually inspect the learning process, check for overfitting, and diagnose any training issues."
   ]
  },
  {
   "cell_type": "code",
   "execution_count": 13,
   "id": "f97fc2de",
   "metadata": {
    "execution": {
     "iopub.execute_input": "2025-08-15T20:26:44.517639Z",
     "iopub.status.busy": "2025-08-15T20:26:44.517237Z",
     "iopub.status.idle": "2025-08-16T03:38:21.282932Z",
     "shell.execute_reply": "2025-08-16T03:38:21.281983Z"
    },
    "papermill": {
     "duration": 25898.906203,
     "end_time": "2025-08-16T03:38:23.415465",
     "exception": false,
     "start_time": "2025-08-15T20:26:44.509262",
     "status": "completed"
    },
    "tags": []
   },
   "outputs": [
    {
     "name": "stdout",
     "output_type": "stream",
     "text": [
      "Building model with memory-optimized hyperparameters...\n"
     ]
    },
    {
     "data": {
      "text/html": [
       "<pre style=\"white-space:pre;overflow-x:auto;line-height:normal;font-family:Menlo,'DejaVu Sans Mono',consolas,'Courier New',monospace\"><span style=\"font-weight: bold\">Model: \"Decoder_Only_Transformer\"</span>\n",
       "</pre>\n"
      ],
      "text/plain": [
       "\u001b[1mModel: \"Decoder_Only_Transformer\"\u001b[0m\n"
      ]
     },
     "metadata": {},
     "output_type": "display_data"
    },
    {
     "data": {
      "text/html": [
       "<pre style=\"white-space:pre;overflow-x:auto;line-height:normal;font-family:Menlo,'DejaVu Sans Mono',consolas,'Courier New',monospace\">┏━━━━━━━━━━━━━━━━━━━━━━━━━━━━━━━━━┳━━━━━━━━━━━━━━━━━━━━━━━━┳━━━━━━━━━━━━━━━┓\n",
       "┃<span style=\"font-weight: bold\"> Layer (type)                    </span>┃<span style=\"font-weight: bold\"> Output Shape           </span>┃<span style=\"font-weight: bold\">       Param # </span>┃\n",
       "┡━━━━━━━━━━━━━━━━━━━━━━━━━━━━━━━━━╇━━━━━━━━━━━━━━━━━━━━━━━━╇━━━━━━━━━━━━━━━┩\n",
       "│ Input_Layer (<span style=\"color: #0087ff; text-decoration-color: #0087ff\">InputLayer</span>)        │ (<span style=\"color: #00d7ff; text-decoration-color: #00d7ff\">None</span>, <span style=\"color: #00d7ff; text-decoration-color: #00d7ff\">None</span>)           │             <span style=\"color: #00af00; text-decoration-color: #00af00\">0</span> │\n",
       "├─────────────────────────────────┼────────────────────────┼───────────────┤\n",
       "│ Embedding_Layer (<span style=\"color: #0087ff; text-decoration-color: #0087ff\">Embedding</span>)     │ (<span style=\"color: #00d7ff; text-decoration-color: #00d7ff\">None</span>, <span style=\"color: #00d7ff; text-decoration-color: #00d7ff\">None</span>, <span style=\"color: #00af00; text-decoration-color: #00af00\">256</span>)      │   <span style=\"color: #00af00; text-decoration-color: #00af00\">130,618,368</span> │\n",
       "├─────────────────────────────────┼────────────────────────┼───────────────┤\n",
       "│ positional_encoding             │ (<span style=\"color: #00d7ff; text-decoration-color: #00d7ff\">None</span>, <span style=\"color: #00d7ff; text-decoration-color: #00d7ff\">None</span>, <span style=\"color: #00af00; text-decoration-color: #00af00\">256</span>)      │             <span style=\"color: #00af00; text-decoration-color: #00af00\">0</span> │\n",
       "│ (<span style=\"color: #0087ff; text-decoration-color: #0087ff\">PositionalEncoding</span>)            │                        │               │\n",
       "├─────────────────────────────────┼────────────────────────┼───────────────┤\n",
       "│ decoder_block_0                 │ (<span style=\"color: #00d7ff; text-decoration-color: #00d7ff\">None</span>, <span style=\"color: #00d7ff; text-decoration-color: #00d7ff\">None</span>, <span style=\"color: #00af00; text-decoration-color: #00af00\">256</span>)      │     <span style=\"color: #00af00; text-decoration-color: #00af00\">2,103,808</span> │\n",
       "│ (<span style=\"color: #0087ff; text-decoration-color: #0087ff\">TransformerDecoderBlock</span>)       │                        │               │\n",
       "├─────────────────────────────────┼────────────────────────┼───────────────┤\n",
       "│ decoder_block_1                 │ (<span style=\"color: #00d7ff; text-decoration-color: #00d7ff\">None</span>, <span style=\"color: #00d7ff; text-decoration-color: #00d7ff\">None</span>, <span style=\"color: #00af00; text-decoration-color: #00af00\">256</span>)      │     <span style=\"color: #00af00; text-decoration-color: #00af00\">2,103,808</span> │\n",
       "│ (<span style=\"color: #0087ff; text-decoration-color: #0087ff\">TransformerDecoderBlock</span>)       │                        │               │\n",
       "├─────────────────────────────────┼────────────────────────┼───────────────┤\n",
       "│ decoder_block_2                 │ (<span style=\"color: #00d7ff; text-decoration-color: #00d7ff\">None</span>, <span style=\"color: #00d7ff; text-decoration-color: #00d7ff\">None</span>, <span style=\"color: #00af00; text-decoration-color: #00af00\">256</span>)      │     <span style=\"color: #00af00; text-decoration-color: #00af00\">2,103,808</span> │\n",
       "│ (<span style=\"color: #0087ff; text-decoration-color: #0087ff\">TransformerDecoderBlock</span>)       │                        │               │\n",
       "├─────────────────────────────────┼────────────────────────┼───────────────┤\n",
       "│ decoder_block_3                 │ (<span style=\"color: #00d7ff; text-decoration-color: #00d7ff\">None</span>, <span style=\"color: #00d7ff; text-decoration-color: #00d7ff\">None</span>, <span style=\"color: #00af00; text-decoration-color: #00af00\">256</span>)      │     <span style=\"color: #00af00; text-decoration-color: #00af00\">2,103,808</span> │\n",
       "│ (<span style=\"color: #0087ff; text-decoration-color: #0087ff\">TransformerDecoderBlock</span>)       │                        │               │\n",
       "├─────────────────────────────────┼────────────────────────┼───────────────┤\n",
       "│ Output_Layer (<span style=\"color: #0087ff; text-decoration-color: #0087ff\">Dense</span>)            │ (<span style=\"color: #00d7ff; text-decoration-color: #00d7ff\">None</span>, <span style=\"color: #00d7ff; text-decoration-color: #00d7ff\">None</span>, <span style=\"color: #00af00; text-decoration-color: #00af00\">510228</span>)   │   <span style=\"color: #00af00; text-decoration-color: #00af00\">131,128,596</span> │\n",
       "└─────────────────────────────────┴────────────────────────┴───────────────┘\n",
       "</pre>\n"
      ],
      "text/plain": [
       "┏━━━━━━━━━━━━━━━━━━━━━━━━━━━━━━━━━┳━━━━━━━━━━━━━━━━━━━━━━━━┳━━━━━━━━━━━━━━━┓\n",
       "┃\u001b[1m \u001b[0m\u001b[1mLayer (type)                   \u001b[0m\u001b[1m \u001b[0m┃\u001b[1m \u001b[0m\u001b[1mOutput Shape          \u001b[0m\u001b[1m \u001b[0m┃\u001b[1m \u001b[0m\u001b[1m      Param #\u001b[0m\u001b[1m \u001b[0m┃\n",
       "┡━━━━━━━━━━━━━━━━━━━━━━━━━━━━━━━━━╇━━━━━━━━━━━━━━━━━━━━━━━━╇━━━━━━━━━━━━━━━┩\n",
       "│ Input_Layer (\u001b[38;5;33mInputLayer\u001b[0m)        │ (\u001b[38;5;45mNone\u001b[0m, \u001b[38;5;45mNone\u001b[0m)           │             \u001b[38;5;34m0\u001b[0m │\n",
       "├─────────────────────────────────┼────────────────────────┼───────────────┤\n",
       "│ Embedding_Layer (\u001b[38;5;33mEmbedding\u001b[0m)     │ (\u001b[38;5;45mNone\u001b[0m, \u001b[38;5;45mNone\u001b[0m, \u001b[38;5;34m256\u001b[0m)      │   \u001b[38;5;34m130,618,368\u001b[0m │\n",
       "├─────────────────────────────────┼────────────────────────┼───────────────┤\n",
       "│ positional_encoding             │ (\u001b[38;5;45mNone\u001b[0m, \u001b[38;5;45mNone\u001b[0m, \u001b[38;5;34m256\u001b[0m)      │             \u001b[38;5;34m0\u001b[0m │\n",
       "│ (\u001b[38;5;33mPositionalEncoding\u001b[0m)            │                        │               │\n",
       "├─────────────────────────────────┼────────────────────────┼───────────────┤\n",
       "│ decoder_block_0                 │ (\u001b[38;5;45mNone\u001b[0m, \u001b[38;5;45mNone\u001b[0m, \u001b[38;5;34m256\u001b[0m)      │     \u001b[38;5;34m2,103,808\u001b[0m │\n",
       "│ (\u001b[38;5;33mTransformerDecoderBlock\u001b[0m)       │                        │               │\n",
       "├─────────────────────────────────┼────────────────────────┼───────────────┤\n",
       "│ decoder_block_1                 │ (\u001b[38;5;45mNone\u001b[0m, \u001b[38;5;45mNone\u001b[0m, \u001b[38;5;34m256\u001b[0m)      │     \u001b[38;5;34m2,103,808\u001b[0m │\n",
       "│ (\u001b[38;5;33mTransformerDecoderBlock\u001b[0m)       │                        │               │\n",
       "├─────────────────────────────────┼────────────────────────┼───────────────┤\n",
       "│ decoder_block_2                 │ (\u001b[38;5;45mNone\u001b[0m, \u001b[38;5;45mNone\u001b[0m, \u001b[38;5;34m256\u001b[0m)      │     \u001b[38;5;34m2,103,808\u001b[0m │\n",
       "│ (\u001b[38;5;33mTransformerDecoderBlock\u001b[0m)       │                        │               │\n",
       "├─────────────────────────────────┼────────────────────────┼───────────────┤\n",
       "│ decoder_block_3                 │ (\u001b[38;5;45mNone\u001b[0m, \u001b[38;5;45mNone\u001b[0m, \u001b[38;5;34m256\u001b[0m)      │     \u001b[38;5;34m2,103,808\u001b[0m │\n",
       "│ (\u001b[38;5;33mTransformerDecoderBlock\u001b[0m)       │                        │               │\n",
       "├─────────────────────────────────┼────────────────────────┼───────────────┤\n",
       "│ Output_Layer (\u001b[38;5;33mDense\u001b[0m)            │ (\u001b[38;5;45mNone\u001b[0m, \u001b[38;5;45mNone\u001b[0m, \u001b[38;5;34m510228\u001b[0m)   │   \u001b[38;5;34m131,128,596\u001b[0m │\n",
       "└─────────────────────────────────┴────────────────────────┴───────────────┘\n"
      ]
     },
     "metadata": {},
     "output_type": "display_data"
    },
    {
     "data": {
      "text/html": [
       "<pre style=\"white-space:pre;overflow-x:auto;line-height:normal;font-family:Menlo,'DejaVu Sans Mono',consolas,'Courier New',monospace\"><span style=\"font-weight: bold\"> Total params: </span><span style=\"color: #00af00; text-decoration-color: #00af00\">270,162,196</span> (1.01 GB)\n",
       "</pre>\n"
      ],
      "text/plain": [
       "\u001b[1m Total params: \u001b[0m\u001b[38;5;34m270,162,196\u001b[0m (1.01 GB)\n"
      ]
     },
     "metadata": {},
     "output_type": "display_data"
    },
    {
     "data": {
      "text/html": [
       "<pre style=\"white-space:pre;overflow-x:auto;line-height:normal;font-family:Menlo,'DejaVu Sans Mono',consolas,'Courier New',monospace\"><span style=\"font-weight: bold\"> Trainable params: </span><span style=\"color: #00af00; text-decoration-color: #00af00\">270,162,196</span> (1.01 GB)\n",
       "</pre>\n"
      ],
      "text/plain": [
       "\u001b[1m Trainable params: \u001b[0m\u001b[38;5;34m270,162,196\u001b[0m (1.01 GB)\n"
      ]
     },
     "metadata": {},
     "output_type": "display_data"
    },
    {
     "data": {
      "text/html": [
       "<pre style=\"white-space:pre;overflow-x:auto;line-height:normal;font-family:Menlo,'DejaVu Sans Mono',consolas,'Courier New',monospace\"><span style=\"font-weight: bold\"> Non-trainable params: </span><span style=\"color: #00af00; text-decoration-color: #00af00\">0</span> (0.00 B)\n",
       "</pre>\n"
      ],
      "text/plain": [
       "\u001b[1m Non-trainable params: \u001b[0m\u001b[38;5;34m0\u001b[0m (0.00 B)\n"
      ]
     },
     "metadata": {},
     "output_type": "display_data"
    },
    {
     "name": "stdout",
     "output_type": "stream",
     "text": [
      "Epoch 1/60\n"
     ]
    },
    {
     "name": "stderr",
     "output_type": "stream",
     "text": [
      "/opt/conda/lib/python3.10/site-packages/tensorflow/python/framework/indexed_slices.py:446: UserWarning: Converting sparse IndexedSlices to a dense Tensor with 130618368 elements. This may consume a large amount of memory.\n",
      "  warnings.warn(\n",
      "WARNING: All log messages before absl::InitializeLog() is called are written to STDERR\n",
      "I0000 00:00:1755289621.353059      69 service.cc:145] XLA service 0x78f50c002180 initialized for platform CUDA (this does not guarantee that XLA will be used). Devices:\n",
      "I0000 00:00:1755289621.353130      69 service.cc:153]   StreamExecutor device (0): Tesla T4, Compute Capability 7.5\n",
      "I0000 00:00:1755289621.353136      69 service.cc:153]   StreamExecutor device (1): Tesla T4, Compute Capability 7.5\n",
      "W0000 00:00:1755289622.584671      69 assert_op.cc:38] Ignoring Assert operator compile_loss/sparse_categorical_crossentropy/SparseSoftmaxCrossEntropyWithLogits/assert_equal_1/Assert/Assert\n",
      "WARNING: All log messages before absl::InitializeLog() is called are written to STDERR\n",
      "I0000 00:00:1755289634.754900      95 asm_compiler.cc:369] ptxas warning : Registers are spilled to local memory in function 'triton_gemm_dot_171', 8 bytes spill stores, 8 bytes spill loads\n",
      "\n",
      "I0000 00:00:1755289637.390202      95 asm_compiler.cc:369] ptxas warning : Registers are spilled to local memory in function 'triton_gemm_dot_171', 36 bytes spill stores, 28 bytes spill loads\n",
      "\n",
      "I0000 00:00:1755289638.764982      96 asm_compiler.cc:369] ptxas warning : Registers are spilled to local memory in function 'triton_gemm_dot_163', 100 bytes spill stores, 100 bytes spill loads\n",
      "\n",
      "I0000 00:00:1755289640.671921      94 asm_compiler.cc:369] ptxas warning : Registers are spilled to local memory in function 'triton_gemm_dot_171', 1764 bytes spill stores, 1764 bytes spill loads\n",
      "\n",
      "I0000 00:00:1755289655.996420      69 asm_compiler.cc:369] ptxas warning : Registers are spilled to local memory in function 'input_reduce_fusion_76', 8 bytes spill stores, 8 bytes spill loads\n",
      "\n",
      "I0000 00:00:1755289656.025679      69 device_compiler.h:188] Compiled cluster using XLA!  This line is logged at most once for the lifetime of the process.\n"
     ]
    },
    {
     "name": "stdout",
     "output_type": "stream",
     "text": [
      "\u001b[1m2425/2693\u001b[0m \u001b[32m━━━━━━━━━━━━━━━━━━\u001b[0m\u001b[37m━━\u001b[0m \u001b[1m1:15\u001b[0m 282ms/step - accuracy: 0.1705 - loss: 7.8915"
     ]
    },
    {
     "name": "stderr",
     "output_type": "stream",
     "text": [
      "W0000 00:00:1755290339.642458      69 assert_op.cc:38] Ignoring Assert operator compile_loss/sparse_categorical_crossentropy/SparseSoftmaxCrossEntropyWithLogits/assert_equal_1/Assert/Assert\n",
      "I0000 00:00:1755290351.533253     123 asm_compiler.cc:369] ptxas warning : Registers are spilled to local memory in function 'triton_gemm_dot_171', 8 bytes spill stores, 8 bytes spill loads\n",
      "\n",
      "I0000 00:00:1755290355.377232     125 asm_compiler.cc:369] ptxas warning : Registers are spilled to local memory in function 'triton_gemm_dot_163', 100 bytes spill stores, 100 bytes spill loads\n",
      "\n",
      "I0000 00:00:1755290356.391886     126 asm_compiler.cc:369] ptxas warning : Registers are spilled to local memory in function 'triton_gemm_dot_171', 1764 bytes spill stores, 1768 bytes spill loads\n",
      "\n",
      "I0000 00:00:1755290370.918650      69 asm_compiler.cc:369] ptxas warning : Registers are spilled to local memory in function 'input_reduce_fusion_77', 8 bytes spill stores, 8 bytes spill loads\n",
      "\n"
     ]
    },
    {
     "name": "stdout",
     "output_type": "stream",
     "text": [
      "\u001b[1m2693/2693\u001b[0m \u001b[32m━━━━━━━━━━━━━━━━━━━━\u001b[0m\u001b[37m\u001b[0m \u001b[1m0s\u001b[0m 294ms/step - accuracy: 0.1795 - loss: 7.7016"
     ]
    },
    {
     "name": "stderr",
     "output_type": "stream",
     "text": [
      "W0000 00:00:1755290449.931331      68 assert_op.cc:38] Ignoring Assert operator compile_loss/sparse_categorical_crossentropy/SparseSoftmaxCrossEntropyWithLogits/assert_equal_1/Assert/Assert\n",
      "W0000 00:00:1755290484.846059      67 assert_op.cc:38] Ignoring Assert operator compile_loss/sparse_categorical_crossentropy/SparseSoftmaxCrossEntropyWithLogits/assert_equal_1/Assert/Assert\n",
      "I0000 00:00:1755290489.924432     161 asm_compiler.cc:369] ptxas warning : Registers are spilled to local memory in function 'triton_gemm_dot_30', 100 bytes spill stores, 100 bytes spill loads\n",
      "\n"
     ]
    },
    {
     "name": "stdout",
     "output_type": "stream",
     "text": [
      "\u001b[1m2693/2693\u001b[0m \u001b[32m━━━━━━━━━━━━━━━━━━━━\u001b[0m\u001b[37m\u001b[0m \u001b[1m904s\u001b[0m 317ms/step - accuracy: 0.1796 - loss: 7.7009 - val_accuracy: 0.4778 - val_loss: 3.6302\n",
      "Epoch 2/60\n",
      "\u001b[1m2693/2693\u001b[0m \u001b[32m━━━━━━━━━━━━━━━━━━━━\u001b[0m\u001b[37m\u001b[0m \u001b[1m829s\u001b[0m 308ms/step - accuracy: 0.5130 - loss: 3.2819 - val_accuracy: 0.6012 - val_loss: 2.4685\n",
      "Epoch 3/60\n",
      "\u001b[1m2693/2693\u001b[0m \u001b[32m━━━━━━━━━━━━━━━━━━━━\u001b[0m\u001b[37m\u001b[0m \u001b[1m831s\u001b[0m 308ms/step - accuracy: 0.6074 - loss: 2.3626 - val_accuracy: 0.6505 - val_loss: 1.9910\n",
      "Epoch 4/60\n",
      "\u001b[1m2693/2693\u001b[0m \u001b[32m━━━━━━━━━━━━━━━━━━━━\u001b[0m\u001b[37m\u001b[0m \u001b[1m831s\u001b[0m 309ms/step - accuracy: 0.6695 - loss: 1.8921 - val_accuracy: 0.7411 - val_loss: 1.5496\n",
      "Epoch 5/60\n",
      "\u001b[1m2693/2693\u001b[0m \u001b[32m━━━━━━━━━━━━━━━━━━━━\u001b[0m\u001b[37m\u001b[0m \u001b[1m833s\u001b[0m 309ms/step - accuracy: 0.7429 - loss: 1.4761 - val_accuracy: 0.7754 - val_loss: 1.2690\n",
      "Epoch 6/60\n",
      "\u001b[1m2693/2693\u001b[0m \u001b[32m━━━━━━━━━━━━━━━━━━━━\u001b[0m\u001b[37m\u001b[0m \u001b[1m832s\u001b[0m 309ms/step - accuracy: 0.7829 - loss: 1.1870 - val_accuracy: 0.8008 - val_loss: 1.1270\n",
      "Epoch 7/60\n",
      "\u001b[1m2693/2693\u001b[0m \u001b[32m━━━━━━━━━━━━━━━━━━━━\u001b[0m\u001b[37m\u001b[0m \u001b[1m833s\u001b[0m 309ms/step - accuracy: 0.8094 - loss: 0.9903 - val_accuracy: 0.8251 - val_loss: 0.9271\n",
      "Epoch 8/60\n",
      "\u001b[1m2693/2693\u001b[0m \u001b[32m━━━━━━━━━━━━━━━━━━━━\u001b[0m\u001b[37m\u001b[0m \u001b[1m833s\u001b[0m 309ms/step - accuracy: 0.8315 - loss: 0.8413 - val_accuracy: 0.8323 - val_loss: 0.8774\n",
      "Epoch 9/60\n",
      "\u001b[1m2693/2693\u001b[0m \u001b[32m━━━━━━━━━━━━━━━━━━━━\u001b[0m\u001b[37m\u001b[0m \u001b[1m833s\u001b[0m 309ms/step - accuracy: 0.8475 - loss: 0.7394 - val_accuracy: 0.8442 - val_loss: 0.7946\n",
      "Epoch 10/60\n",
      "\u001b[1m2693/2693\u001b[0m \u001b[32m━━━━━━━━━━━━━━━━━━━━\u001b[0m\u001b[37m\u001b[0m \u001b[1m834s\u001b[0m 310ms/step - accuracy: 0.8707 - loss: 0.6268 - val_accuracy: 0.8791 - val_loss: 0.6337\n",
      "Epoch 11/60\n",
      "\u001b[1m2693/2693\u001b[0m \u001b[32m━━━━━━━━━━━━━━━━━━━━\u001b[0m\u001b[37m\u001b[0m \u001b[1m834s\u001b[0m 310ms/step - accuracy: 0.8940 - loss: 0.5197 - val_accuracy: 0.8995 - val_loss: 0.5371\n",
      "Epoch 12/60\n",
      "\u001b[1m2693/2693\u001b[0m \u001b[32m━━━━━━━━━━━━━━━━━━━━\u001b[0m\u001b[37m\u001b[0m \u001b[1m834s\u001b[0m 310ms/step - accuracy: 0.9098 - loss: 0.4406 - val_accuracy: 0.9000 - val_loss: 0.5276\n",
      "Epoch 13/60\n",
      "\u001b[1m2693/2693\u001b[0m \u001b[32m━━━━━━━━━━━━━━━━━━━━\u001b[0m\u001b[37m\u001b[0m \u001b[1m837s\u001b[0m 311ms/step - accuracy: 0.9218 - loss: 0.3804 - val_accuracy: 0.9058 - val_loss: 0.5000\n",
      "Epoch 14/60\n",
      "\u001b[1m2693/2693\u001b[0m \u001b[32m━━━━━━━━━━━━━━━━━━━━\u001b[0m\u001b[37m\u001b[0m \u001b[1m837s\u001b[0m 311ms/step - accuracy: 0.9299 - loss: 0.3386 - val_accuracy: 0.9129 - val_loss: 0.4602\n",
      "Epoch 15/60\n",
      "\u001b[1m2693/2693\u001b[0m \u001b[32m━━━━━━━━━━━━━━━━━━━━\u001b[0m\u001b[37m\u001b[0m \u001b[1m836s\u001b[0m 310ms/step - accuracy: 0.9377 - loss: 0.3026 - val_accuracy: 0.9190 - val_loss: 0.4349\n",
      "Epoch 16/60\n",
      "\u001b[1m2693/2693\u001b[0m \u001b[32m━━━━━━━━━━━━━━━━━━━━\u001b[0m\u001b[37m\u001b[0m \u001b[1m835s\u001b[0m 310ms/step - accuracy: 0.9446 - loss: 0.2735 - val_accuracy: 0.9230 - val_loss: 0.4181\n",
      "Epoch 17/60\n",
      "\u001b[1m2693/2693\u001b[0m \u001b[32m━━━━━━━━━━━━━━━━━━━━\u001b[0m\u001b[37m\u001b[0m \u001b[1m836s\u001b[0m 310ms/step - accuracy: 0.9502 - loss: 0.2456 - val_accuracy: 0.9268 - val_loss: 0.4009\n",
      "Epoch 18/60\n",
      "\u001b[1m2693/2693\u001b[0m \u001b[32m━━━━━━━━━━━━━━━━━━━━\u001b[0m\u001b[37m\u001b[0m \u001b[1m837s\u001b[0m 311ms/step - accuracy: 0.9538 - loss: 0.2251 - val_accuracy: 0.9321 - val_loss: 0.3744\n",
      "Epoch 19/60\n",
      "\u001b[1m2693/2693\u001b[0m \u001b[32m━━━━━━━━━━━━━━━━━━━━\u001b[0m\u001b[37m\u001b[0m \u001b[1m819s\u001b[0m 304ms/step - accuracy: 0.9583 - loss: 0.2101 - val_accuracy: 0.9295 - val_loss: 0.3862\n",
      "Epoch 20/60\n",
      "\u001b[1m2693/2693\u001b[0m \u001b[32m━━━━━━━━━━━━━━━━━━━━\u001b[0m\u001b[37m\u001b[0m \u001b[1m817s\u001b[0m 303ms/step - accuracy: 0.9627 - loss: 0.1898 - val_accuracy: 0.9249 - val_loss: 0.3946\n",
      "Epoch 21/60\n",
      "\u001b[1m2693/2693\u001b[0m \u001b[32m━━━━━━━━━━━━━━━━━━━━\u001b[0m\u001b[37m\u001b[0m \u001b[1m836s\u001b[0m 310ms/step - accuracy: 0.9658 - loss: 0.1758 - val_accuracy: 0.9405 - val_loss: 0.3460\n",
      "Epoch 22/60\n",
      "\u001b[1m2693/2693\u001b[0m \u001b[32m━━━━━━━━━━━━━━━━━━━━\u001b[0m\u001b[37m\u001b[0m \u001b[1m819s\u001b[0m 304ms/step - accuracy: 0.9683 - loss: 0.1628 - val_accuracy: 0.9367 - val_loss: 0.3657\n",
      "Epoch 23/60\n",
      "\u001b[1m2693/2693\u001b[0m \u001b[32m━━━━━━━━━━━━━━━━━━━━\u001b[0m\u001b[37m\u001b[0m \u001b[1m838s\u001b[0m 311ms/step - accuracy: 0.9696 - loss: 0.1559 - val_accuracy: 0.9419 - val_loss: 0.3450\n",
      "Epoch 24/60\n",
      "\u001b[1m2693/2693\u001b[0m \u001b[32m━━━━━━━━━━━━━━━━━━━━\u001b[0m\u001b[37m\u001b[0m \u001b[1m819s\u001b[0m 304ms/step - accuracy: 0.9718 - loss: 0.1458 - val_accuracy: 0.9417 - val_loss: 0.3499\n",
      "Epoch 25/60\n",
      "\u001b[1m2693/2693\u001b[0m \u001b[32m━━━━━━━━━━━━━━━━━━━━\u001b[0m\u001b[37m\u001b[0m \u001b[1m834s\u001b[0m 310ms/step - accuracy: 0.9730 - loss: 0.1380 - val_accuracy: 0.9440 - val_loss: 0.3432\n",
      "Epoch 26/60\n",
      "\u001b[1m2693/2693\u001b[0m \u001b[32m━━━━━━━━━━━━━━━━━━━━\u001b[0m\u001b[37m\u001b[0m \u001b[1m834s\u001b[0m 310ms/step - accuracy: 0.9728 - loss: 0.1392 - val_accuracy: 0.9468 - val_loss: 0.3264\n",
      "Epoch 27/60\n",
      "\u001b[1m2693/2693\u001b[0m \u001b[32m━━━━━━━━━━━━━━━━━━━━\u001b[0m\u001b[37m\u001b[0m \u001b[1m818s\u001b[0m 304ms/step - accuracy: 0.9753 - loss: 0.1259 - val_accuracy: 0.9449 - val_loss: 0.3426\n",
      "Epoch 28/60\n",
      "\u001b[1m2693/2693\u001b[0m \u001b[32m━━━━━━━━━━━━━━━━━━━━\u001b[0m\u001b[37m\u001b[0m \u001b[1m817s\u001b[0m 303ms/step - accuracy: 0.9760 - loss: 0.1210 - val_accuracy: 0.9413 - val_loss: 0.3609\n",
      "Epoch 29/60\n",
      "\u001b[1m2693/2693\u001b[0m \u001b[32m━━━━━━━━━━━━━━━━━━━━\u001b[0m\u001b[37m\u001b[0m \u001b[1m818s\u001b[0m 304ms/step - accuracy: 0.9757 - loss: 0.1213 - val_accuracy: 0.9456 - val_loss: 0.3438\n",
      "Epoch 30/60\n",
      "\u001b[1m2693/2693\u001b[0m \u001b[32m━━━━━━━━━━━━━━━━━━━━\u001b[0m\u001b[37m\u001b[0m \u001b[1m817s\u001b[0m 304ms/step - accuracy: 0.9773 - loss: 0.1123 - val_accuracy: 0.9440 - val_loss: 0.3517\n",
      "Epoch 31/60\n",
      "\u001b[1m2693/2693\u001b[0m \u001b[32m━━━━━━━━━━━━━━━━━━━━\u001b[0m\u001b[37m\u001b[0m \u001b[1m816s\u001b[0m 303ms/step - accuracy: 0.9769 - loss: 0.1127 - val_accuracy: 0.9441 - val_loss: 0.3586\n",
      "Epoch 31: early stopping\n",
      "\n",
      "Loading best model from checkpoint...\n"
     ]
    },
    {
     "name": "stderr",
     "output_type": "stream",
     "text": [
      "/opt/conda/lib/python3.10/site-packages/keras/src/layers/layer.py:361: UserWarning: `build()` was called on layer 'decoder_block_0', however the layer does not have a `build()` method implemented and it looks like it has unbuilt state. This will cause the layer to be marked as built, despite not being actually built, which may cause failures down the line. Make sure to implement a proper `build()` method.\n",
      "  warnings.warn(\n",
      "/opt/conda/lib/python3.10/site-packages/keras/src/layers/layer.py:361: UserWarning: `build()` was called on layer 'decoder_block_1', however the layer does not have a `build()` method implemented and it looks like it has unbuilt state. This will cause the layer to be marked as built, despite not being actually built, which may cause failures down the line. Make sure to implement a proper `build()` method.\n",
      "  warnings.warn(\n",
      "/opt/conda/lib/python3.10/site-packages/keras/src/layers/layer.py:361: UserWarning: `build()` was called on layer 'decoder_block_2', however the layer does not have a `build()` method implemented and it looks like it has unbuilt state. This will cause the layer to be marked as built, despite not being actually built, which may cause failures down the line. Make sure to implement a proper `build()` method.\n",
      "  warnings.warn(\n",
      "/opt/conda/lib/python3.10/site-packages/keras/src/layers/layer.py:361: UserWarning: `build()` was called on layer 'decoder_block_3', however the layer does not have a `build()` method implemented and it looks like it has unbuilt state. This will cause the layer to be marked as built, despite not being actually built, which may cause failures down the line. Make sure to implement a proper `build()` method.\n",
      "  warnings.warn(\n"
     ]
    },
    {
     "name": "stdout",
     "output_type": "stream",
     "text": [
      "\n",
      "Evaluating on test set...\n"
     ]
    },
    {
     "name": "stderr",
     "output_type": "stream",
     "text": [
      "W0000 00:00:1755315465.087011      66 assert_op.cc:38] Ignoring Assert operator compile_loss/sparse_categorical_crossentropy/SparseSoftmaxCrossEntropyWithLogits/assert_equal_1/Assert/Assert\n"
     ]
    },
    {
     "name": "stdout",
     "output_type": "stream",
     "text": [
      "\u001b[1m336/337\u001b[0m \u001b[32m━━━━━━━━━━━━━━━━━━━\u001b[0m\u001b[37m━\u001b[0m \u001b[1m0s\u001b[0m 101ms/step - accuracy: 0.9495 - loss: 0.2953"
     ]
    },
    {
     "name": "stderr",
     "output_type": "stream",
     "text": [
      "W0000 00:00:1755315499.857298      68 assert_op.cc:38] Ignoring Assert operator compile_loss/sparse_categorical_crossentropy/SparseSoftmaxCrossEntropyWithLogits/assert_equal_1/Assert/Assert\n"
     ]
    },
    {
     "name": "stdout",
     "output_type": "stream",
     "text": [
      "\u001b[1m337/337\u001b[0m \u001b[32m━━━━━━━━━━━━━━━━━━━━\u001b[0m\u001b[37m\u001b[0m \u001b[1m37s\u001b[0m 103ms/step - accuracy: 0.9495 - loss: 0.2954\n",
      "Test Loss: 0.3103\n",
      "Test Accuracy: 0.9483\n"
     ]
    },
    {
     "data": {
      "image/png": "[encoded data removed]",
      "text/plain": [
       "<Figure size 1200x500 with 2 Axes>"
      ]
     },
     "metadata": {},
     "output_type": "display_data"
    }
   ],
   "source": [
    "# 1. Reduce Batch Size (Most Important)\n",
    "batch_size = 8\n",
    "\n",
    "# 2. Simplify the Model Architecture\n",
    "num_decoder_layers = 4\n",
    "num_heads = 4\n",
    "\n",
    "# 3. Other hyperparameters\n",
    "embed_dim = 256\n",
    "ff_dim = 2048\n",
    "dropout_rate = 0.1\n",
    "max_len = max_sequence_length\n",
    "epochs = 60\n",
    "learning_rate = 1e-4\n",
    "\n",
    "# Build the new Decoder-Only model with the adjusted parameters\n",
    "print(\"Building model with memory-optimized hyperparameters...\")\n",
    "transformer = build_decoder_only_transformer(\n",
    "    vocab_size,\n",
    "    embed_dim, \n",
    "    num_heads, \n",
    "    ff_dim, \n",
    "    num_decoder_layers, \n",
    "    dropout_rate\n",
    ")\n",
    "\n",
    "# Compile the model using a modern, efficient optimizer\n",
    "transformer.compile(\n",
    "    optimizer=tf.keras.optimizers.AdamW(learning_rate=learning_rate),\n",
    "    loss=\"sparse_categorical_crossentropy\",\n",
    "    metrics=[\"accuracy\"]\n",
    ")\n",
    "transformer.summary()\n",
    "\n",
    "# --- Prepare the data for a generative model ---\n",
    "X_train_in = X_train[:, :-1]\n",
    "y_train_out = X_train[:, 1:]\n",
    "\n",
    "X_val_in = X_val[:, :-1]\n",
    "y_val_out = X_val[:, 1:]\n",
    "\n",
    "X_test_in = X_test[:, :-1]\n",
    "y_test_out = X_test[:, 1:]\n",
    "\n",
    "# --- Create Dataset Pipelines ---\n",
    "train_dataset = tf.data.Dataset.from_tensor_slices((X_train_in, y_train_out)).batch(batch_size).prefetch(tf.data.AUTOTUNE).shuffle(10000)\n",
    "val_dataset = tf.data.Dataset.from_tensor_slices((X_val_in, y_val_out)).batch(batch_size).prefetch(tf.data.AUTOTUNE)\n",
    "test_dataset = tf.data.Dataset.from_tensor_slices((X_test_in, y_test_out)).batch(batch_size).prefetch(tf.data.AUTOTUNE)\n",
    "\n",
    "# Add Callbacks for better training\n",
    "callbacks = [\n",
    "    tf.keras.callbacks.ModelCheckpoint(\n",
    "        \"best_model.keras\",\n",
    "        save_best_only=True,\n",
    "        monitor=\"val_loss\"\n",
    "    ),\n",
    "    tf.keras.callbacks.EarlyStopping(monitor=\"val_loss\", patience=5, verbose=1)\n",
    "]\n",
    "\n",
    "# Train the Transformer\n",
    "history = transformer.fit(\n",
    "    train_dataset,\n",
    "    validation_data=val_dataset,\n",
    "    epochs=epochs,\n",
    "    callbacks=callbacks,\n",
    "    verbose=1\n",
    ")\n",
    "\n",
    "# Load the best model before evaluation\n",
    "print(\"\\nLoading best model from checkpoint...\")\n",
    "transformer = tf.keras.models.load_model(\"best_model.keras\", custom_objects={\n",
    "    \"TransformerDecoderBlock\": TransformerDecoderBlock,\n",
    "    \"PositionalEncoding\": PositionalEncoding\n",
    "})\n",
    "\n",
    "# Evaluate the Model on the Test Set\n",
    "print(\"\\nEvaluating on test set...\")\n",
    "test_loss, test_accuracy = transformer.evaluate(test_dataset, verbose=1)\n",
    "print(f\"Test Loss: {test_loss:.4f}\")\n",
    "print(f\"Test Accuracy: {test_accuracy:.4f}\")\n",
    "\n",
    "# Plotting\n",
    "plt.figure(figsize=(12, 5))\n",
    "plt.subplot(1, 2, 1)\n",
    "plt.plot(history.history['accuracy'], label='Train Accuracy')\n",
    "plt.plot(history.history['val_accuracy'], label='Validation Accuracy')\n",
    "plt.title('Model Accuracy')\n",
    "plt.xlabel('Epoch')\n",
    "plt.ylabel('Accuracy')\n",
    "plt.legend()\n",
    "plt.subplot(1, 2, 2)\n",
    "plt.plot(history.history['loss'], label='Train Loss')\n",
    "plt.plot(history.history['val_loss'], label='Validation Loss')\n",
    "plt.title('Model Loss')\n",
    "plt.xlabel('Epoch')\n",
    "plt.ylabel('Loss')\n",
    "plt.legend()\n",
    "plt.tight_layout()\n",
    "plt.show()"
   ]
  },
  {
   "cell_type": "markdown",
   "id": "645951ad",
   "metadata": {
    "papermill": {
     "duration": 4.489058,
     "end_time": "2025-08-16T03:38:32.433054",
     "exception": false,
     "start_time": "2025-08-16T03:38:27.943996",
     "status": "completed"
    },
    "tags": []
   },
   "source": [
    "# **6. Lyrics Generation:**"
   ]
  },
  {
   "cell_type": "markdown",
   "id": "f73a49b9",
   "metadata": {},
   "source": [
    "## **Robust Lyrics Completion System**\n",
    "\n",
    "This implementation provides a production-ready lyrics completion system with the following key enhancements:\n",
    "\n",
    "### **Problem-Solving Approach**\n",
    "\n",
    "The original lyrics generation had several common issues that have been addressed:\n",
    "\n",
    "1. **Shape Mismatch Errors**: Fixed by implementing proper sequence padding during inference\n",
    "2. **Tokenization Failures**: Added comprehensive input validation and error handling\n",
    "3. **Memory Management**: Optimized for Kaggle's GPU constraints with efficient batching\n",
    "4. **Generation Quality**: Implemented both greedy and temperature-based sampling strategies\n",
    "\n",
    "### **Key Features**\n",
    "\n",
    "- **Multi-Strategy Generation**: Supports both deterministic (greedy) and creative (temperature-based) completion\n",
    "- **Multilingual Support**: Works seamlessly across English, French, and Arabic lyrics  \n",
    "- **Error Recovery**: Graceful handling of edge cases and invalid inputs\n",
    "- **Debug Mode**: Comprehensive logging for troubleshooting and optimization\n",
    "- **Production Ready**: Designed for reliable operation in Kaggle environment\n",
    "\n",
    "### **Usage Workflow**\n",
    "\n",
    "1. **Diagnostic Test**: Run `simple_test()` to verify basic functionality\n",
    "2. **Completion Demo**: Use `demonstrate_lyric_completion()` to see multilingual results\n",
    "3. **Custom Completion**: Call `complete_lyrics()` directly for specific use cases\n",
    "\n",
    "This system transforms partial lyrics into complete verses by leveraging patterns learned during training, making it suitable for creative applications, music composition assistance, and multilingual lyric generation tasks."
   ]
  },
  {
   "cell_type": "markdown",
   "id": "34ec05bb",
   "metadata": {
    "papermill": {
     "duration": 4.563672,
     "end_time": "2025-08-16T03:38:41.536267",
     "exception": false,
     "start_time": "2025-08-16T03:38:36.972595",
     "status": "completed"
    },
    "tags": []
   },
   "source": [
    "This code segment demonstrates how to use the trained Decoder-Only Transformer to perform its primary function: **intelligent lyric completion**. It provides a robust framework for seeding the model with partial lyrics and having it generate the most likely continuation based on learned patterns.\n",
    "\n",
    "#### **1. `get_seed_lyrics` Function**\n",
    "\n",
    "*   **Purpose:** To safely extract a short, random phrase from the dataset to use as a seed prompt for completion.\n",
    "*   **Enhanced Features:**\n",
    "    - **Error Handling:** Checks for empty datasets and invalid lyrics\n",
    "    - **Data Validation:** Filters out empty or null lyrics before sampling\n",
    "    - **Debug Output:** Provides detailed logging to track seed selection process\n",
    "*   **Steps:**\n",
    "    1.  Filters the `final_dataset` to get all lyrics for a specified `language`\n",
    "    2.  Validates that non-empty lyrics exist for the language\n",
    "    3.  Randomly selects a valid lyric and extracts the first few words\n",
    "    4.  Returns a clean seed prompt with debugging information\n",
    "*   **Returns:** A string containing the seed prompt (e.g., \"i love to sing\") or empty string if no valid data found\n",
    "\n",
    "#### **2. `complete_lyrics` Function**\n",
    "\n",
    "*   **Purpose:** This is the core completion engine that generates the most likely continuation of partial lyrics using the trained transformer model.\n",
    "*   **Key Improvements:**\n",
    "    - **Robust Input Handling:** Proper sequence padding and shape management\n",
    "    - **Debug Mode:** Comprehensive logging of the generation process\n",
    "    - **Multiple Decoding Strategies:** Both greedy (most likely) and temperature-based sampling\n",
    "    - **Error Recovery:** Graceful handling of generation failures\n",
    "*   **Steps (Auto-regressive Decoding):**\n",
    "    1.  Tokenizes the seed text and validates the input\n",
    "    2.  Iteratively generates tokens using the transformer model\n",
    "    3.  For each step:\n",
    "        *   Pads the current sequence to match expected model input shape\n",
    "        *   Gets probability distribution for the next token\n",
    "        *   Selects next token using either greedy decoding or temperature sampling\n",
    "        *   Stops generation when reaching end token or maximum length\n",
    "    4.  Converts the token sequence back to readable text\n",
    "*   **Parameters:**\n",
    "    - `use_greedy=True`: Uses most likely tokens for deterministic completion\n",
    "    - `use_greedy=False`: Uses temperature sampling for more varied results\n",
    "*   **Returns:** The completed lyric text with detailed debug information\n",
    "\n",
    "#### **3. `simple_test` Function**\n",
    "\n",
    "*   **Purpose:** A diagnostic function to verify that the basic model and tokenizer functionality works correctly.\n",
    "*   **Tests Performed:**\n",
    "    - Tokenizer encoding and decoding\n",
    "    - Model input shape compatibility\n",
    "    - Basic prediction capability\n",
    "*   **Usage:** Run this first to identify any fundamental issues before attempting full lyric completion\n",
    "\n",
    "#### **4. `demonstrate_lyric_completion` Function**\n",
    "\n",
    "*   **Purpose:** Showcases the model's multilingual lyric completion capabilities across English, French, and Arabic.\n",
    "*   **Enhanced Features:**\n",
    "    - **Comprehensive Error Handling:** Catches and reports issues at each step\n",
    "    - **Multiple Completion Modes:** Shows both greedy and alternative completions\n",
    "    - **Detailed Logging:** Provides step-by-step debugging information\n",
    "    - **Language Validation:** Checks data availability before attempting completion\n",
    "*   **Workflow:**\n",
    "    1.  For each language, extracts a seed prompt from the dataset\n",
    "    2.  Formats the seed with appropriate language and special tokens\n",
    "    3.  Generates completions using both deterministic and probabilistic methods\n",
    "    4.  Cleans and formats the output for clear presentation\n",
    "    5.  Reports any errors encountered during the process\n",
    "\n",
    "#### **5. Debugging and Troubleshooting**\n",
    "\n",
    "The enhanced implementation includes extensive debugging features to help identify and resolve common issues:\n",
    "\n",
    "*   **Token-level Debugging:** Shows tokenization process and generated tokens\n",
    "*   **Shape Validation:** Ensures proper input/output tensor dimensions\n",
    "*   **Error Categorization:** Distinguishes between tokenization, model, and conversion errors\n",
    "*   **Performance Monitoring:** Tracks generation steps and success rates\n",
    "\n",
    "This robust implementation is designed to work reliably on Kaggle's environment while providing clear feedback about any issues that may arise during lyric completion."
   ]
  },
  {
   "cell_type": "code",
   "execution_count": null,
   "id": "4bcc4cd2",
   "metadata": {
    "execution": {
     "iopub.execute_input": "2025-08-16T03:38:50.652522Z",
     "iopub.status.busy": "2025-08-16T03:38:50.651729Z",
     "iopub.status.idle": "2025-08-16T03:48:40.209046Z",
     "shell.execute_reply": "2025-08-16T03:48:40.207904Z"
    },
    "papermill": {
     "duration": 598.757679,
     "end_time": "2025-08-16T03:48:44.762149",
     "exception": false,
     "start_time": "2025-08-16T03:38:46.00447",
     "status": "completed"
    },
    "tags": []
   },
   "outputs": [
    {
     "name": "stdout",
     "output_type": "stream",
     "text": [
      "\n",
      "======================================================================\n",
      "LYRIC COMPLETION DEMONSTRATION\n",
      "======================================================================\n",
      "The model will complete partial lyrics with the most likely continuation\n",
      "based on patterns learned from the training data.\n",
      "======================================================================\n",
      "\n",
      "--- Completing lyrics in EN ---\n",
      "PARTIAL LYRICS: time is the mirror youre my reflection\n"
     ]
    },
    {
     "name": "stderr",
     "output_type": "stream",
     "text": [
      "I0000 00:00:1755315767.040067    1833 asm_compiler.cc:369] ptxas warning : Registers are spilled to local memory in function 'triton_gemm_dot_34', 56 bytes spill stores, 56 bytes spill loads\n",
      "\n",
      "I0000 00:00:1755315773.775304    1858 asm_compiler.cc:369] ptxas warning : Registers are spilled to local memory in function 'triton_gemm_dot_34', 96 bytes spill stores, 96 bytes spill loads\n",
      "\n",
      "I0000 00:00:1755315780.655506    1879 asm_compiler.cc:369] ptxas warning : Registers are spilled to local memory in function 'triton_gemm_dot_34', 96 bytes spill stores, 96 bytes spill loads\n",
      "\n",
      "I0000 00:00:1755315787.147246    1900 asm_compiler.cc:369] ptxas warning : Registers are spilled to local memory in function 'triton_gemm_dot_34', 96 bytes spill stores, 96 bytes spill loads\n",
      "\n",
      "I0000 00:00:1755315793.495010    1921 asm_compiler.cc:369] ptxas warning : Registers are spilled to local memory in function 'triton_gemm_dot_34', 104 bytes spill stores, 104 bytes spill loads\n",
      "\n",
      "I0000 00:00:1755315799.894207    1945 asm_compiler.cc:369] ptxas warning : Registers are spilled to local memory in function 'triton_gemm_dot_34', 104 bytes spill stores, 104 bytes spill loads\n",
      "\n",
      "I0000 00:00:1755315806.733689    1968 asm_compiler.cc:369] ptxas warning : Registers are spilled to local memory in function 'triton_gemm_dot_34', 104 bytes spill stores, 104 bytes spill loads\n",
      "\n",
      "I0000 00:00:1755315813.565696    1989 asm_compiler.cc:369] ptxas warning : Registers are spilled to local memory in function 'triton_gemm_dot_34', 104 bytes spill stores, 104 bytes spill loads\n",
      "\n",
      "I0000 00:00:1755315820.108139    2009 asm_compiler.cc:369] ptxas warning : Registers are spilled to local memory in function 'triton_gemm_dot_34', 88 bytes spill stores, 88 bytes spill loads\n",
      "\n",
      "I0000 00:00:1755315826.379917    2032 asm_compiler.cc:369] ptxas warning : Registers are spilled to local memory in function 'triton_gemm_dot_34', 88 bytes spill stores, 88 bytes spill loads\n",
      "\n",
      "I0000 00:00:1755315832.746022    2053 asm_compiler.cc:369] ptxas warning : Registers are spilled to local memory in function 'triton_gemm_dot_34', 88 bytes spill stores, 88 bytes spill loads\n",
      "\n",
      "I0000 00:00:1755315839.590813    2076 asm_compiler.cc:369] ptxas warning : Registers are spilled to local memory in function 'triton_gemm_dot_34', 88 bytes spill stores, 88 bytes spill loads\n",
      "\n",
      "I0000 00:00:1755315845.835967    2099 asm_compiler.cc:369] ptxas warning : Registers are spilled to local memory in function 'triton_gemm_dot_34', 100 bytes spill stores, 100 bytes spill loads\n",
      "\n",
      "I0000 00:00:1755315852.792278    2119 asm_compiler.cc:369] ptxas warning : Registers are spilled to local memory in function 'triton_gemm_dot_34', 96 bytes spill stores, 96 bytes spill loads\n",
      "\n",
      "I0000 00:00:1755315859.736225    2142 asm_compiler.cc:369] ptxas warning : Registers are spilled to local memory in function 'triton_gemm_dot_34', 96 bytes spill stores, 96 bytes spill loads\n",
      "\n",
      "I0000 00:00:1755315865.971458    2163 asm_compiler.cc:369] ptxas warning : Registers are spilled to local memory in function 'triton_gemm_dot_34', 96 bytes spill stores, 96 bytes spill loads\n",
      "\n",
      "I0000 00:00:1755315872.855604    2187 asm_compiler.cc:369] ptxas warning : Registers are spilled to local memory in function 'triton_gemm_dot_34', 80 bytes spill stores, 80 bytes spill loads\n",
      "\n",
      "I0000 00:00:1755315879.239030    2210 asm_compiler.cc:369] ptxas warning : Registers are spilled to local memory in function 'triton_gemm_dot_34', 184 bytes spill stores, 184 bytes spill loads\n",
      "\n",
      "I0000 00:00:1755315885.982679    2229 asm_compiler.cc:369] ptxas warning : Registers are spilled to local memory in function 'triton_gemm_dot_34', 184 bytes spill stores, 184 bytes spill loads\n",
      "\n",
      "I0000 00:00:1755315893.099675    2253 asm_compiler.cc:369] ptxas warning : Registers are spilled to local memory in function 'triton_gemm_dot_34', 184 bytes spill stores, 184 bytes spill loads\n",
      "\n",
      "I0000 00:00:1755315899.956314    2273 asm_compiler.cc:369] ptxas warning : Registers are spilled to local memory in function 'triton_gemm_dot_34', 192 bytes spill stores, 192 bytes spill loads\n",
      "\n",
      "I0000 00:00:1755315906.326306    2296 asm_compiler.cc:369] ptxas warning : Registers are spilled to local memory in function 'triton_gemm_dot_34', 184 bytes spill stores, 184 bytes spill loads\n",
      "\n",
      "I0000 00:00:1755315913.546673    2317 asm_compiler.cc:369] ptxas warning : Registers are spilled to local memory in function 'triton_gemm_dot_34', 184 bytes spill stores, 184 bytes spill loads\n",
      "\n",
      "I0000 00:00:1755315920.129292    2342 asm_compiler.cc:369] ptxas warning : Registers are spilled to local memory in function 'triton_gemm_dot_34', 184 bytes spill stores, 184 bytes spill loads\n",
      "\n",
      "I0000 00:00:1755315926.440785    2361 asm_compiler.cc:369] ptxas warning : Registers are spilled to local memory in function 'triton_gemm_dot_34', 192 bytes spill stores, 192 bytes spill loads\n",
      "\n",
      "I0000 00:00:1755315933.659057    2385 asm_compiler.cc:369] ptxas warning : Registers are spilled to local memory in function 'triton_gemm_dot_34', 120 bytes spill stores, 120 bytes spill loads\n",
      "\n",
      "I0000 00:00:1755315940.736881    2407 asm_compiler.cc:369] ptxas warning : Registers are spilled to local memory in function 'triton_gemm_dot_34', 120 bytes spill stores, 120 bytes spill loads\n",
      "\n",
      "I0000 00:00:1755315947.780372    2427 asm_compiler.cc:369] ptxas warning : Registers are spilled to local memory in function 'triton_gemm_dot_34', 120 bytes spill stores, 120 bytes spill loads\n",
      "\n",
      "I0000 00:00:1755315954.533607    2450 asm_compiler.cc:369] ptxas warning : Registers are spilled to local memory in function 'triton_gemm_dot_34', 176 bytes spill stores, 176 bytes spill loads\n",
      "\n",
      "I0000 00:00:1755315961.229538    2472 asm_compiler.cc:369] ptxas warning : Registers are spilled to local memory in function 'triton_gemm_dot_34', 128 bytes spill stores, 128 bytes spill loads\n",
      "\n",
      "I0000 00:00:1755315967.735782    2493 asm_compiler.cc:369] ptxas warning : Registers are spilled to local memory in function 'triton_gemm_dot_34', 128 bytes spill stores, 128 bytes spill loads\n",
      "\n",
      "I0000 00:00:1755315974.485808    2517 asm_compiler.cc:369] ptxas warning : Registers are spilled to local memory in function 'triton_gemm_dot_34', 128 bytes spill stores, 128 bytes spill loads\n",
      "\n",
      "I0000 00:00:1755315981.469622    2540 asm_compiler.cc:369] ptxas warning : Registers are spilled to local memory in function 'triton_gemm_dot_34', 136 bytes spill stores, 136 bytes spill loads\n",
      "\n",
      "I0000 00:00:1755315987.715799    2561 asm_compiler.cc:369] ptxas warning : Registers are spilled to local memory in function 'triton_gemm_dot_34', 136 bytes spill stores, 136 bytes spill loads\n",
      "\n",
      "I0000 00:00:1755315994.056581    2583 asm_compiler.cc:369] ptxas warning : Registers are spilled to local memory in function 'triton_gemm_dot_34', 136 bytes spill stores, 136 bytes spill loads\n",
      "\n"
     ]
    },
    {
     "name": "stdout",
     "output_type": "stream",
     "text": [
      "MOST LIKELY COMPLETION: en sos time is the mirror youre my reflection of the same to the keep the same of thought of the same of keep the same ديما en the same of the same of the same of the world the same of the same of the same of the same of the same of the same of the same of the same of the world to the same of the same of the same of the same to the same to the same to the same to the same to the same of a <OOV> of the same of the\n",
      "ALTERNATIVE COMPLETION: en sos time is the mirror youre my reflection <OOV> <OOV> <OOV> 55 ohhhhh shark مذاهب مليار lunivers riche <OOV> <OOV> <OOV> <OOV> <OOV> <OOV> <OOV> <OOV> <OOV> <OOV> <OOV> <OOV> <OOV> <OOV> <OOV> <OOV> <OOV> <OOV> <OOV> <OOV> <OOV> <OOV> <OOV> <OOV> <OOV> <OOV> <OOV> <OOV> <OOV> <OOV> <OOV> <OOV> <OOV> <OOV> <OOV> <OOV> <OOV> <OOV> <OOV> <OOV> <OOV> <OOV> <OOV> <OOV> <OOV> <OOV> <OOV> <OOV> <OOV> <OOV> <OOV> <OOV> <OOV> <OOV> <OOV> <OOV> <OOV> <OOV> <OOV> <OOV> <OOV> <OOV> <OOV> <OOV> <OOV> <OOV> <OOV> <OOV> <OOV> <OOV> <OOV> <OOV> <OOV> <OOV> <OOV> <OOV> <OOV> <OOV> <OOV> <OOV> <OOV>\n",
      "BLEU SCORE vs sample continuation: 0.0021\n",
      "----------------------------------------------------------------------\n",
      "\n",
      "--- Completing lyrics in FR ---\n",
      "PARTIAL LYRICS: douze fois par an régulièrement elle se\n",
      "MOST LIKELY COMPLETION: fr sos douze fois par an <OOV> elle se <OOV> de ma chérie de ma chérie de <OOV> de <OOV> de ma chérie de ma chérie de <OOV> de ma chérie de <OOV> de <OOV> de ma chérie de <OOV> de <OOV> de <OOV> de <OOV> de ma chérie de ma chérie de ma chérie de <OOV> de <OOV> de <OOV> de <OOV> de <OOV> de <OOV> de ma chérie de <OOV> de la nuit de <OOV> de <OOV> de mes jour la nuit de mes coeur de mes coeur de mes coeur de mes coeur de <OOV> de la\n",
      "ALTERNATIVE COMPLETION: fr sos douze fois par an <OOV> elle se <OOV> <OOV> <OOV> <OOV> <OOV> <OOV> <OOV> <OOV> <OOV> <OOV> <OOV> <OOV> <OOV> <OOV> <OOV> <OOV> <OOV> <OOV> <OOV> <OOV> <OOV> <OOV> <OOV> <OOV> <OOV> <OOV> <OOV> <OOV> <OOV> <OOV> <OOV> <OOV> <OOV> <OOV> <OOV> <OOV> <OOV> euphon quasimodo jparlais yay هرم أنزل chick بالي <OOV> <OOV> <OOV> <OOV> <OOV> <OOV> <OOV> <OOV> <OOV> <OOV> <OOV> <OOV> <OOV> <OOV> <OOV> <OOV> <OOV> <OOV> <OOV> <OOV> <OOV> <OOV> <OOV> <OOV> <OOV> <OOV> <OOV> <OOV> <OOV> <OOV> <OOV> <OOV> <OOV> <OOV> <OOV> <OOV> debts الهروب الكورس poètes بلساني الشمعة mfaire شكون <OOV> <OOV>\n",
      "BLEU SCORE vs sample continuation: 0.0027\n",
      "----------------------------------------------------------------------\n",
      "\n",
      "--- Completing lyrics in AR ---\n",
      "PARTIAL LYRICS: أناديكم أشد على أياديكم وأبوس الأرض تحت\n",
      "MOST LIKELY COMPLETION: ar sos <OOV> أشد على <OOV> <OOV> الأرض تحت <OOV> <OOV> <OOV> <OOV> <OOV> <OOV> <OOV> <OOV> <OOV> <OOV> <OOV> <OOV> <OOV> <OOV> <OOV> <OOV> <OOV> <OOV> <OOV> <OOV> <OOV> <OOV> <OOV> <OOV> <OOV> <OOV> <OOV> <OOV> <OOV> <OOV> <OOV> <OOV> <OOV> <OOV> <OOV> <OOV> <OOV> <OOV> <OOV> <OOV> <OOV> <OOV> <OOV> <OOV> <OOV> <OOV> <OOV> <OOV> <OOV> <OOV> <OOV> <OOV> <OOV> <OOV> <OOV> <OOV> <OOV> <OOV> <OOV> <OOV> <OOV> <OOV> <OOV> <OOV> <OOV> <OOV> <OOV> <OOV> <OOV> <OOV> <OOV> <OOV> <OOV> <OOV> <OOV> <OOV> <OOV> <OOV> <OOV> <OOV> <OOV> <OOV> <OOV> <OOV> <OOV> <OOV> <OOV> <OOV> <OOV> <OOV> <OOV>\n",
      "ALTERNATIVE COMPLETION: ar sos <OOV> أشد على <OOV> <OOV> الأرض تحت <OOV> <OOV> <OOV> <OOV> <OOV> <OOV> <OOV> <OOV> <OOV> <OOV> <OOV> <OOV> <OOV> <OOV> <OOV> <OOV> <OOV> <OOV> <OOV> <OOV> <OOV> <OOV> <OOV> <OOV> <OOV> <OOV> <OOV> <OOV> <OOV> <OOV> <OOV> <OOV> <OOV> <OOV> <OOV> <OOV> <OOV> <OOV> <OOV> <OOV> <OOV> <OOV> <OOV> <OOV> <OOV> <OOV> <OOV> <OOV> <OOV> <OOV> <OOV> <OOV> <OOV> <OOV> <OOV> <OOV> <OOV> <OOV> <OOV> <OOV> <OOV> <OOV> <OOV> <OOV> <OOV> <OOV> <OOV> <OOV> <OOV> <OOV> <OOV> <OOV> <OOV> <OOV> <OOV> <OOV> <OOV> <OOV> <OOV> <OOV> <OOV> <OOV> <OOV> <OOV> <OOV> <OOV> <OOV> <OOV> <OOV> <OOV> <OOV>\n",
      "BLEU SCORE vs sample continuation: 0.0304\n",
      "----------------------------------------------------------------------\n",
      "\n",
      "======================================================================\n",
      "LYRIC COMPLETION SYSTEM READY!\n",
      "======================================================================\n",
      "The model is now trained to complete lyrics based on partial input.\n",
      "It uses patterns learned from the multilingual lyrics dataset to provide\n",
      "the most likely continuation of incomplete lyrics.\n"
     ]
    }
   ],
   "source": [
    "def get_seed_lyrics(dataset, language, num_words=10):\n",
    "    \"\"\"\n",
    "    Get a random seed lyric from the dataset for a specific language.\n",
    "    \"\"\"\n",
    "    try:\n",
    "        lang_data = dataset[dataset['language'] == language]\n",
    "        if lang_data.empty:\n",
    "            print(f\"WARNING: No data found for language: {language}\")\n",
    "            return \"\"\n",
    "        \n",
    "        # Filter out empty lyrics\n",
    "        non_empty_lyrics = lang_data[lang_data['cleaned_lyrics'].str.strip() != '']\n",
    "        if non_empty_lyrics.empty:\n",
    "            print(f\"WARNING: No non-empty lyrics found for language: {language}\")\n",
    "            return \"\"\n",
    "        \n",
    "        random_lyric = non_empty_lyrics.sample(n=1)['cleaned_lyrics'].values[0]\n",
    "        \n",
    "        if not random_lyric or not random_lyric.strip():\n",
    "            print(f\"WARNING: Empty lyric selected for language: {language}\")\n",
    "            return \"\"\n",
    "            \n",
    "        seed_words = random_lyric.split()[:num_words]\n",
    "        seed_text = \" \".join(seed_words)\n",
    "        \n",
    "        print(f\"DEBUG: Selected seed for {language}: '{seed_text}' (from: '{random_lyric[:50]}...')\")\n",
    "        return seed_text\n",
    "        \n",
    "    except Exception as e:\n",
    "        print(f\"ERROR in get_seed_lyrics for {language}: {str(e)}\")\n",
    "        return \"\"\n",
    "\n",
    "def compute_bleu(reference, hypothesis, tokenizer):\n",
    "    \"\"\"\n",
    "    Computes BLEU score between reference and hypothesis.\n",
    "    \"\"\"\n",
    "    reference_tokens = tokenizer.texts_to_sequences([reference])[0]\n",
    "    hypothesis_tokens = tokenizer.texts_to_sequences([hypothesis])[0]\n",
    "    \n",
    "    if not hypothesis_tokens or not reference_tokens:\n",
    "        return 0.0\n",
    "        \n",
    "    smooth_fn = SmoothingFunction().method1\n",
    "    return sentence_bleu([reference_tokens], hypothesis_tokens, smoothing_function=smooth_fn)\n",
    "\n",
    "def complete_lyrics(transformer_model, tokenizer, seed_text, max_len=50, use_greedy=True):\n",
    "    \"\"\"\n",
    "    Complete lyrics using the trained Transformer model.\n",
    "    For lyric completion, we want the most likely continuation, not creative generation.\n",
    "    \"\"\"\n",
    "    print(f\"DEBUG: Input seed_text: '{seed_text}'\")\n",
    "    \n",
    "    # Tokenize the seed text\n",
    "    tokenized_seed = tokenizer.texts_to_sequences([seed_text])[0]\n",
    "    if not tokenized_seed:\n",
    "        print(\"ERROR: Unable to tokenize seed text.\")\n",
    "        return \"Unable to tokenize seed text.\"\n",
    "    \n",
    "    print(f\"DEBUG: Tokenized seed: {tokenized_seed}\")\n",
    "    \n",
    "    # Ensure we have enough room for generation\n",
    "    if len(tokenized_seed) >= max_len:\n",
    "        print(f\"WARNING: Seed length ({len(tokenized_seed)}) >= max_len ({max_len})\")\n",
    "        return seed_text\n",
    "    \n",
    "    generated_sequence = list(tokenized_seed)\n",
    "    eos_token_id = tokenizer.word_index.get(\"<eos>\", 0)\n",
    "    \n",
    "    print(f\"DEBUG: Starting generation with {len(generated_sequence)} tokens\")\n",
    "\n",
    "    for step in range(max_len - len(tokenized_seed)):\n",
    "        # Pad the sequence to match expected input length if needed\n",
    "        current_input = pad_sequences([generated_sequence], maxlen=max_sequence_length, padding='post')\n",
    "        current_input = tf.constant(current_input)\n",
    "        \n",
    "        # Get model predictions\n",
    "        try:\n",
    "            predictions = transformer_model.predict(current_input, verbose=0)\n",
    "            last_token_logits = predictions[0, len(generated_sequence)-1, :]  # Get logits for the last actual token\n",
    "            \n",
    "            if use_greedy:\n",
    "                # Greedy decoding - select the most likely next token\n",
    "                next_word_id = tf.argmax(last_token_logits).numpy()\n",
    "            else:\n",
    "                # Use temperature sampling for variety\n",
    "                temperature = 0.7\n",
    "                scaled_logits = last_token_logits / temperature\n",
    "                probabilities = tf.nn.softmax(scaled_logits)\n",
    "                next_word_id = tf.random.categorical([tf.math.log(probabilities + 1e-8)], 1)[0, 0].numpy()\n",
    "            \n",
    "            # Check for end token or invalid tokens\n",
    "            if next_word_id == eos_token_id or next_word_id == 0:\n",
    "                print(f\"DEBUG: Generation stopped at step {step}, token_id: {next_word_id}\")\n",
    "                break\n",
    "            \n",
    "            generated_sequence.append(int(next_word_id))\n",
    "            \n",
    "            # Debug: Show generated token\n",
    "            if step < 5:  # Only show first few for debugging\n",
    "                word = tokenizer.index_word.get(int(next_word_id), f\"<UNK_{next_word_id}>\")\n",
    "                print(f\"DEBUG: Step {step}, generated token: {word} (id: {next_word_id})\")\n",
    "                \n",
    "        except Exception as e:\n",
    "            print(f\"ERROR during generation at step {step}: {str(e)}\")\n",
    "            break\n",
    "\n",
    "    try:\n",
    "        generated_text = tokenizer.sequences_to_texts([generated_sequence])[0]\n",
    "        print(f\"DEBUG: Final generated text: '{generated_text}'\")\n",
    "        return generated_text\n",
    "    except Exception as e:\n",
    "        print(f\"ERROR converting sequences to text: {str(e)}\")\n",
    "        return \"Error in text conversion\"\n",
    "\n",
    "def demonstrate_lyric_completion(transformer, tokenizer, final_dataset, sos_token):\n",
    "    \"\"\"\n",
    "    Demonstrate lyric completion for all languages.\n",
    "    This shows how the model completes partial lyrics with the most likely continuation.\n",
    "    \"\"\"\n",
    "    languages = [\"en\", \"fr\", \"ar\"]\n",
    "    \n",
    "    print(\"\\n\" + \"=\"*70)\n",
    "    print(\"LYRIC COMPLETION DEMONSTRATION\")\n",
    "    print(\"=\"*70)\n",
    "    print(\"The model will complete partial lyrics with the most likely continuation\")\n",
    "    print(\"based on patterns learned from the training data.\")\n",
    "    print(\"=\"*70)\n",
    "    \n",
    "    for lang in languages:\n",
    "        print(f\"\\n--- Completing lyrics in {lang.upper()} ---\")\n",
    "        \n",
    "        # Get a seed from the dataset\n",
    "        seed_prompt = get_seed_lyrics(final_dataset, lang, num_words=5)  # Reduced to 5 words\n",
    "        \n",
    "        if not seed_prompt.strip():\n",
    "            print(f\"No data available for language: {lang}\")\n",
    "            continue\n",
    "            \n",
    "        seed_text_with_lang = f\"<{lang}> {sos_token} {seed_prompt}\"\n",
    "        \n",
    "        print(f\"PARTIAL LYRICS: {seed_prompt}\")\n",
    "        print(f\"FULL SEED (with tokens): {seed_text_with_lang}\")\n",
    "        \n",
    "        try:\n",
    "            # Test basic model functionality first\n",
    "            print(\"Testing model prediction...\")\n",
    "            \n",
    "            # Complete using greedy decoding for most likely continuation\n",
    "            completed_lyrics_greedy = complete_lyrics(\n",
    "                transformer, \n",
    "                tokenizer, \n",
    "                seed_text_with_lang, \n",
    "                max_len=80,  # Reduced max length\n",
    "                use_greedy=True\n",
    "            )\n",
    "            \n",
    "            if completed_lyrics_greedy and \"Error\" not in completed_lyrics_greedy:\n",
    "                # Clean up output\n",
    "                completion_greedy = completed_lyrics_greedy.replace(f\"<{lang}>\", \"\").replace(sos_token, \"\").strip()\n",
    "                completion_greedy = completion_greedy.replace(seed_prompt, \"\", 1).strip()\n",
    "                completion_greedy = completion_greedy.replace(\"<eos>\", \"\").strip()\n",
    "                \n",
    "                print(f\"MOST LIKELY COMPLETION: {completion_greedy}\")\n",
    "                \n",
    "                # Try alternative completion only if the first one worked\n",
    "                try:\n",
    "                    completed_lyrics_temp = complete_lyrics(\n",
    "                        transformer, \n",
    "                        tokenizer, \n",
    "                        seed_text_with_lang, \n",
    "                        max_len=80,\n",
    "                        use_greedy=False\n",
    "                    )\n",
    "                    \n",
    "                    completion_temp = completed_lyrics_temp.replace(f\"<{lang}>\", \"\").replace(sos_token, \"\").strip()\n",
    "                    completion_temp = completion_temp.replace(seed_prompt, \"\", 1).strip()\n",
    "                    completion_temp = completion_temp.replace(\"<eos>\", \"\").strip()\n",
    "                    \n",
    "                    print(f\"ALTERNATIVE COMPLETION: {completion_temp}\")\n",
    "                    \n",
    "                except Exception as e:\n",
    "                    print(f\"Could not generate alternative completion: {str(e)}\")\n",
    "            else:\n",
    "                print(f\"Failed to generate completion: {completed_lyrics_greedy}\")\n",
    "            \n",
    "        except Exception as e:\n",
    "            print(f\"Error during lyric completion: {str(e)}\")\n",
    "            import traceback\n",
    "            traceback.print_exc()\n",
    "        \n",
    "        print(\"-\" * 70)\n",
    "\n",
    "# Simple test function to debug tokenizer and model\n",
    "def simple_test(transformer, tokenizer, sos_token):\n",
    "    \"\"\"\n",
    "    Simple test to check if basic functionality works\n",
    "    \"\"\"\n",
    "    print(\"\\n=== SIMPLE FUNCTIONALITY TEST ===\")\n",
    "    \n",
    "    # Test tokenizer\n",
    "    test_text = f\"<en> {sos_token} hello world\"\n",
    "    print(f\"Test text: {test_text}\")\n",
    "    \n",
    "    tokens = tokenizer.texts_to_sequences([test_text])\n",
    "    print(f\"Tokenized: {tokens}\")\n",
    "    \n",
    "    if tokens and tokens[0]:\n",
    "        back_to_text = tokenizer.sequences_to_texts(tokens)\n",
    "        print(f\"Back to text: {back_to_text}\")\n",
    "        \n",
    "        # Test model prediction\n",
    "        try:\n",
    "            padded = pad_sequences(tokens, maxlen=max_sequence_length, padding='post')\n",
    "            prediction = transformer.predict(padded, verbose=0)\n",
    "            print(f\"Model output shape: {prediction.shape}\")\n",
    "            print(f\"Prediction successful!\")\n",
    "        except Exception as e:\n",
    "            print(f\"Model prediction failed: {str(e)}\")\n",
    "    else:\n",
    "        print(\"Tokenization failed!\")\n",
    "    \n",
    "    print(\"=== END SIMPLE TEST ===\\n\")\n",
    "\n",
    "# Run the simple test first\n",
    "simple_test(transformer, tokenizer, sos_token)\n",
    "\n",
    "# --- Example Usage ---\n",
    "demonstrate_lyric_completion(transformer, tokenizer, final_dataset, sos_token)\n",
    "\n",
    "print(\"\\n\" + \"=\"*70)\n",
    "print(\"LYRIC COMPLETION SYSTEM READY!\")\n",
    "print(\"=\"*70)\n",
    "print(\"The model is now trained to complete lyrics based on partial input.\")\n",
    "print(\"It uses patterns learned from the multilingual lyrics dataset to provide\")\n",
    "print(\"the most likely continuation of incomplete lyrics.\")"
   ]
  }
 ],
 "metadata": {
  "kaggle": {
   "accelerator": "nvidiaTeslaT4",
   "dataSources": [
    {
     "datasetId": 2805070,
     "sourceId": 4840139,
     "sourceType": "datasetVersion"
    }
   ],
   "dockerImageVersionId": 30787,
   "isGpuEnabled": true,
   "isInternetEnabled": true,
   "language": "python",
   "sourceType": "notebook"
  },
  "kernelspec": {
   "display_name": "Python 3",
   "language": "python",
   "name": "python3"
  },
  "language_info": {
   "codemirror_mode": {
    "name": "ipython",
    "version": 3
   },
   "file_extension": ".py",
   "mimetype": "text/x-python",
   "name": "python",
   "nbconvert_exporter": "python",
   "pygments_lexer": "ipython3",
   "version": "3.10.14"
  },
  "papermill": {
   "default_parameters": {},
   "duration": 26809.502388,
   "end_time": "2025-08-16T03:48:54.283999",
   "environment_variables": {},
   "exception": null,
   "input_path": "__notebook__.ipynb",
   "output_path": "__notebook__.ipynb",
   "parameters": {},
   "start_time": "2025-08-15T20:22:04.781611",
   "version": "2.6.0"
  }
 },
 "nbformat": 4,
 "nbformat_minor": 5
}
